{
 "cells": [
  {
   "cell_type": "code",
   "execution_count": 1,
   "id": "fcd703f2",
   "metadata": {},
   "outputs": [
    {
     "data": {
      "text/html": [
       "<style>.container { width:100% !important; }</style>"
      ],
      "text/plain": [
       "<IPython.core.display.HTML object>"
      ]
     },
     "metadata": {},
     "output_type": "display_data"
    },
    {
     "name": "stdout",
     "output_type": "stream",
     "text": [
      "Setup Complete\n"
     ]
    }
   ],
   "source": [
    "# import time \n",
    "# import datetime\n",
    "# from datetime import datetime\n",
    "\n",
    "import numpy as np\n",
    "import pandas as pd\n",
    "\n",
    "import matplotlib\n",
    "import matplotlib.pyplot as plt\n",
    "import seaborn as sns\n",
    "sns.set_style('whitegrid')\n",
    "\n",
    "from sklearn import manifold\n",
    "from sklearn import model_selection\n",
    "from sklearn.model_selection import train_test_split, StratifiedKFold, KFold, cross_val_score, GridSearchCV, RepeatedStratifiedKFold, StratifiedShuffleSplit\n",
    "\n",
    "# from sklearn.preprocessing import StandardScaler\n",
    "# from sklearn.preprocessing import MinMaxScaler\n",
    "\n",
    "from sklearn import metrics\n",
    "from sklearn.metrics import mean_absolute_error, accuracy_score, roc_auc_score, mean_squared_error, r2_score, confusion_matrix, precision_score, recall_score, f1_score, auc, roc_curve, precision_recall_curve\n",
    "from sklearn.metrics import classification_report\n",
    "\n",
    "from sklearn import tree\n",
    "from sklearn import ensemble\n",
    "\n",
    "from sklearn.tree import DecisionTreeClassifier\n",
    "from sklearn.neighbors import KNeighborsClassifier\n",
    "\n",
    "import lightgbm as lgb\n",
    "\n",
    "import xgboost as xgb\n",
    "from xgboost import plot_importance\n",
    "from xgboost import XGBClassifier\n",
    "\n",
    "from catboost import CatBoostClassifier\n",
    "\n",
    "from itertools import permutations\n",
    "\n",
    "# import statsmodels.api as sm\n",
    "\n",
    "# from keras.models import Sequential\n",
    "# from keras.layers import LSTM\n",
    "# from keras.layers import Dropout\n",
    "# from keras.layers import Dense\n",
    "\n",
    "import warnings\n",
    "warnings.filterwarnings('ignore')\n",
    "\n",
    "from IPython.core.display import display, HTML\n",
    "display(HTML(\"<style>.container { width:100% !important; }</style>\"))\n",
    "\n",
    "print(\"Setup Complete\")"
   ]
  },
  {
   "cell_type": "markdown",
   "id": "15871d11",
   "metadata": {},
   "source": [
    "Feature importance CODE : https://www.kaggle.com/code/kimalpha/pump-sensor-data-2-feature-importance"
   ]
  },
  {
   "cell_type": "code",
   "execution_count": 2,
   "id": "e3f9485c",
   "metadata": {},
   "outputs": [
    {
     "data": {
      "text/html": [
       "<div>\n",
       "<style scoped>\n",
       "    .dataframe tbody tr th:only-of-type {\n",
       "        vertical-align: middle;\n",
       "    }\n",
       "\n",
       "    .dataframe tbody tr th {\n",
       "        vertical-align: top;\n",
       "    }\n",
       "\n",
       "    .dataframe thead th {\n",
       "        text-align: right;\n",
       "    }\n",
       "</style>\n",
       "<table border=\"1\" class=\"dataframe\">\n",
       "  <thead>\n",
       "    <tr style=\"text-align: right;\">\n",
       "      <th></th>\n",
       "      <th>Unnamed: 0</th>\n",
       "      <th>timestamp</th>\n",
       "      <th>sensor_00</th>\n",
       "      <th>sensor_01</th>\n",
       "      <th>sensor_02</th>\n",
       "      <th>sensor_03</th>\n",
       "      <th>sensor_04</th>\n",
       "      <th>sensor_05</th>\n",
       "      <th>sensor_06</th>\n",
       "      <th>sensor_07</th>\n",
       "      <th>...</th>\n",
       "      <th>sensor_41</th>\n",
       "      <th>sensor_42</th>\n",
       "      <th>sensor_43</th>\n",
       "      <th>sensor_44</th>\n",
       "      <th>sensor_45</th>\n",
       "      <th>sensor_46</th>\n",
       "      <th>sensor_47</th>\n",
       "      <th>sensor_48</th>\n",
       "      <th>sensor_49</th>\n",
       "      <th>operation</th>\n",
       "    </tr>\n",
       "  </thead>\n",
       "  <tbody>\n",
       "    <tr>\n",
       "      <th>0</th>\n",
       "      <td>0</td>\n",
       "      <td>2018-04-01 00:00:00</td>\n",
       "      <td>0.967194</td>\n",
       "      <td>0.830145</td>\n",
       "      <td>0.876660</td>\n",
       "      <td>0.884816</td>\n",
       "      <td>0.792242</td>\n",
       "      <td>0.764598</td>\n",
       "      <td>0.602472</td>\n",
       "      <td>0.683630</td>\n",
       "      <td>...</td>\n",
       "      <td>0.025424</td>\n",
       "      <td>0.027367</td>\n",
       "      <td>0.045424</td>\n",
       "      <td>0.014256</td>\n",
       "      <td>0.133858</td>\n",
       "      <td>0.071489</td>\n",
       "      <td>0.039791</td>\n",
       "      <td>0.245946</td>\n",
       "      <td>0.093853</td>\n",
       "      <td>0</td>\n",
       "    </tr>\n",
       "    <tr>\n",
       "      <th>1</th>\n",
       "      <td>1</td>\n",
       "      <td>2018-04-01 00:01:00</td>\n",
       "      <td>0.967194</td>\n",
       "      <td>0.830145</td>\n",
       "      <td>0.876660</td>\n",
       "      <td>0.884816</td>\n",
       "      <td>0.792242</td>\n",
       "      <td>0.764598</td>\n",
       "      <td>0.602472</td>\n",
       "      <td>0.683630</td>\n",
       "      <td>...</td>\n",
       "      <td>0.025424</td>\n",
       "      <td>0.027367</td>\n",
       "      <td>0.045424</td>\n",
       "      <td>0.014256</td>\n",
       "      <td>0.133858</td>\n",
       "      <td>0.071489</td>\n",
       "      <td>0.039791</td>\n",
       "      <td>0.245946</td>\n",
       "      <td>0.093853</td>\n",
       "      <td>0</td>\n",
       "    </tr>\n",
       "    <tr>\n",
       "      <th>2</th>\n",
       "      <td>2</td>\n",
       "      <td>2018-04-01 00:02:00</td>\n",
       "      <td>0.959089</td>\n",
       "      <td>0.834736</td>\n",
       "      <td>0.876660</td>\n",
       "      <td>0.890052</td>\n",
       "      <td>0.797904</td>\n",
       "      <td>0.735461</td>\n",
       "      <td>0.598568</td>\n",
       "      <td>0.679645</td>\n",
       "      <td>...</td>\n",
       "      <td>0.024120</td>\n",
       "      <td>0.027367</td>\n",
       "      <td>0.044746</td>\n",
       "      <td>0.013959</td>\n",
       "      <td>0.132874</td>\n",
       "      <td>0.072330</td>\n",
       "      <td>0.039791</td>\n",
       "      <td>0.242162</td>\n",
       "      <td>0.092531</td>\n",
       "      <td>0</td>\n",
       "    </tr>\n",
       "    <tr>\n",
       "      <th>3</th>\n",
       "      <td>3</td>\n",
       "      <td>2018-04-01 00:03:00</td>\n",
       "      <td>0.965264</td>\n",
       "      <td>0.830145</td>\n",
       "      <td>0.874763</td>\n",
       "      <td>0.890052</td>\n",
       "      <td>0.784402</td>\n",
       "      <td>0.769891</td>\n",
       "      <td>0.598243</td>\n",
       "      <td>0.688535</td>\n",
       "      <td>...</td>\n",
       "      <td>0.024120</td>\n",
       "      <td>0.026627</td>\n",
       "      <td>0.042712</td>\n",
       "      <td>0.013662</td>\n",
       "      <td>0.130905</td>\n",
       "      <td>0.072330</td>\n",
       "      <td>0.039791</td>\n",
       "      <td>0.242162</td>\n",
       "      <td>0.091870</td>\n",
       "      <td>0</td>\n",
       "    </tr>\n",
       "    <tr>\n",
       "      <th>4</th>\n",
       "      <td>4</td>\n",
       "      <td>2018-04-01 00:04:00</td>\n",
       "      <td>0.959475</td>\n",
       "      <td>0.830910</td>\n",
       "      <td>0.876660</td>\n",
       "      <td>0.890052</td>\n",
       "      <td>0.794855</td>\n",
       "      <td>0.765891</td>\n",
       "      <td>0.599870</td>\n",
       "      <td>0.687002</td>\n",
       "      <td>...</td>\n",
       "      <td>0.025424</td>\n",
       "      <td>0.026627</td>\n",
       "      <td>0.044068</td>\n",
       "      <td>0.013365</td>\n",
       "      <td>0.131890</td>\n",
       "      <td>0.074012</td>\n",
       "      <td>0.041885</td>\n",
       "      <td>0.246487</td>\n",
       "      <td>0.091210</td>\n",
       "      <td>0</td>\n",
       "    </tr>\n",
       "  </tbody>\n",
       "</table>\n",
       "<p>5 rows × 52 columns</p>\n",
       "</div>"
      ],
      "text/plain": [
       "   Unnamed: 0            timestamp  sensor_00  sensor_01  sensor_02  \\\n",
       "0           0  2018-04-01 00:00:00   0.967194   0.830145   0.876660   \n",
       "1           1  2018-04-01 00:01:00   0.967194   0.830145   0.876660   \n",
       "2           2  2018-04-01 00:02:00   0.959089   0.834736   0.876660   \n",
       "3           3  2018-04-01 00:03:00   0.965264   0.830145   0.874763   \n",
       "4           4  2018-04-01 00:04:00   0.959475   0.830910   0.876660   \n",
       "\n",
       "   sensor_03  sensor_04  sensor_05  sensor_06  sensor_07  ...  sensor_41  \\\n",
       "0   0.884816   0.792242   0.764598   0.602472   0.683630  ...   0.025424   \n",
       "1   0.884816   0.792242   0.764598   0.602472   0.683630  ...   0.025424   \n",
       "2   0.890052   0.797904   0.735461   0.598568   0.679645  ...   0.024120   \n",
       "3   0.890052   0.784402   0.769891   0.598243   0.688535  ...   0.024120   \n",
       "4   0.890052   0.794855   0.765891   0.599870   0.687002  ...   0.025424   \n",
       "\n",
       "   sensor_42  sensor_43  sensor_44  sensor_45  sensor_46  sensor_47  \\\n",
       "0   0.027367   0.045424   0.014256   0.133858   0.071489   0.039791   \n",
       "1   0.027367   0.045424   0.014256   0.133858   0.071489   0.039791   \n",
       "2   0.027367   0.044746   0.013959   0.132874   0.072330   0.039791   \n",
       "3   0.026627   0.042712   0.013662   0.130905   0.072330   0.039791   \n",
       "4   0.026627   0.044068   0.013365   0.131890   0.074012   0.041885   \n",
       "\n",
       "   sensor_48  sensor_49  operation  \n",
       "0   0.245946   0.093853          0  \n",
       "1   0.245946   0.093853          0  \n",
       "2   0.242162   0.092531          0  \n",
       "3   0.242162   0.091870          0  \n",
       "4   0.246487   0.091210          0  \n",
       "\n",
       "[5 rows x 52 columns]"
      ]
     },
     "execution_count": 2,
     "metadata": {},
     "output_type": "execute_result"
    }
   ],
   "source": [
    "df = pd.read_csv(r'/home/kym/ML/input/ai_nova/pre_sensor.csv')\n",
    "# df.drop(['Unnamed: 0', 'timestamp'], axis=1, inplace=True)\n",
    "\n",
    "label_mapping = {\n",
    "    0.0: 0,\n",
    "    0.5: 0,\n",
    "    1: 1\n",
    "}\n",
    "\n",
    "df.loc[:, \"operation\"] = df.operation.map(label_mapping) \n",
    "df.head()"
   ]
  },
  {
   "cell_type": "code",
   "execution_count": 3,
   "id": "76757759",
   "metadata": {},
   "outputs": [
    {
     "data": {
      "text/plain": [
       "2"
      ]
     },
     "execution_count": 3,
     "metadata": {},
     "output_type": "execute_result"
    }
   ],
   "source": [
    "# label check\n",
    "df.operation.nunique()"
   ]
  },
  {
   "cell_type": "markdown",
   "id": "21796508",
   "metadata": {},
   "source": [
    "## Feature Selection"
   ]
  },
  {
   "cell_type": "code",
   "execution_count": 4,
   "id": "730b5f74",
   "metadata": {},
   "outputs": [],
   "source": [
    "# Variable \n",
    "index = ['index']\n",
    "time = ['timestamp']\n",
    "num_variables = ['sensor_00', 'sensor_01', 'sensor_04', 'sensor_06', 'sensor_10']\n",
    "target = ['operation']"
   ]
  },
  {
   "cell_type": "code",
   "execution_count": 5,
   "id": "bfa91c67",
   "metadata": {},
   "outputs": [
    {
     "data": {
      "text/html": [
       "<div>\n",
       "<style scoped>\n",
       "    .dataframe tbody tr th:only-of-type {\n",
       "        vertical-align: middle;\n",
       "    }\n",
       "\n",
       "    .dataframe tbody tr th {\n",
       "        vertical-align: top;\n",
       "    }\n",
       "\n",
       "    .dataframe thead th {\n",
       "        text-align: right;\n",
       "    }\n",
       "</style>\n",
       "<table border=\"1\" class=\"dataframe\">\n",
       "  <thead>\n",
       "    <tr style=\"text-align: right;\">\n",
       "      <th></th>\n",
       "      <th>sensor_00</th>\n",
       "      <th>sensor_01</th>\n",
       "      <th>sensor_04</th>\n",
       "      <th>sensor_06</th>\n",
       "      <th>sensor_10</th>\n",
       "      <th>operation</th>\n",
       "    </tr>\n",
       "  </thead>\n",
       "  <tbody>\n",
       "    <tr>\n",
       "      <th>0</th>\n",
       "      <td>0.967194</td>\n",
       "      <td>0.830145</td>\n",
       "      <td>0.792242</td>\n",
       "      <td>0.602472</td>\n",
       "      <td>0.489146</td>\n",
       "      <td>0</td>\n",
       "    </tr>\n",
       "    <tr>\n",
       "      <th>1</th>\n",
       "      <td>0.967194</td>\n",
       "      <td>0.830145</td>\n",
       "      <td>0.792242</td>\n",
       "      <td>0.602472</td>\n",
       "      <td>0.489146</td>\n",
       "      <td>0</td>\n",
       "    </tr>\n",
       "    <tr>\n",
       "      <th>2</th>\n",
       "      <td>0.959089</td>\n",
       "      <td>0.834736</td>\n",
       "      <td>0.797904</td>\n",
       "      <td>0.598568</td>\n",
       "      <td>0.497561</td>\n",
       "      <td>0</td>\n",
       "    </tr>\n",
       "    <tr>\n",
       "      <th>3</th>\n",
       "      <td>0.965264</td>\n",
       "      <td>0.830145</td>\n",
       "      <td>0.784402</td>\n",
       "      <td>0.598243</td>\n",
       "      <td>0.506916</td>\n",
       "      <td>0</td>\n",
       "    </tr>\n",
       "    <tr>\n",
       "      <th>4</th>\n",
       "      <td>0.959475</td>\n",
       "      <td>0.830910</td>\n",
       "      <td>0.794855</td>\n",
       "      <td>0.599870</td>\n",
       "      <td>0.518868</td>\n",
       "      <td>0</td>\n",
       "    </tr>\n",
       "  </tbody>\n",
       "</table>\n",
       "</div>"
      ],
      "text/plain": [
       "   sensor_00  sensor_01  sensor_04  sensor_06  sensor_10  operation\n",
       "0   0.967194   0.830145   0.792242   0.602472   0.489146          0\n",
       "1   0.967194   0.830145   0.792242   0.602472   0.489146          0\n",
       "2   0.959089   0.834736   0.797904   0.598568   0.497561          0\n",
       "3   0.965264   0.830145   0.784402   0.598243   0.506916          0\n",
       "4   0.959475   0.830910   0.794855   0.599870   0.518868          0"
      ]
     },
     "execution_count": 5,
     "metadata": {},
     "output_type": "execute_result"
    }
   ],
   "source": [
    "df = df[num_variables + target].copy()\n",
    "df.head()"
   ]
  },
  {
   "cell_type": "code",
   "execution_count": 6,
   "id": "3cd79f60",
   "metadata": {},
   "outputs": [
    {
     "data": {
      "text/plain": [
       "(220320, 6)"
      ]
     },
     "execution_count": 6,
     "metadata": {},
     "output_type": "execute_result"
    }
   ],
   "source": [
    "df.shape"
   ]
  },
  {
   "cell_type": "code",
   "execution_count": 7,
   "id": "55a667d9",
   "metadata": {},
   "outputs": [
    {
     "data": {
      "text/html": [
       "<div>\n",
       "<style scoped>\n",
       "    .dataframe tbody tr th:only-of-type {\n",
       "        vertical-align: middle;\n",
       "    }\n",
       "\n",
       "    .dataframe tbody tr th {\n",
       "        vertical-align: top;\n",
       "    }\n",
       "\n",
       "    .dataframe thead th {\n",
       "        text-align: right;\n",
       "    }\n",
       "</style>\n",
       "<table border=\"1\" class=\"dataframe\">\n",
       "  <thead>\n",
       "    <tr style=\"text-align: right;\">\n",
       "      <th></th>\n",
       "      <th>sensor_00</th>\n",
       "      <th>sensor_01</th>\n",
       "      <th>sensor_04</th>\n",
       "      <th>sensor_06</th>\n",
       "      <th>sensor_10</th>\n",
       "      <th>operation</th>\n",
       "    </tr>\n",
       "  </thead>\n",
       "  <tbody>\n",
       "    <tr>\n",
       "      <th>count</th>\n",
       "      <td>220320.000000</td>\n",
       "      <td>220320.000000</td>\n",
       "      <td>220320.000000</td>\n",
       "      <td>220320.000000</td>\n",
       "      <td>220320.000000</td>\n",
       "      <td>220320.000000</td>\n",
       "    </tr>\n",
       "    <tr>\n",
       "      <th>mean</th>\n",
       "      <td>0.892365</td>\n",
       "      <td>0.839051</td>\n",
       "      <td>0.737412</td>\n",
       "      <td>0.593382</td>\n",
       "      <td>0.544888</td>\n",
       "      <td>0.000032</td>\n",
       "    </tr>\n",
       "    <tr>\n",
       "      <th>std</th>\n",
       "      <td>0.236876</td>\n",
       "      <td>0.058207</td>\n",
       "      <td>0.180685</td>\n",
       "      <td>0.130558</td>\n",
       "      <td>0.158917</td>\n",
       "      <td>0.005637</td>\n",
       "    </tr>\n",
       "    <tr>\n",
       "      <th>min</th>\n",
       "      <td>0.000000</td>\n",
       "      <td>0.000000</td>\n",
       "      <td>0.000000</td>\n",
       "      <td>0.000000</td>\n",
       "      <td>0.000000</td>\n",
       "      <td>0.000000</td>\n",
       "    </tr>\n",
       "    <tr>\n",
       "      <th>25%</th>\n",
       "      <td>0.949054</td>\n",
       "      <td>0.816373</td>\n",
       "      <td>0.782515</td>\n",
       "      <td>0.598243</td>\n",
       "      <td>0.534839</td>\n",
       "      <td>0.000000</td>\n",
       "    </tr>\n",
       "    <tr>\n",
       "      <th>50%</th>\n",
       "      <td>0.963335</td>\n",
       "      <td>0.848508</td>\n",
       "      <td>0.790064</td>\n",
       "      <td>0.612231</td>\n",
       "      <td>0.581963</td>\n",
       "      <td>0.000000</td>\n",
       "    </tr>\n",
       "    <tr>\n",
       "      <th>75%</th>\n",
       "      <td>0.980702</td>\n",
       "      <td>0.872226</td>\n",
       "      <td>0.796307</td>\n",
       "      <td>0.653220</td>\n",
       "      <td>0.623654</td>\n",
       "      <td>0.000000</td>\n",
       "    </tr>\n",
       "    <tr>\n",
       "      <th>max</th>\n",
       "      <td>1.000000</td>\n",
       "      <td>1.000000</td>\n",
       "      <td>1.000000</td>\n",
       "      <td>1.000000</td>\n",
       "      <td>1.000000</td>\n",
       "      <td>1.000000</td>\n",
       "    </tr>\n",
       "  </tbody>\n",
       "</table>\n",
       "</div>"
      ],
      "text/plain": [
       "           sensor_00      sensor_01      sensor_04      sensor_06  \\\n",
       "count  220320.000000  220320.000000  220320.000000  220320.000000   \n",
       "mean        0.892365       0.839051       0.737412       0.593382   \n",
       "std         0.236876       0.058207       0.180685       0.130558   \n",
       "min         0.000000       0.000000       0.000000       0.000000   \n",
       "25%         0.949054       0.816373       0.782515       0.598243   \n",
       "50%         0.963335       0.848508       0.790064       0.612231   \n",
       "75%         0.980702       0.872226       0.796307       0.653220   \n",
       "max         1.000000       1.000000       1.000000       1.000000   \n",
       "\n",
       "           sensor_10      operation  \n",
       "count  220320.000000  220320.000000  \n",
       "mean        0.544888       0.000032  \n",
       "std         0.158917       0.005637  \n",
       "min         0.000000       0.000000  \n",
       "25%         0.534839       0.000000  \n",
       "50%         0.581963       0.000000  \n",
       "75%         0.623654       0.000000  \n",
       "max         1.000000       1.000000  "
      ]
     },
     "execution_count": 7,
     "metadata": {},
     "output_type": "execute_result"
    }
   ],
   "source": [
    "df.describe()"
   ]
  },
  {
   "cell_type": "markdown",
   "id": "f39c9654",
   "metadata": {},
   "source": [
    "## CHECK : Metrics and Scoring (single sensor signal)"
   ]
  },
  {
   "cell_type": "code",
   "execution_count": 8,
   "id": "004d56dc",
   "metadata": {},
   "outputs": [],
   "source": [
    "X = df.drop(['operation'], axis=1)\n",
    "y = df['operation']\n",
    "cols_name = X.columns.tolist()"
   ]
  },
  {
   "cell_type": "code",
   "execution_count": 9,
   "id": "47dbe12d",
   "metadata": {},
   "outputs": [
    {
     "data": {
      "text/html": [
       "<div>\n",
       "<style scoped>\n",
       "    .dataframe tbody tr th:only-of-type {\n",
       "        vertical-align: middle;\n",
       "    }\n",
       "\n",
       "    .dataframe tbody tr th {\n",
       "        vertical-align: top;\n",
       "    }\n",
       "\n",
       "    .dataframe thead th {\n",
       "        text-align: right;\n",
       "    }\n",
       "</style>\n",
       "<table border=\"1\" class=\"dataframe\">\n",
       "  <thead>\n",
       "    <tr style=\"text-align: right;\">\n",
       "      <th></th>\n",
       "      <th>sensor_00</th>\n",
       "      <th>sensor_01</th>\n",
       "      <th>sensor_04</th>\n",
       "      <th>sensor_06</th>\n",
       "      <th>sensor_10</th>\n",
       "    </tr>\n",
       "  </thead>\n",
       "  <tbody>\n",
       "    <tr>\n",
       "      <th>sensor_00</th>\n",
       "      <td>1.000000</td>\n",
       "      <td>0.644321</td>\n",
       "      <td>0.954691</td>\n",
       "      <td>0.843175</td>\n",
       "      <td>0.926760</td>\n",
       "    </tr>\n",
       "    <tr>\n",
       "      <th>sensor_01</th>\n",
       "      <td>0.644321</td>\n",
       "      <td>1.000000</td>\n",
       "      <td>0.676792</td>\n",
       "      <td>0.687198</td>\n",
       "      <td>0.596023</td>\n",
       "    </tr>\n",
       "    <tr>\n",
       "      <th>sensor_04</th>\n",
       "      <td>0.954691</td>\n",
       "      <td>0.676792</td>\n",
       "      <td>1.000000</td>\n",
       "      <td>0.881080</td>\n",
       "      <td>0.907540</td>\n",
       "    </tr>\n",
       "    <tr>\n",
       "      <th>sensor_06</th>\n",
       "      <td>0.843175</td>\n",
       "      <td>0.687198</td>\n",
       "      <td>0.881080</td>\n",
       "      <td>1.000000</td>\n",
       "      <td>0.826103</td>\n",
       "    </tr>\n",
       "    <tr>\n",
       "      <th>sensor_10</th>\n",
       "      <td>0.926760</td>\n",
       "      <td>0.596023</td>\n",
       "      <td>0.907540</td>\n",
       "      <td>0.826103</td>\n",
       "      <td>1.000000</td>\n",
       "    </tr>\n",
       "  </tbody>\n",
       "</table>\n",
       "</div>"
      ],
      "text/plain": [
       "           sensor_00  sensor_01  sensor_04  sensor_06  sensor_10\n",
       "sensor_00   1.000000   0.644321   0.954691   0.843175   0.926760\n",
       "sensor_01   0.644321   1.000000   0.676792   0.687198   0.596023\n",
       "sensor_04   0.954691   0.676792   1.000000   0.881080   0.907540\n",
       "sensor_06   0.843175   0.687198   0.881080   1.000000   0.826103\n",
       "sensor_10   0.926760   0.596023   0.907540   0.826103   1.000000"
      ]
     },
     "execution_count": 9,
     "metadata": {},
     "output_type": "execute_result"
    }
   ],
   "source": [
    "df_check_pearson = pd.DataFrame(X, columns=cols_name)\n",
    "df_check_pearson.corr()"
   ]
  },
  {
   "cell_type": "markdown",
   "id": "0cbca1ad",
   "metadata": {},
   "source": [
    "Remove features with high correlation.  \n",
    "Sensor 00 and 04 and 10 are highly correlated. (over 0.90)\n",
    "\n",
    "* **only use sensor 04, 01, 06** "
   ]
  },
  {
   "cell_type": "code",
   "execution_count": 10,
   "id": "f739a631",
   "metadata": {},
   "outputs": [],
   "source": [
    "feature_selection_variables = ['sensor_01', 'sensor_04', 'sensor_06']"
   ]
  },
  {
   "cell_type": "code",
   "execution_count": 11,
   "id": "c76fa124",
   "metadata": {},
   "outputs": [
    {
     "data": {
      "text/html": [
       "<div>\n",
       "<style scoped>\n",
       "    .dataframe tbody tr th:only-of-type {\n",
       "        vertical-align: middle;\n",
       "    }\n",
       "\n",
       "    .dataframe tbody tr th {\n",
       "        vertical-align: top;\n",
       "    }\n",
       "\n",
       "    .dataframe thead th {\n",
       "        text-align: right;\n",
       "    }\n",
       "</style>\n",
       "<table border=\"1\" class=\"dataframe\">\n",
       "  <thead>\n",
       "    <tr style=\"text-align: right;\">\n",
       "      <th></th>\n",
       "      <th>sensor_01</th>\n",
       "      <th>sensor_04</th>\n",
       "      <th>sensor_06</th>\n",
       "      <th>operation</th>\n",
       "    </tr>\n",
       "  </thead>\n",
       "  <tbody>\n",
       "    <tr>\n",
       "      <th>0</th>\n",
       "      <td>0.830145</td>\n",
       "      <td>0.792242</td>\n",
       "      <td>0.602472</td>\n",
       "      <td>0</td>\n",
       "    </tr>\n",
       "    <tr>\n",
       "      <th>1</th>\n",
       "      <td>0.830145</td>\n",
       "      <td>0.792242</td>\n",
       "      <td>0.602472</td>\n",
       "      <td>0</td>\n",
       "    </tr>\n",
       "    <tr>\n",
       "      <th>2</th>\n",
       "      <td>0.834736</td>\n",
       "      <td>0.797904</td>\n",
       "      <td>0.598568</td>\n",
       "      <td>0</td>\n",
       "    </tr>\n",
       "    <tr>\n",
       "      <th>3</th>\n",
       "      <td>0.830145</td>\n",
       "      <td>0.784402</td>\n",
       "      <td>0.598243</td>\n",
       "      <td>0</td>\n",
       "    </tr>\n",
       "    <tr>\n",
       "      <th>4</th>\n",
       "      <td>0.830910</td>\n",
       "      <td>0.794855</td>\n",
       "      <td>0.599870</td>\n",
       "      <td>0</td>\n",
       "    </tr>\n",
       "  </tbody>\n",
       "</table>\n",
       "</div>"
      ],
      "text/plain": [
       "   sensor_01  sensor_04  sensor_06  operation\n",
       "0   0.830145   0.792242   0.602472          0\n",
       "1   0.830145   0.792242   0.602472          0\n",
       "2   0.834736   0.797904   0.598568          0\n",
       "3   0.830145   0.784402   0.598243          0\n",
       "4   0.830910   0.794855   0.599870          0"
      ]
     },
     "execution_count": 11,
     "metadata": {},
     "output_type": "execute_result"
    }
   ],
   "source": [
    "df = df[feature_selection_variables + target].copy()\n",
    "df.head()"
   ]
  },
  {
   "cell_type": "code",
   "execution_count": 12,
   "id": "533e46db",
   "metadata": {},
   "outputs": [],
   "source": [
    "from sklearn.feature_selection import chi2\n",
    "from sklearn.feature_selection import f_classif\n",
    "from sklearn.feature_selection import f_regression\n",
    "from sklearn.feature_selection import mutual_info_classif\n",
    "from sklearn.feature_selection import mutual_info_regression\n",
    "from sklearn.feature_selection import SelectKBest\n",
    "from sklearn.feature_selection import SelectPercentile"
   ]
  },
  {
   "cell_type": "code",
   "execution_count": 13,
   "id": "073ea4f9",
   "metadata": {},
   "outputs": [],
   "source": [
    "X = df.drop(['operation'], axis=1)\n",
    "y = df['operation'].astype('int')\n",
    "cols_name = X.columns.tolist()"
   ]
  },
  {
   "cell_type": "code",
   "execution_count": 14,
   "id": "f324b054",
   "metadata": {},
   "outputs": [],
   "source": [
    "class UnivariateFeatureSelection:\n",
    "    def __init__(self, n_features, problem_type, scoring):\n",
    "        '''\n",
    "        :param n_features: real number - SelectPercentile, others - SelectKBest\n",
    "        :param problem_type: classfication or regression\n",
    "        :param scoring: name of metric function\n",
    "        '''\n",
    "        if problem_type == \"classification\":\n",
    "            valid_scoring = {\n",
    "                            \"f_classif\": f_classif,\n",
    "                            \"chi2\": chi2,\n",
    "                            \"mutual_info_classif\": mutual_info_classif\n",
    "            }\n",
    "            \n",
    "        else:\n",
    "            valid_scoring = {\n",
    "                            \"f_regression\": f_regression,\n",
    "                            \"mutual_info_regression\": mutual_info_regression\n",
    "            }\n",
    "            \n",
    "        if scoring not in valid_scoring:\n",
    "            raise Exception(\"Invalid scoring function\")\n",
    "            \n",
    "        if isinstance(n_features, int):\n",
    "            self.selection = SelectKBest(\n",
    "                            valid_scoring[scoring],\n",
    "                            k=n_features\n",
    "            )\n",
    "            \n",
    "        elif isinstance(n_features, float):\n",
    "            self.selection = SelectPercentile(\n",
    "                            valid_scoring[scoring],\n",
    "                            percentile=int(n_features * 100)\n",
    "            )\n",
    "            \n",
    "        else:\n",
    "            raise Exception(\"Invalid type of feature\")\n",
    "    \n",
    "    def fit(self, X, y):\n",
    "        return self.selection.fit(X, y)\n",
    "    \n",
    "    def transform(self, X):\n",
    "        return self.selection.transform(X)\n",
    "    \n",
    "    def fit_transform(self, X, y):\n",
    "        return self.selection.fit_transform(X, y)"
   ]
  },
  {
   "cell_type": "code",
   "execution_count": 15,
   "id": "1ae9bc84",
   "metadata": {},
   "outputs": [],
   "source": [
    "ufs = UnivariateFeatureSelection(\n",
    "    n_features=3,\n",
    "    problem_type='classification',\n",
    "    scoring='f_classif'\n",
    ")\n",
    "ufs.fit(X, y)\n",
    "X_transformed = ufs.transform(X)"
   ]
  },
  {
   "cell_type": "code",
   "execution_count": 16,
   "id": "c98c6991",
   "metadata": {},
   "outputs": [
    {
     "data": {
      "text/plain": [
       "numpy.ndarray"
      ]
     },
     "execution_count": 16,
     "metadata": {},
     "output_type": "execute_result"
    }
   ],
   "source": [
    "type(X_transformed)"
   ]
  },
  {
   "cell_type": "code",
   "execution_count": 17,
   "id": "648f480c",
   "metadata": {},
   "outputs": [
    {
     "data": {
      "text/plain": [
       "(220320,)"
      ]
     },
     "execution_count": 17,
     "metadata": {},
     "output_type": "execute_result"
    }
   ],
   "source": [
    "y.shape"
   ]
  },
  {
   "cell_type": "code",
   "execution_count": 18,
   "id": "d865cdd8",
   "metadata": {},
   "outputs": [
    {
     "data": {
      "text/plain": [
       "array([[0.83014531, 0.79224211, 0.60247235],\n",
       "       [0.83014531, 0.79224211, 0.60247235],\n",
       "       [0.83473604, 0.79790429, 0.59856845],\n",
       "       ...,\n",
       "       [0.84085688, 0.78164367, 0.67794401],\n",
       "       [0.84085688, 0.79383907, 0.67924501],\n",
       "       [0.84085688, 0.79906572, 0.67924501]])"
      ]
     },
     "execution_count": 18,
     "metadata": {},
     "output_type": "execute_result"
    }
   ],
   "source": [
    "X_transformed # sensor_04 - 06 - 01"
   ]
  },
  {
   "cell_type": "markdown",
   "id": "a577ee04",
   "metadata": {},
   "source": [
    "Feature Importance Ranking :   \n",
    "    1) Sensor_04  \n",
    "    2) Sensor_06  \n",
    "    3) Sensor_01  "
   ]
  },
  {
   "cell_type": "markdown",
   "id": "1e436bd8",
   "metadata": {},
   "source": [
    "## CHECK : Metrics and Scoring (using 1, 2, 3 sensor signal)"
   ]
  },
  {
   "cell_type": "code",
   "execution_count": 19,
   "id": "6b662bcf",
   "metadata": {},
   "outputs": [
    {
     "data": {
      "text/plain": [
       "7"
      ]
     },
     "execution_count": 19,
     "metadata": {},
     "output_type": "execute_result"
    }
   ],
   "source": [
    "# check the no. label 1 \n",
    "sum(df['operation'] == 1)"
   ]
  },
  {
   "cell_type": "code",
   "execution_count": 20,
   "id": "eb151b1c",
   "metadata": {},
   "outputs": [],
   "source": [
    "df[\"kfold\"] = -1\n",
    "df = df.sample(frac=1).reset_index(drop=True)\n",
    "y = df['operation'].astype('int')\n",
    "kf = model_selection.StratifiedKFold(n_splits=7)\n",
    "\n",
    "for f, (t_, v_) in enumerate(kf.split(X=df, y=y)):\n",
    "    df.loc[v_, 'kfold'] = f\n",
    "        \n",
    "X = df.drop(['operation'], axis=1)"
   ]
  },
  {
   "cell_type": "code",
   "execution_count": 21,
   "id": "eada0004",
   "metadata": {},
   "outputs": [
    {
     "data": {
      "text/html": [
       "<div>\n",
       "<style scoped>\n",
       "    .dataframe tbody tr th:only-of-type {\n",
       "        vertical-align: middle;\n",
       "    }\n",
       "\n",
       "    .dataframe tbody tr th {\n",
       "        vertical-align: top;\n",
       "    }\n",
       "\n",
       "    .dataframe thead th {\n",
       "        text-align: right;\n",
       "    }\n",
       "</style>\n",
       "<table border=\"1\" class=\"dataframe\">\n",
       "  <thead>\n",
       "    <tr style=\"text-align: right;\">\n",
       "      <th></th>\n",
       "      <th>sensor_01</th>\n",
       "      <th>sensor_04</th>\n",
       "      <th>sensor_06</th>\n",
       "      <th>operation</th>\n",
       "      <th>kfold</th>\n",
       "    </tr>\n",
       "  </thead>\n",
       "  <tbody>\n",
       "    <tr>\n",
       "      <th>0</th>\n",
       "      <td>0.856924</td>\n",
       "      <td>0.790209</td>\n",
       "      <td>0.65322</td>\n",
       "      <td>0</td>\n",
       "      <td>0</td>\n",
       "    </tr>\n",
       "  </tbody>\n",
       "</table>\n",
       "</div>"
      ],
      "text/plain": [
       "   sensor_01  sensor_04  sensor_06  operation  kfold\n",
       "0   0.856924   0.790209    0.65322          0      0"
      ]
     },
     "execution_count": 21,
     "metadata": {},
     "output_type": "execute_result"
    }
   ],
   "source": [
    "df.head(1)"
   ]
  },
  {
   "cell_type": "code",
   "execution_count": 22,
   "id": "62dde4ac",
   "metadata": {},
   "outputs": [
    {
     "data": {
      "text/html": [
       "<div>\n",
       "<style scoped>\n",
       "    .dataframe tbody tr th:only-of-type {\n",
       "        vertical-align: middle;\n",
       "    }\n",
       "\n",
       "    .dataframe tbody tr th {\n",
       "        vertical-align: top;\n",
       "    }\n",
       "\n",
       "    .dataframe thead th {\n",
       "        text-align: right;\n",
       "    }\n",
       "</style>\n",
       "<table border=\"1\" class=\"dataframe\">\n",
       "  <thead>\n",
       "    <tr style=\"text-align: right;\">\n",
       "      <th></th>\n",
       "      <th>sensor_01</th>\n",
       "      <th>sensor_04</th>\n",
       "      <th>sensor_06</th>\n",
       "      <th>kfold</th>\n",
       "    </tr>\n",
       "  </thead>\n",
       "  <tbody>\n",
       "    <tr>\n",
       "      <th>0</th>\n",
       "      <td>0.856924</td>\n",
       "      <td>0.790209</td>\n",
       "      <td>0.65322</td>\n",
       "      <td>0</td>\n",
       "    </tr>\n",
       "  </tbody>\n",
       "</table>\n",
       "</div>"
      ],
      "text/plain": [
       "   sensor_01  sensor_04  sensor_06  kfold\n",
       "0   0.856924   0.790209    0.65322      0"
      ]
     },
     "execution_count": 22,
     "metadata": {},
     "output_type": "execute_result"
    }
   ],
   "source": [
    "X.head(1)"
   ]
  },
  {
   "cell_type": "code",
   "execution_count": 23,
   "id": "6545a435",
   "metadata": {},
   "outputs": [],
   "source": [
    "def run(fold): \n",
    "    global df, X, y\n",
    "    \n",
    "    feature_list = []\n",
    "    final_list = []\n",
    "\n",
    "    for i in range(1, len(df.columns.tolist())-1): # KFOLD, operation add : -1 (1,2,3) \n",
    "        for idx, val in enumerate(list(permutations(cols_name, i))):\n",
    "            feature_list.append(list(val))\n",
    "            for v in feature_list:\n",
    "                if v not in final_list:\n",
    "                    final_list.append(v)\n",
    "\n",
    "    final_list = list(set([tuple(set(features)) for features in final_list]))\n",
    "    \n",
    "    features_score_list = []\n",
    "\n",
    "    for j in range(len(final_list)):\n",
    "        features = list(final_list[j])\n",
    "        # 다양한 FEATURE 조합의 X 순서대로 돌아옴.\n",
    "        \n",
    "        kfold = ['kfold']\n",
    "        label = ['operation']\n",
    "        \n",
    "        temp_df = df[features + label + kfold]\n",
    "        \n",
    "        print(f\"===={features}====\\n\")\n",
    "#         print(df[features])\n",
    "\n",
    "        cols = [f for f in temp_df.columns if f not in (\"operation\", \"kfold\")] # \"sensor_00, sensor_01, sensor_06\"            \n",
    "        \n",
    "#         temp_df.loc[:, cols] = temp_df[cols].astype('float64')\n",
    "       \n",
    "        df_train = temp_df[temp_df.kfold != fold].reset_index(drop=True)\n",
    "        df_valid = temp_df[temp_df.kfold == fold].reset_index(drop=True)\n",
    "           \n",
    "        x_train = df_train[cols]\n",
    "        x_valid = df_valid[cols]\n",
    "            \n",
    "        model = xgb.XGBClassifier(random_state=42,\n",
    "                                  booster='gbtree',\n",
    "                                  n_jobs=-1,\n",
    "                                  eval_metric='error',\n",
    "                                  learning_rate=0.1,\n",
    "                                  n_estimators=300,\n",
    "                                  max_depth=5,\n",
    "                                  reg_lambda=2\n",
    "                                 )\n",
    "            \n",
    "        model.fit(x_train, df_train.operation.values)\n",
    "            \n",
    "        valid_preds = model.predict_proba(x_valid)[:, 1]\n",
    "        valid_auc = metrics.roc_auc_score(df_valid.operation.values, valid_preds)\n",
    "        print(valid_auc) \n",
    "        \n",
    "#         key = features \n",
    "#         value = valid_auc \n",
    "        \n",
    "        features_scores = dict(features=valid_auc)\n",
    "        features_score_list.append(features_scores)\n",
    "        \n",
    "    print(features_score_list)"
   ]
  },
  {
   "cell_type": "code",
   "execution_count": 24,
   "id": "e5238455",
   "metadata": {},
   "outputs": [
    {
     "name": "stdout",
     "output_type": "stream",
     "text": [
      "====['sensor_01']====\n",
      "\n",
      "0.8485734256846921\n",
      "====['sensor_04']====\n",
      "\n",
      "0.9772510643705916\n",
      "====['sensor_06']====\n",
      "\n",
      "0.17797229459236197\n",
      "====['sensor_06', 'sensor_01']====\n",
      "\n",
      "0.7498887971023702\n",
      "====['sensor_04', 'sensor_01']====\n",
      "\n",
      "0.9049850670394611\n",
      "====['sensor_04', 'sensor_06', 'sensor_01']====\n",
      "\n",
      "0.8753892101417042\n",
      "====['sensor_04', 'sensor_06']====\n",
      "\n",
      "0.9558683357692064\n",
      "[{'features': 0.8485734256846921}, {'features': 0.9772510643705916}, {'features': 0.17797229459236197}, {'features': 0.7498887971023702}, {'features': 0.9049850670394611}, {'features': 0.8753892101417042}, {'features': 0.9558683357692064}]\n"
     ]
    }
   ],
   "source": [
    "if __name__ == \"__main__\":\n",
    "    for fold_ in range(1):\n",
    "        run(fold_)"
   ]
  },
  {
   "cell_type": "markdown",
   "id": "c57ac9e1",
   "metadata": {},
   "source": [
    "**Final selected sensor : Sensor_04**"
   ]
  },
  {
   "cell_type": "code",
   "execution_count": 25,
   "id": "0d7b09ff",
   "metadata": {},
   "outputs": [],
   "source": [
    "df = pd.read_csv(r'/home/kym/ML/input/ai_nova/pre_sensor.csv')\n",
    "df.drop(['Unnamed: 0'], axis=1, inplace=True)\n",
    "final_feature = ['sensor_04']"
   ]
  },
  {
   "cell_type": "code",
   "execution_count": 26,
   "id": "97512c55",
   "metadata": {},
   "outputs": [
    {
     "data": {
      "text/html": [
       "<div>\n",
       "<style scoped>\n",
       "    .dataframe tbody tr th:only-of-type {\n",
       "        vertical-align: middle;\n",
       "    }\n",
       "\n",
       "    .dataframe tbody tr th {\n",
       "        vertical-align: top;\n",
       "    }\n",
       "\n",
       "    .dataframe thead th {\n",
       "        text-align: right;\n",
       "    }\n",
       "</style>\n",
       "<table border=\"1\" class=\"dataframe\">\n",
       "  <thead>\n",
       "    <tr style=\"text-align: right;\">\n",
       "      <th></th>\n",
       "      <th>sensor_04</th>\n",
       "      <th>operation</th>\n",
       "    </tr>\n",
       "  </thead>\n",
       "  <tbody>\n",
       "    <tr>\n",
       "      <th>0</th>\n",
       "      <td>0.792242</td>\n",
       "      <td>0.0</td>\n",
       "    </tr>\n",
       "    <tr>\n",
       "      <th>1</th>\n",
       "      <td>0.792242</td>\n",
       "      <td>0.0</td>\n",
       "    </tr>\n",
       "    <tr>\n",
       "      <th>2</th>\n",
       "      <td>0.797904</td>\n",
       "      <td>0.0</td>\n",
       "    </tr>\n",
       "    <tr>\n",
       "      <th>3</th>\n",
       "      <td>0.784402</td>\n",
       "      <td>0.0</td>\n",
       "    </tr>\n",
       "    <tr>\n",
       "      <th>4</th>\n",
       "      <td>0.794855</td>\n",
       "      <td>0.0</td>\n",
       "    </tr>\n",
       "  </tbody>\n",
       "</table>\n",
       "</div>"
      ],
      "text/plain": [
       "   sensor_04  operation\n",
       "0   0.792242        0.0\n",
       "1   0.792242        0.0\n",
       "2   0.797904        0.0\n",
       "3   0.784402        0.0\n",
       "4   0.794855        0.0"
      ]
     },
     "execution_count": 26,
     "metadata": {},
     "output_type": "execute_result"
    }
   ],
   "source": [
    "df = df[final_feature + target].copy()\n",
    "df.head()"
   ]
  },
  {
   "cell_type": "code",
   "execution_count": 27,
   "id": "ea8cd234",
   "metadata": {},
   "outputs": [
    {
     "data": {
      "text/plain": [
       "3"
      ]
     },
     "execution_count": 27,
     "metadata": {},
     "output_type": "execute_result"
    }
   ],
   "source": [
    "df.operation.nunique()"
   ]
  },
  {
   "cell_type": "markdown",
   "id": "726301b6",
   "metadata": {},
   "source": [
    "## Feature Extension"
   ]
  },
  {
   "cell_type": "code",
   "execution_count": 28,
   "id": "46d85e55",
   "metadata": {},
   "outputs": [
    {
     "data": {
      "image/png": "[encoded data removed]",
      "text/plain": [
       "<Figure size 1440x720 with 2 Axes>"
      ]
     },
     "metadata": {},
     "output_type": "display_data"
    }
   ],
   "source": [
    "df.plot(subplots=True, sharex=True, figsize=(20,10))\n",
    "plt.show()"
   ]
  },
  {
   "cell_type": "code",
   "execution_count": 29,
   "id": "bec35217",
   "metadata": {},
   "outputs": [],
   "source": [
    "# Dimension reduction Visualization (TSNE)\n",
    "\n",
    "tsne = manifold.TSNE(n_components=2, random_state=42)\n",
    "transformed_df = tsne.fit_transform(df)\n",
    "\n",
    "tsne_df = pd.DataFrame(np.column_stack((transformed_df, df.operation)),\n",
    "                      columns=['X', 'y', 'operation']\n",
    "                      )\n",
    "tsne_df.loc[:, 'operation'] = tsne_df['operation'].astype(float)"
   ]
  },
  {
   "cell_type": "code",
   "execution_count": 30,
   "id": "5ce45eac",
   "metadata": {},
   "outputs": [
    {
     "data": {
      "text/plain": [
       "<seaborn.axisgrid.FacetGrid at 0x7f3996d9eac0>"
      ]
     },
     "execution_count": 30,
     "metadata": {},
     "output_type": "execute_result"
    },
    {
     "data": {
      "image/png": "[encoded data removed]",
      "text/plain": [
       "<Figure size 631.75x576 with 1 Axes>"
      ]
     },
     "metadata": {},
     "output_type": "display_data"
    }
   ],
   "source": [
    "# Cluster Visualization \n",
    "\n",
    "grid = sns.FacetGrid(tsne_df, hue='operation', size=8)\n",
    "grid.map(plt.scatter, \"X\", 'y').add_legend()"
   ]
  },
  {
   "cell_type": "code",
   "execution_count": 31,
   "id": "eff536e1",
   "metadata": {},
   "outputs": [
    {
     "data": {
      "text/html": [
       "<div>\n",
       "<style scoped>\n",
       "    .dataframe tbody tr th:only-of-type {\n",
       "        vertical-align: middle;\n",
       "    }\n",
       "\n",
       "    .dataframe tbody tr th {\n",
       "        vertical-align: top;\n",
       "    }\n",
       "\n",
       "    .dataframe thead th {\n",
       "        text-align: right;\n",
       "    }\n",
       "</style>\n",
       "<table border=\"1\" class=\"dataframe\">\n",
       "  <thead>\n",
       "    <tr style=\"text-align: right;\">\n",
       "      <th></th>\n",
       "      <th>index</th>\n",
       "      <th>timestamp</th>\n",
       "      <th>sensor_04</th>\n",
       "      <th>operation</th>\n",
       "    </tr>\n",
       "  </thead>\n",
       "  <tbody>\n",
       "    <tr>\n",
       "      <th>0</th>\n",
       "      <td>0</td>\n",
       "      <td>2018-04-01 00:00:00</td>\n",
       "      <td>0.792242</td>\n",
       "      <td>0.0</td>\n",
       "    </tr>\n",
       "  </tbody>\n",
       "</table>\n",
       "</div>"
      ],
      "text/plain": [
       "   index            timestamp  sensor_04  operation\n",
       "0      0  2018-04-01 00:00:00   0.792242        0.0"
      ]
     },
     "execution_count": 31,
     "metadata": {},
     "output_type": "execute_result"
    }
   ],
   "source": [
    "df = pd.read_csv(r'/home/kym/ML/input/ai_nova/pre_sensor.csv')\n",
    "df.drop(['Unnamed: 0'], axis=1, inplace=True)\n",
    "df.reset_index(inplace=True)\n",
    "\n",
    "# Variable \n",
    "index = ['index']\n",
    "time = ['timestamp']\n",
    "num_variables = ['sensor_04']\n",
    "target = ['operation']\n",
    "\n",
    "df = df[index + time + final_feature + target].copy()\n",
    "df.head(1)"
   ]
  },
  {
   "cell_type": "code",
   "execution_count": 32,
   "id": "d98e879e",
   "metadata": {},
   "outputs": [],
   "source": [
    "df['timestamp'] = pd.to_datetime(df['timestamp'], format='%Y-%m-%d %H:%M:%S')"
   ]
  },
  {
   "cell_type": "code",
   "execution_count": 33,
   "id": "bbc596f5",
   "metadata": {},
   "outputs": [],
   "source": [
    "from sklearn.pipeline import make_pipeline\n",
    "\n",
    "from tsfresh import extract_features, extract_relevant_features, select_features\n",
    "from tsfresh.utilities.dataframe_functions import roll_time_series, make_forecasting_frame\n",
    "from tsfresh.utilities.dataframe_functions import impute\n",
    "from tsfresh.utilities.distribution import MultiprocessingDistributor\n",
    "\n",
    "from sktime.transformations.panel.tsfresh import TSFreshFeatureExtractor\n",
    "from sktime.forecasting.model_selection import temporal_train_test_split\n",
    "from sktime.forecasting.base import ForecastingHorizon"
   ]
  },
  {
   "cell_type": "code",
   "execution_count": 34,
   "id": "a9e9b57d",
   "metadata": {},
   "outputs": [
    {
     "data": {
      "text/html": [
       "<div>\n",
       "<style scoped>\n",
       "    .dataframe tbody tr th:only-of-type {\n",
       "        vertical-align: middle;\n",
       "    }\n",
       "\n",
       "    .dataframe tbody tr th {\n",
       "        vertical-align: top;\n",
       "    }\n",
       "\n",
       "    .dataframe thead th {\n",
       "        text-align: right;\n",
       "    }\n",
       "</style>\n",
       "<table border=\"1\" class=\"dataframe\">\n",
       "  <thead>\n",
       "    <tr style=\"text-align: right;\">\n",
       "      <th></th>\n",
       "      <th>index</th>\n",
       "      <th>timestamp</th>\n",
       "      <th>sensor_04</th>\n",
       "      <th>operation</th>\n",
       "    </tr>\n",
       "  </thead>\n",
       "  <tbody>\n",
       "    <tr>\n",
       "      <th>0</th>\n",
       "      <td>0</td>\n",
       "      <td>2018-04-01</td>\n",
       "      <td>0.792242</td>\n",
       "      <td>0.0</td>\n",
       "    </tr>\n",
       "  </tbody>\n",
       "</table>\n",
       "</div>"
      ],
      "text/plain": [
       "   index  timestamp  sensor_04  operation\n",
       "0      0 2018-04-01   0.792242        0.0"
      ]
     },
     "execution_count": 34,
     "metadata": {},
     "output_type": "execute_result"
    }
   ],
   "source": [
    "df.head(1)"
   ]
  },
  {
   "cell_type": "code",
   "execution_count": 35,
   "id": "521a3ffa",
   "metadata": {},
   "outputs": [
    {
     "name": "stderr",
     "output_type": "stream",
     "text": [
      "Feature Extraction: 100%|███████████████████████| 60/60 [04:49<00:00,  4.82s/it]\n"
     ]
    },
    {
     "data": {
      "text/html": [
       "<div>\n",
       "<style scoped>\n",
       "    .dataframe tbody tr th:only-of-type {\n",
       "        vertical-align: middle;\n",
       "    }\n",
       "\n",
       "    .dataframe tbody tr th {\n",
       "        vertical-align: top;\n",
       "    }\n",
       "\n",
       "    .dataframe thead th {\n",
       "        text-align: right;\n",
       "    }\n",
       "</style>\n",
       "<table border=\"1\" class=\"dataframe\">\n",
       "  <thead>\n",
       "    <tr style=\"text-align: right;\">\n",
       "      <th></th>\n",
       "      <th>sensor_04__variance_larger_than_standard_deviation</th>\n",
       "      <th>sensor_04__has_duplicate_max</th>\n",
       "      <th>sensor_04__has_duplicate_min</th>\n",
       "      <th>sensor_04__has_duplicate</th>\n",
       "      <th>sensor_04__sum_values</th>\n",
       "      <th>sensor_04__abs_energy</th>\n",
       "      <th>sensor_04__mean_abs_change</th>\n",
       "      <th>sensor_04__mean_change</th>\n",
       "      <th>sensor_04__mean_second_derivative_central</th>\n",
       "      <th>sensor_04__median</th>\n",
       "      <th>...</th>\n",
       "      <th>sensor_04__permutation_entropy__dimension_6__tau_1</th>\n",
       "      <th>sensor_04__permutation_entropy__dimension_7__tau_1</th>\n",
       "      <th>sensor_04__query_similarity_count__query_None__threshold_0.0</th>\n",
       "      <th>sensor_04__matrix_profile__feature_\"min\"__threshold_0.98</th>\n",
       "      <th>sensor_04__matrix_profile__feature_\"max\"__threshold_0.98</th>\n",
       "      <th>sensor_04__matrix_profile__feature_\"mean\"__threshold_0.98</th>\n",
       "      <th>sensor_04__matrix_profile__feature_\"median\"__threshold_0.98</th>\n",
       "      <th>sensor_04__matrix_profile__feature_\"25\"__threshold_0.98</th>\n",
       "      <th>sensor_04__matrix_profile__feature_\"75\"__threshold_0.98</th>\n",
       "      <th>sensor_04__mean_n_absolute_max__number_of_maxima_7</th>\n",
       "    </tr>\n",
       "  </thead>\n",
       "  <tbody>\n",
       "    <tr>\n",
       "      <th>0</th>\n",
       "      <td>0.0</td>\n",
       "      <td>0.0</td>\n",
       "      <td>0.0</td>\n",
       "      <td>0.0</td>\n",
       "      <td>0.792242</td>\n",
       "      <td>0.627648</td>\n",
       "      <td>0.0</td>\n",
       "      <td>0.0</td>\n",
       "      <td>0.0</td>\n",
       "      <td>0.792242</td>\n",
       "      <td>...</td>\n",
       "      <td>0.0</td>\n",
       "      <td>0.0</td>\n",
       "      <td>0.0</td>\n",
       "      <td>0.0</td>\n",
       "      <td>0.0</td>\n",
       "      <td>0.0</td>\n",
       "      <td>0.0</td>\n",
       "      <td>0.0</td>\n",
       "      <td>0.0</td>\n",
       "      <td>0.0</td>\n",
       "    </tr>\n",
       "    <tr>\n",
       "      <th>1</th>\n",
       "      <td>0.0</td>\n",
       "      <td>0.0</td>\n",
       "      <td>0.0</td>\n",
       "      <td>0.0</td>\n",
       "      <td>0.792242</td>\n",
       "      <td>0.627648</td>\n",
       "      <td>0.0</td>\n",
       "      <td>0.0</td>\n",
       "      <td>0.0</td>\n",
       "      <td>0.792242</td>\n",
       "      <td>...</td>\n",
       "      <td>0.0</td>\n",
       "      <td>0.0</td>\n",
       "      <td>0.0</td>\n",
       "      <td>0.0</td>\n",
       "      <td>0.0</td>\n",
       "      <td>0.0</td>\n",
       "      <td>0.0</td>\n",
       "      <td>0.0</td>\n",
       "      <td>0.0</td>\n",
       "      <td>0.0</td>\n",
       "    </tr>\n",
       "    <tr>\n",
       "      <th>2</th>\n",
       "      <td>0.0</td>\n",
       "      <td>0.0</td>\n",
       "      <td>0.0</td>\n",
       "      <td>0.0</td>\n",
       "      <td>0.797904</td>\n",
       "      <td>0.636651</td>\n",
       "      <td>0.0</td>\n",
       "      <td>0.0</td>\n",
       "      <td>0.0</td>\n",
       "      <td>0.797904</td>\n",
       "      <td>...</td>\n",
       "      <td>0.0</td>\n",
       "      <td>0.0</td>\n",
       "      <td>0.0</td>\n",
       "      <td>0.0</td>\n",
       "      <td>0.0</td>\n",
       "      <td>0.0</td>\n",
       "      <td>0.0</td>\n",
       "      <td>0.0</td>\n",
       "      <td>0.0</td>\n",
       "      <td>0.0</td>\n",
       "    </tr>\n",
       "    <tr>\n",
       "      <th>3</th>\n",
       "      <td>0.0</td>\n",
       "      <td>0.0</td>\n",
       "      <td>0.0</td>\n",
       "      <td>0.0</td>\n",
       "      <td>0.784402</td>\n",
       "      <td>0.615287</td>\n",
       "      <td>0.0</td>\n",
       "      <td>0.0</td>\n",
       "      <td>0.0</td>\n",
       "      <td>0.784402</td>\n",
       "      <td>...</td>\n",
       "      <td>0.0</td>\n",
       "      <td>0.0</td>\n",
       "      <td>0.0</td>\n",
       "      <td>0.0</td>\n",
       "      <td>0.0</td>\n",
       "      <td>0.0</td>\n",
       "      <td>0.0</td>\n",
       "      <td>0.0</td>\n",
       "      <td>0.0</td>\n",
       "      <td>0.0</td>\n",
       "    </tr>\n",
       "    <tr>\n",
       "      <th>4</th>\n",
       "      <td>0.0</td>\n",
       "      <td>0.0</td>\n",
       "      <td>0.0</td>\n",
       "      <td>0.0</td>\n",
       "      <td>0.794855</td>\n",
       "      <td>0.631795</td>\n",
       "      <td>0.0</td>\n",
       "      <td>0.0</td>\n",
       "      <td>0.0</td>\n",
       "      <td>0.794855</td>\n",
       "      <td>...</td>\n",
       "      <td>0.0</td>\n",
       "      <td>0.0</td>\n",
       "      <td>0.0</td>\n",
       "      <td>0.0</td>\n",
       "      <td>0.0</td>\n",
       "      <td>0.0</td>\n",
       "      <td>0.0</td>\n",
       "      <td>0.0</td>\n",
       "      <td>0.0</td>\n",
       "      <td>0.0</td>\n",
       "    </tr>\n",
       "  </tbody>\n",
       "</table>\n",
       "<p>5 rows × 789 columns</p>\n",
       "</div>"
      ],
      "text/plain": [
       "   sensor_04__variance_larger_than_standard_deviation  \\\n",
       "0                                                0.0    \n",
       "1                                                0.0    \n",
       "2                                                0.0    \n",
       "3                                                0.0    \n",
       "4                                                0.0    \n",
       "\n",
       "   sensor_04__has_duplicate_max  sensor_04__has_duplicate_min  \\\n",
       "0                           0.0                           0.0   \n",
       "1                           0.0                           0.0   \n",
       "2                           0.0                           0.0   \n",
       "3                           0.0                           0.0   \n",
       "4                           0.0                           0.0   \n",
       "\n",
       "   sensor_04__has_duplicate  sensor_04__sum_values  sensor_04__abs_energy  \\\n",
       "0                       0.0               0.792242               0.627648   \n",
       "1                       0.0               0.792242               0.627648   \n",
       "2                       0.0               0.797904               0.636651   \n",
       "3                       0.0               0.784402               0.615287   \n",
       "4                       0.0               0.794855               0.631795   \n",
       "\n",
       "   sensor_04__mean_abs_change  sensor_04__mean_change  \\\n",
       "0                         0.0                     0.0   \n",
       "1                         0.0                     0.0   \n",
       "2                         0.0                     0.0   \n",
       "3                         0.0                     0.0   \n",
       "4                         0.0                     0.0   \n",
       "\n",
       "   sensor_04__mean_second_derivative_central  sensor_04__median  ...  \\\n",
       "0                                        0.0           0.792242  ...   \n",
       "1                                        0.0           0.792242  ...   \n",
       "2                                        0.0           0.797904  ...   \n",
       "3                                        0.0           0.784402  ...   \n",
       "4                                        0.0           0.794855  ...   \n",
       "\n",
       "   sensor_04__permutation_entropy__dimension_6__tau_1  \\\n",
       "0                                                0.0    \n",
       "1                                                0.0    \n",
       "2                                                0.0    \n",
       "3                                                0.0    \n",
       "4                                                0.0    \n",
       "\n",
       "   sensor_04__permutation_entropy__dimension_7__tau_1  \\\n",
       "0                                                0.0    \n",
       "1                                                0.0    \n",
       "2                                                0.0    \n",
       "3                                                0.0    \n",
       "4                                                0.0    \n",
       "\n",
       "   sensor_04__query_similarity_count__query_None__threshold_0.0  \\\n",
       "0                                                0.0              \n",
       "1                                                0.0              \n",
       "2                                                0.0              \n",
       "3                                                0.0              \n",
       "4                                                0.0              \n",
       "\n",
       "   sensor_04__matrix_profile__feature_\"min\"__threshold_0.98  \\\n",
       "0                                                0.0          \n",
       "1                                                0.0          \n",
       "2                                                0.0          \n",
       "3                                                0.0          \n",
       "4                                                0.0          \n",
       "\n",
       "   sensor_04__matrix_profile__feature_\"max\"__threshold_0.98  \\\n",
       "0                                                0.0          \n",
       "1                                                0.0          \n",
       "2                                                0.0          \n",
       "3                                                0.0          \n",
       "4                                                0.0          \n",
       "\n",
       "   sensor_04__matrix_profile__feature_\"mean\"__threshold_0.98  \\\n",
       "0                                                0.0           \n",
       "1                                                0.0           \n",
       "2                                                0.0           \n",
       "3                                                0.0           \n",
       "4                                                0.0           \n",
       "\n",
       "   sensor_04__matrix_profile__feature_\"median\"__threshold_0.98  \\\n",
       "0                                                0.0             \n",
       "1                                                0.0             \n",
       "2                                                0.0             \n",
       "3                                                0.0             \n",
       "4                                                0.0             \n",
       "\n",
       "   sensor_04__matrix_profile__feature_\"25\"__threshold_0.98  \\\n",
       "0                                                0.0         \n",
       "1                                                0.0         \n",
       "2                                                0.0         \n",
       "3                                                0.0         \n",
       "4                                                0.0         \n",
       "\n",
       "   sensor_04__matrix_profile__feature_\"75\"__threshold_0.98  \\\n",
       "0                                                0.0         \n",
       "1                                                0.0         \n",
       "2                                                0.0         \n",
       "3                                                0.0         \n",
       "4                                                0.0         \n",
       "\n",
       "   sensor_04__mean_n_absolute_max__number_of_maxima_7  \n",
       "0                                                0.0   \n",
       "1                                                0.0   \n",
       "2                                                0.0   \n",
       "3                                                0.0   \n",
       "4                                                0.0   \n",
       "\n",
       "[5 rows x 789 columns]"
      ]
     },
     "execution_count": 35,
     "metadata": {},
     "output_type": "execute_result"
    }
   ],
   "source": [
    "X = extract_features(df.drop(['operation'], axis=1),\n",
    "                    column_id='index', column_sort='timestamp',\n",
    "                    column_value='sensor_04',\n",
    "                    impute_function=impute, show_warnings=False)\n",
    "X.head()"
   ]
  },
  {
   "cell_type": "code",
   "execution_count": 36,
   "id": "7b37986f",
   "metadata": {},
   "outputs": [
    {
     "data": {
      "text/plain": [
       "(220320, 789)"
      ]
     },
     "execution_count": 36,
     "metadata": {},
     "output_type": "execute_result"
    }
   ],
   "source": [
    "X.shape"
   ]
  },
  {
   "cell_type": "code",
   "execution_count": 37,
   "id": "7c683b18",
   "metadata": {},
   "outputs": [
    {
     "ename": "TypeError",
     "evalue": "'int' object is not subscriptable",
     "output_type": "error",
     "traceback": [
      "\u001b[0;31m---------------------------------------------------------------------------\u001b[0m",
      "\u001b[0;31mTypeError\u001b[0m                                 Traceback (most recent call last)",
      "Input \u001b[0;32mIn [37]\u001b[0m, in \u001b[0;36m<cell line: 1>\u001b[0;34m()\u001b[0m\n\u001b[0;32m----> 1\u001b[0m X \u001b[38;5;241m=\u001b[39m X\u001b[38;5;241m.\u001b[39mset_index(\u001b[43mX\u001b[49m\u001b[38;5;241;43m.\u001b[39;49m\u001b[43mindex\u001b[49m\u001b[38;5;241;43m.\u001b[39;49m\u001b[43mmap\u001b[49m\u001b[43m(\u001b[49m\u001b[38;5;28;43;01mlambda\u001b[39;49;00m\u001b[43m \u001b[49m\u001b[43mx\u001b[49m\u001b[43m:\u001b[49m\u001b[43m \u001b[49m\u001b[43mx\u001b[49m\u001b[43m[\u001b[49m\u001b[38;5;241;43m1\u001b[39;49m\u001b[43m]\u001b[49m\u001b[43m)\u001b[49m, drop\u001b[38;5;241m=\u001b[39m\u001b[38;5;28;01mTrue\u001b[39;00m)\n\u001b[1;32m      2\u001b[0m X\u001b[38;5;241m.\u001b[39mindex\u001b[38;5;241m.\u001b[39mname \u001b[38;5;241m=\u001b[39m \u001b[38;5;124m\"\u001b[39m\u001b[38;5;124mdetect_seq\u001b[39m\u001b[38;5;124m\"\u001b[39m\n\u001b[1;32m      3\u001b[0m X\u001b[38;5;241m.\u001b[39mhead()\n",
      "File \u001b[0;32m~/miniconda3/envs/ml/lib/python3.9/site-packages/pandas/core/indexes/base.py:5098\u001b[0m, in \u001b[0;36mIndex.map\u001b[0;34m(self, mapper, na_action)\u001b[0m\n\u001b[1;32m   5078\u001b[0m \u001b[38;5;124;03m\"\"\"\u001b[39;00m\n\u001b[1;32m   5079\u001b[0m \u001b[38;5;124;03mMap values using input correspondence (a dict, Series, or function).\u001b[39;00m\n\u001b[1;32m   5080\u001b[0m \n\u001b[0;32m   (...)\u001b[0m\n\u001b[1;32m   5094\u001b[0m \u001b[38;5;124;03m    a MultiIndex will be returned.\u001b[39;00m\n\u001b[1;32m   5095\u001b[0m \u001b[38;5;124;03m\"\"\"\u001b[39;00m\n\u001b[1;32m   5096\u001b[0m \u001b[38;5;28;01mfrom\u001b[39;00m \u001b[38;5;21;01mpandas\u001b[39;00m\u001b[38;5;21;01m.\u001b[39;00m\u001b[38;5;21;01mcore\u001b[39;00m\u001b[38;5;21;01m.\u001b[39;00m\u001b[38;5;21;01mindexes\u001b[39;00m\u001b[38;5;21;01m.\u001b[39;00m\u001b[38;5;21;01mmulti\u001b[39;00m \u001b[38;5;28;01mimport\u001b[39;00m MultiIndex\n\u001b[0;32m-> 5098\u001b[0m new_values \u001b[38;5;241m=\u001b[39m \u001b[38;5;28;43msuper\u001b[39;49m\u001b[43m(\u001b[49m\u001b[43m)\u001b[49m\u001b[38;5;241;43m.\u001b[39;49m\u001b[43m_map_values\u001b[49m\u001b[43m(\u001b[49m\u001b[43mmapper\u001b[49m\u001b[43m,\u001b[49m\u001b[43m \u001b[49m\u001b[43mna_action\u001b[49m\u001b[38;5;241;43m=\u001b[39;49m\u001b[43mna_action\u001b[49m\u001b[43m)\u001b[49m\n\u001b[1;32m   5100\u001b[0m attributes \u001b[38;5;241m=\u001b[39m \u001b[38;5;28mself\u001b[39m\u001b[38;5;241m.\u001b[39m_get_attributes_dict()\n\u001b[1;32m   5102\u001b[0m \u001b[38;5;66;03m# we can return a MultiIndex\u001b[39;00m\n",
      "File \u001b[0;32m~/miniconda3/envs/ml/lib/python3.9/site-packages/pandas/core/base.py:937\u001b[0m, in \u001b[0;36mIndexOpsMixin._map_values\u001b[0;34m(self, mapper, na_action)\u001b[0m\n\u001b[1;32m    934\u001b[0m         \u001b[38;5;28;01mraise\u001b[39;00m \u001b[38;5;167;01mValueError\u001b[39;00m(msg)\n\u001b[1;32m    936\u001b[0m \u001b[38;5;66;03m# mapper is a function\u001b[39;00m\n\u001b[0;32m--> 937\u001b[0m new_values \u001b[38;5;241m=\u001b[39m \u001b[43mmap_f\u001b[49m\u001b[43m(\u001b[49m\u001b[43mvalues\u001b[49m\u001b[43m,\u001b[49m\u001b[43m \u001b[49m\u001b[43mmapper\u001b[49m\u001b[43m)\u001b[49m\n\u001b[1;32m    939\u001b[0m \u001b[38;5;28;01mreturn\u001b[39;00m new_values\n",
      "File \u001b[0;32mpandas/_libs/lib.pyx:2467\u001b[0m, in \u001b[0;36mpandas._libs.lib.map_infer\u001b[0;34m()\u001b[0m\n",
      "Input \u001b[0;32mIn [37]\u001b[0m, in \u001b[0;36m<lambda>\u001b[0;34m(x)\u001b[0m\n\u001b[0;32m----> 1\u001b[0m X \u001b[38;5;241m=\u001b[39m X\u001b[38;5;241m.\u001b[39mset_index(X\u001b[38;5;241m.\u001b[39mindex\u001b[38;5;241m.\u001b[39mmap(\u001b[38;5;28;01mlambda\u001b[39;00m x: \u001b[43mx\u001b[49m\u001b[43m[\u001b[49m\u001b[38;5;241;43m1\u001b[39;49m\u001b[43m]\u001b[49m), drop\u001b[38;5;241m=\u001b[39m\u001b[38;5;28;01mTrue\u001b[39;00m)\n\u001b[1;32m      2\u001b[0m X\u001b[38;5;241m.\u001b[39mindex\u001b[38;5;241m.\u001b[39mname \u001b[38;5;241m=\u001b[39m \u001b[38;5;124m\"\u001b[39m\u001b[38;5;124mdetect_seq\u001b[39m\u001b[38;5;124m\"\u001b[39m\n\u001b[1;32m      3\u001b[0m X\u001b[38;5;241m.\u001b[39mhead()\n",
      "\u001b[0;31mTypeError\u001b[0m: 'int' object is not subscriptable"
     ]
    }
   ],
   "source": [
    "X = X.set_index(X.index.map(lambda x: x[1]), drop=True)\n",
    "X.index.name = \"detect_seq\"\n",
    "X.head()"
   ]
  },
  {
   "cell_type": "code",
   "execution_count": null,
   "id": "ff5f2242",
   "metadata": {},
   "outputs": [],
   "source": [
    "# window_size = 30 (30 min)\n",
    "df_rolled = roll_time_series(df, column_id='Symbols', \n",
    "                            column_sort='timestamp',\n",
    "                            max_timeshift=30)\n",
    "df_rolled.head()"
   ]
  },
  {
   "cell_type": "code",
   "execution_count": null,
   "id": "cd8317c5",
   "metadata": {},
   "outputs": [],
   "source": []
  },
  {
   "cell_type": "code",
   "execution_count": null,
   "id": "4247a6c3",
   "metadata": {},
   "outputs": [],
   "source": [
    "X = extract_features(X[X[\"index\"] == 0], column_id='index', column_sort='timestamp', n_jobs=20, impute_function=impute)"
   ]
  },
  {
   "cell_type": "code",
   "execution_count": null,
   "id": "f3d7d2f4",
   "metadata": {},
   "outputs": [],
   "source": []
  },
  {
   "cell_type": "code",
   "execution_count": null,
   "id": "cd7390a5",
   "metadata": {},
   "outputs": [],
   "source": [
    "x_train, x_test, y_train, y_test = model_selection.train_test_split(X,\n",
    "                                                                    y,\n",
    "                                                                   test_size=0.3,\n",
    "                                                                   shuffle=False,\n",
    "                                                                   random_state=42)"
   ]
  },
  {
   "cell_type": "code",
   "execution_count": null,
   "id": "ef48a418",
   "metadata": {},
   "outputs": [],
   "source": [
    "print(x_train.shape, x_test.shape, y_train.shape, y_test.shape)"
   ]
  },
  {
   "cell_type": "code",
   "execution_count": null,
   "id": "47264b2f",
   "metadata": {},
   "outputs": [],
   "source": [
    "print(y_train.nunique())\n",
    "print(y_test.nunique())"
   ]
  },
  {
   "cell_type": "code",
   "execution_count": null,
   "id": "93cfb4cc",
   "metadata": {},
   "outputs": [],
   "source": [
    "df.head(10)"
   ]
  },
  {
   "cell_type": "code",
   "execution_count": null,
   "id": "3dd6627e",
   "metadata": {},
   "outputs": [],
   "source": [
    "# extraction_settings = ComprehensiveFCParameters()\n",
    "# X = extract_features(df, column_sort='timestamp' )"
   ]
  },
  {
   "cell_type": "code",
   "execution_count": null,
   "id": "70674764",
   "metadata": {},
   "outputs": [],
   "source": []
  },
  {
   "cell_type": "code",
   "execution_count": null,
   "id": "217be873",
   "metadata": {},
   "outputs": [],
   "source": []
  },
  {
   "cell_type": "code",
   "execution_count": null,
   "id": "55a604b1",
   "metadata": {},
   "outputs": [],
   "source": []
  },
  {
   "cell_type": "code",
   "execution_count": null,
   "id": "f87e51ab",
   "metadata": {},
   "outputs": [],
   "source": []
  },
  {
   "cell_type": "code",
   "execution_count": null,
   "id": "870f6334",
   "metadata": {},
   "outputs": [],
   "source": [
    "# from tsfresh.feature_extraction import feature_calculators as fc\n",
    "\n",
    "# df['abs_energy'] = fc.abs_energy(df.sensor_04)\n",
    "# df['count_above_mean'] = fc.count_above_mean(df.sensor_04)\n",
    "# df['count_below_mean'] = fc.count_below_mean(df.sensor_04)\n",
    "# df['mean_abs_change'] = fc.mean_abs_change(df.sensor_04)\n",
    "# df['mean_change'] = fc.mean_change(df.sensor_04)\n",
    "\n",
    "# df.describe()"
   ]
  },
  {
   "cell_type": "code",
   "execution_count": null,
   "id": "abb0db86",
   "metadata": {},
   "outputs": [],
   "source": [
    "\n",
    "\n",
    "# tsfresh = TSFreshFeatureExtractor(default_fc_parameters='efficient', show_warnings=False, n_jobs=20)\n",
    "# df_tsf_x_train = tsfresh.fit_transform(x_train)\n",
    "# df_tsf_x_train.head()\n",
    "# df_extracted_features = extract_features(df, column_id='index', column_sort='timestamp' )"
   ]
  },
  {
   "cell_type": "code",
   "execution_count": null,
   "id": "47e53e73",
   "metadata": {},
   "outputs": [],
   "source": [
    "df_tsf_x_train.shape"
   ]
  },
  {
   "cell_type": "code",
   "execution_count": null,
   "id": "74a5469b",
   "metadata": {},
   "outputs": [],
   "source": []
  },
  {
   "cell_type": "code",
   "execution_count": null,
   "id": "dc2a6e1d",
   "metadata": {},
   "outputs": [],
   "source": []
  },
  {
   "cell_type": "code",
   "execution_count": null,
   "id": "f632b833",
   "metadata": {},
   "outputs": [],
   "source": []
  },
  {
   "cell_type": "code",
   "execution_count": null,
   "id": "cddc6519",
   "metadata": {},
   "outputs": [],
   "source": []
  },
  {
   "cell_type": "code",
   "execution_count": null,
   "id": "b45fcae6",
   "metadata": {},
   "outputs": [],
   "source": []
  },
  {
   "cell_type": "code",
   "execution_count": null,
   "id": "fe7ae9e9",
   "metadata": {},
   "outputs": [],
   "source": [
    "from tsfresh.examples.har_dataset import download_har_dataset, load_har_dataset, load_har_classes\n",
    "\n",
    "# fetch dataset from uci\n",
    "download_har_dataset()"
   ]
  },
  {
   "cell_type": "code",
   "execution_count": null,
   "id": "008b6efd",
   "metadata": {},
   "outputs": [],
   "source": [
    "df = load_har_dataset()\n",
    "df.head()"
   ]
  },
  {
   "cell_type": "code",
   "execution_count": null,
   "id": "3579ff17",
   "metadata": {},
   "outputs": [],
   "source": [
    "print(df.info())\n",
    "print(df.shape)"
   ]
  },
  {
   "cell_type": "code",
   "execution_count": null,
   "id": "7b1e1130",
   "metadata": {},
   "outputs": [],
   "source": [
    "y = load_har_classes()\n",
    "y"
   ]
  },
  {
   "cell_type": "code",
   "execution_count": null,
   "id": "76d89665",
   "metadata": {},
   "outputs": [],
   "source": [
    "y.nunique() # 0,1,2,3,4,5"
   ]
  },
  {
   "cell_type": "code",
   "execution_count": null,
   "id": "e6628258",
   "metadata": {},
   "outputs": [],
   "source": [
    "df['id'] = df.index\n",
    "df = df.melt(id_vars='id', var_name=\"time\").sort_values([\"id\", \"time\"]).reset_index(drop=True)\n",
    "df.head()"
   ]
  },
  {
   "cell_type": "code",
   "execution_count": null,
   "id": "f1581608",
   "metadata": {},
   "outputs": [],
   "source": [
    "df.shape"
   ]
  },
  {
   "cell_type": "code",
   "execution_count": null,
   "id": "02440a02",
   "metadata": {},
   "outputs": [],
   "source": [
    "df['id'].nunique()"
   ]
  },
  {
   "cell_type": "code",
   "execution_count": null,
   "id": "565a2064",
   "metadata": {},
   "outputs": [],
   "source": [
    "plt.title('accelerometer reading')\n",
    "plt.plot(df[df[\"id\"] == 0].set_index(\"time\").value)\n",
    "plt.show()"
   ]
  },
  {
   "cell_type": "code",
   "execution_count": null,
   "id": "272bee1d",
   "metadata": {},
   "outputs": [],
   "source": [
    "df.head()"
   ]
  },
  {
   "cell_type": "code",
   "execution_count": null,
   "id": "5dff7bf0",
   "metadata": {},
   "outputs": [],
   "source": [
    "df.info()"
   ]
  },
  {
   "cell_type": "code",
   "execution_count": null,
   "id": "c14b92c6",
   "metadata": {},
   "outputs": [],
   "source": [
    "X = extract_features(df[df[\"id\"] < 500], column_id='id', column_sort='time', impute_function=impute)\n",
    "X.head()"
   ]
  },
  {
   "cell_type": "code",
   "execution_count": null,
   "id": "d5f67c4c",
   "metadata": {},
   "outputs": [],
   "source": [
    "X_train, X_test, y_train, y_test = train_test_split(X, y[:500], test_size=.2)"
   ]
  },
  {
   "cell_type": "code",
   "execution_count": null,
   "id": "a351a499",
   "metadata": {},
   "outputs": [],
   "source": [
    "cf = DecisionTreeClassifier()\n",
    "cf.fit(X_train, y_train)\n",
    "print(classification_report(y_test, cf.predict(X_test)))"
   ]
  },
  {
   "cell_type": "code",
   "execution_count": null,
   "id": "7a9dd8cb",
   "metadata": {},
   "outputs": [],
   "source": []
  },
  {
   "cell_type": "code",
   "execution_count": null,
   "id": "b03dcc42",
   "metadata": {},
   "outputs": [],
   "source": []
  },
  {
   "cell_type": "code",
   "execution_count": null,
   "id": "f0d0db5f",
   "metadata": {},
   "outputs": [],
   "source": []
  },
  {
   "cell_type": "code",
   "execution_count": null,
   "id": "083ade3e",
   "metadata": {},
   "outputs": [],
   "source": []
  },
  {
   "cell_type": "code",
   "execution_count": null,
   "id": "c7f8ac05",
   "metadata": {},
   "outputs": [],
   "source": []
  },
  {
   "cell_type": "code",
   "execution_count": null,
   "id": "d1cf8e47",
   "metadata": {},
   "outputs": [],
   "source": []
  },
  {
   "cell_type": "code",
   "execution_count": null,
   "id": "63c2b6ad",
   "metadata": {},
   "outputs": [],
   "source": []
  },
  {
   "cell_type": "code",
   "execution_count": null,
   "id": "230c5373",
   "metadata": {},
   "outputs": [],
   "source": []
  },
  {
   "cell_type": "code",
   "execution_count": null,
   "id": "ce5dd33b",
   "metadata": {},
   "outputs": [],
   "source": []
  },
  {
   "cell_type": "code",
   "execution_count": null,
   "id": "d36e7c55",
   "metadata": {},
   "outputs": [],
   "source": []
  },
  {
   "cell_type": "code",
   "execution_count": null,
   "id": "93a992ab",
   "metadata": {},
   "outputs": [],
   "source": []
  },
  {
   "cell_type": "code",
   "execution_count": null,
   "id": "851c79dd",
   "metadata": {},
   "outputs": [],
   "source": []
  }
 ],
 "metadata": {
  "kernelspec": {
   "display_name": "Python 3 (ipykernel)",
   "language": "python",
   "name": "python3"
  },
  "language_info": {
   "codemirror_mode": {
    "name": "ipython",
    "version": 3
   },
   "file_extension": ".py",
   "mimetype": "text/x-python",
   "name": "python",
   "nbconvert_exporter": "python",
   "pygments_lexer": "ipython3",
   "version": "3.9.4"
  }
 },
 "nbformat": 4,
 "nbformat_minor": 5
}
