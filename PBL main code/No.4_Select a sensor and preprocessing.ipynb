{
 "cells": [
  {
   "cell_type": "code",
   "execution_count": 1,
   "id": "2a277f88",
   "metadata": {},
   "outputs": [
    {
     "ename": "ModuleNotFoundError",
     "evalue": "No module named 'pandas'",
     "output_type": "error",
     "traceback": [
      "\u001b[1;31m---------------------------------------------------------------------------\u001b[0m",
      "\u001b[1;31mModuleNotFoundError\u001b[0m                       Traceback (most recent call last)",
      "\u001b[1;32m~\\AppData\\Local\\Temp\\ipykernel_3900\\2430001305.py\u001b[0m in \u001b[0;36m<module>\u001b[1;34m\u001b[0m\n\u001b[0;32m      3\u001b[0m \u001b[1;33m\u001b[0m\u001b[0m\n\u001b[0;32m      4\u001b[0m \u001b[1;32mimport\u001b[0m \u001b[0mnumpy\u001b[0m \u001b[1;32mas\u001b[0m \u001b[0mnp\u001b[0m\u001b[1;33m\u001b[0m\u001b[1;33m\u001b[0m\u001b[0m\n\u001b[1;32m----> 5\u001b[1;33m \u001b[1;32mimport\u001b[0m \u001b[0mpandas\u001b[0m \u001b[1;32mas\u001b[0m \u001b[0mpd\u001b[0m\u001b[1;33m\u001b[0m\u001b[1;33m\u001b[0m\u001b[0m\n\u001b[0m\u001b[0;32m      6\u001b[0m \u001b[1;32mfrom\u001b[0m \u001b[0mdatetime\u001b[0m \u001b[1;32mimport\u001b[0m \u001b[0mdatetime\u001b[0m\u001b[1;33m\u001b[0m\u001b[1;33m\u001b[0m\u001b[0m\n\u001b[0;32m      7\u001b[0m \u001b[1;33m\u001b[0m\u001b[0m\n",
      "\u001b[1;31mModuleNotFoundError\u001b[0m: No module named 'pandas'"
     ]
    }
   ],
   "source": [
    "import os\n",
    "import csv\n",
    "\n",
    "import numpy as np\n",
    "import pandas as pd\n",
    "from datetime import datetime\n",
    "\n",
    "import seaborn as sns\n",
    "import matplotlib.pyplot as plt\n",
    "%matplotlib inline\n",
    "\n",
    "from sklearn.preprocessing import LabelEncoder\n",
    "\n",
    "from sklearn.preprocessing import MinMaxScaler, StandardScaler, PowerTransformer\n",
    "from sklearn.model_selection import train_test_split\n",
    "\n",
    "from sklearn.metrics import accuracy_score, mean_squared_error\n",
    "\n",
    "import tensorflow as tf\n",
    "from tensorflow.keras import Model, Sequential\n",
    "from tensorflow.keras.optimizers import Adam\n",
    "from tensorflow.keras import layers\n",
    "from tensorflow.keras.layers import RepeatVector, TimeDistributed\n",
    "from tensorflow.keras.layers import Dense, Dropout, Lambda, Input, Dense, LSTM\n",
    "from tensorflow.keras.losses import MeanSquaredLogarithmicError, mse, binary_crossentropy, kl_divergence\n",
    "\n",
    "tf.compat.v1.disable_eager_execution()\n",
    "from tensorflow.keras.models import Model, load_model\n",
    "from tensorflow.keras import optimizers\n",
    "from tensorflow.keras import backend as K\n",
    "\n",
    "import warnings\n",
    "warnings.filterwarnings('ignore')\n",
    "\n",
    "from IPython.core.display import display, HTML\n",
    "display(HTML(\"<style>.container { width:100% !important; }</style>\"))\n",
    "\n",
    "print(\"Setup Complete\")"
   ]
  },
  {
   "cell_type": "code",
   "execution_count": 2,
   "id": "2f2a61fc",
   "metadata": {},
   "outputs": [
    {
     "name": "stdout",
     "output_type": "stream",
     "text": [
      "Collecting pandas\n",
      "  Downloading pandas-1.3.5-cp37-cp37m-win_amd64.whl (10.0 MB)\n",
      "Requirement already satisfied: numpy>=1.17.3 in c:\\programdata\\anaconda3\\envs\\a2\\lib\\site-packages (from pandas) (1.21.5)\n",
      "Requirement already satisfied: python-dateutil>=2.7.3 in c:\\programdata\\anaconda3\\envs\\a2\\lib\\site-packages (from pandas) (2.8.2)\n",
      "Collecting pytz>=2017.3\n",
      "  Using cached pytz-2022.1-py2.py3-none-any.whl (503 kB)\n",
      "Requirement already satisfied: six>=1.5 in c:\\programdata\\anaconda3\\envs\\a2\\lib\\site-packages (from python-dateutil>=2.7.3->pandas) (1.16.0)\n",
      "Installing collected packages: pytz, pandas\n",
      "Successfully installed pandas-1.3.5 pytz-2022.1\n",
      "Collecting tensorflow\n",
      "  Downloading tensorflow-2.9.1-cp37-cp37m-win_amd64.whl (444.0 MB)\n",
      "Collecting tensorflow-io-gcs-filesystem>=0.23.1\n",
      "  Downloading tensorflow_io_gcs_filesystem-0.26.0-cp37-cp37m-win_amd64.whl (1.5 MB)\n",
      "Requirement already satisfied: typing-extensions>=3.6.6 in c:\\programdata\\anaconda3\\envs\\a2\\lib\\site-packages (from tensorflow) (4.1.1)\n",
      "Requirement already satisfied: six>=1.12.0 in c:\\programdata\\anaconda3\\envs\\a2\\lib\\site-packages (from tensorflow) (1.16.0)\n",
      "Collecting libclang>=13.0.0\n",
      "  Downloading libclang-14.0.1-py2.py3-none-win_amd64.whl (14.2 MB)\n",
      "Collecting opt-einsum>=2.3.2\n",
      "  Using cached opt_einsum-3.3.0-py3-none-any.whl (65 kB)\n",
      "Collecting flatbuffers<2,>=1.12\n",
      "  Using cached flatbuffers-1.12-py2.py3-none-any.whl (15 kB)\n",
      "Collecting wrapt>=1.11.0\n",
      "  Downloading wrapt-1.14.1-cp37-cp37m-win_amd64.whl (35 kB)\n",
      "Collecting tensorflow-estimator<2.10.0,>=2.9.0rc0\n",
      "  Downloading tensorflow_estimator-2.9.0-py2.py3-none-any.whl (438 kB)\n",
      "Collecting keras<2.10.0,>=2.9.0rc0\n",
      "  Downloading keras-2.9.0-py2.py3-none-any.whl (1.6 MB)\n",
      "Collecting absl-py>=1.0.0\n",
      "  Using cached absl_py-1.1.0-py3-none-any.whl (123 kB)\n",
      "Collecting gast<=0.4.0,>=0.2.1\n",
      "  Using cached gast-0.4.0-py3-none-any.whl (9.8 kB)\n",
      "Collecting keras-preprocessing>=1.1.1\n",
      "  Using cached Keras_Preprocessing-1.1.2-py2.py3-none-any.whl (42 kB)\n",
      "Collecting astunparse>=1.6.0\n",
      "  Using cached astunparse-1.6.3-py2.py3-none-any.whl (12 kB)\n",
      "Collecting tensorboard<2.10,>=2.9\n",
      "  Downloading tensorboard-2.9.1-py3-none-any.whl (5.8 MB)\n",
      "Requirement already satisfied: packaging in c:\\programdata\\anaconda3\\envs\\a2\\lib\\site-packages (from tensorflow) (21.3)\n",
      "Collecting termcolor>=1.1.0\n",
      "  Using cached termcolor-1.1.0.tar.gz (3.9 kB)\n",
      "Collecting google-pasta>=0.1.1\n",
      "  Using cached google_pasta-0.2.0-py3-none-any.whl (57 kB)\n",
      "Collecting h5py>=2.9.0\n",
      "  Downloading h5py-3.7.0-cp37-cp37m-win_amd64.whl (2.6 MB)\n",
      "Requirement already satisfied: numpy>=1.20 in c:\\programdata\\anaconda3\\envs\\a2\\lib\\site-packages (from tensorflow) (1.21.5)\n",
      "Requirement already satisfied: setuptools in c:\\programdata\\anaconda3\\envs\\a2\\lib\\site-packages (from tensorflow) (61.2.0)\n",
      "Collecting grpcio<2.0,>=1.24.3\n",
      "  Downloading grpcio-1.47.0-cp37-cp37m-win_amd64.whl (3.5 MB)\n"
     ]
    },
    {
     "name": "stderr",
     "output_type": "stream",
     "text": [
      "ERROR: Exception:\n",
      "Traceback (most recent call last):\n",
      "  File \"C:\\ProgramData\\Anaconda3\\envs\\a2\\lib\\site-packages\\pip\\_vendor\\urllib3\\response.py\", line 438, in _error_catcher\n",
      "    yield\n",
      "  File \"C:\\ProgramData\\Anaconda3\\envs\\a2\\lib\\site-packages\\pip\\_vendor\\urllib3\\response.py\", line 519, in read\n",
      "    data = self._fp.read(amt) if not fp_closed else b\"\"\n",
      "  File \"C:\\ProgramData\\Anaconda3\\envs\\a2\\lib\\site-packages\\pip\\_vendor\\cachecontrol\\filewrapper.py\", line 62, in read\n",
      "    data = self.__fp.read(amt)\n",
      "  File \"C:\\ProgramData\\Anaconda3\\envs\\a2\\lib\\http\\client.py\", line 465, in read\n",
      "    n = self.readinto(b)\n",
      "  File \"C:\\ProgramData\\Anaconda3\\envs\\a2\\lib\\http\\client.py\", line 509, in readinto\n",
      "    n = self.fp.readinto(b)\n",
      "  File \"C:\\ProgramData\\Anaconda3\\envs\\a2\\lib\\socket.py\", line 589, in readinto\n",
      "    return self._sock.recv_into(b)\n",
      "  File \"C:\\ProgramData\\Anaconda3\\envs\\a2\\lib\\ssl.py\", line 1071, in recv_into\n",
      "    return self.read(nbytes, buffer)\n",
      "  File \"C:\\ProgramData\\Anaconda3\\envs\\a2\\lib\\ssl.py\", line 929, in read\n",
      "    return self._sslobj.read(len, buffer)\n",
      "socket.timeout: The read operation timed out\n",
      "\n",
      "During handling of the above exception, another exception occurred:\n",
      "\n",
      "Traceback (most recent call last):\n",
      "  File \"C:\\ProgramData\\Anaconda3\\envs\\a2\\lib\\site-packages\\pip\\_internal\\cli\\base_command.py\", line 173, in _main\n",
      "    status = self.run(options, args)\n",
      "  File \"C:\\ProgramData\\Anaconda3\\envs\\a2\\lib\\site-packages\\pip\\_internal\\cli\\req_command.py\", line 203, in wrapper\n",
      "    return func(self, options, args)\n",
      "  File \"C:\\ProgramData\\Anaconda3\\envs\\a2\\lib\\site-packages\\pip\\_internal\\commands\\install.py\", line 316, in run\n",
      "    reqs, check_supported_wheels=not options.target_dir\n",
      "  File \"C:\\ProgramData\\Anaconda3\\envs\\a2\\lib\\site-packages\\pip\\_internal\\resolution\\resolvelib\\resolver.py\", line 95, in resolve\n",
      "    collected.requirements, max_rounds=try_to_avoid_resolution_too_deep\n",
      "  File \"C:\\ProgramData\\Anaconda3\\envs\\a2\\lib\\site-packages\\pip\\_vendor\\resolvelib\\resolvers.py\", line 472, in resolve\n",
      "    state = resolution.resolve(requirements, max_rounds=max_rounds)\n",
      "  File \"C:\\ProgramData\\Anaconda3\\envs\\a2\\lib\\site-packages\\pip\\_vendor\\resolvelib\\resolvers.py\", line 366, in resolve\n",
      "    failure_causes = self._attempt_to_pin_criterion(name)\n",
      "  File \"C:\\ProgramData\\Anaconda3\\envs\\a2\\lib\\site-packages\\pip\\_vendor\\resolvelib\\resolvers.py\", line 212, in _attempt_to_pin_criterion\n",
      "    criteria = self._get_updated_criteria(candidate)\n",
      "  File \"C:\\ProgramData\\Anaconda3\\envs\\a2\\lib\\site-packages\\pip\\_vendor\\resolvelib\\resolvers.py\", line 203, in _get_updated_criteria\n",
      "    self._add_to_criteria(criteria, requirement, parent=candidate)\n",
      "  File \"C:\\ProgramData\\Anaconda3\\envs\\a2\\lib\\site-packages\\pip\\_vendor\\resolvelib\\resolvers.py\", line 172, in _add_to_criteria\n",
      "    if not criterion.candidates:\n",
      "  File \"C:\\ProgramData\\Anaconda3\\envs\\a2\\lib\\site-packages\\pip\\_vendor\\resolvelib\\structs.py\", line 151, in __bool__\n",
      "    return bool(self._sequence)\n",
      "  File \"C:\\ProgramData\\Anaconda3\\envs\\a2\\lib\\site-packages\\pip\\_internal\\resolution\\resolvelib\\found_candidates.py\", line 140, in __bool__\n",
      "    return any(self)\n",
      "  File \"C:\\ProgramData\\Anaconda3\\envs\\a2\\lib\\site-packages\\pip\\_internal\\resolution\\resolvelib\\found_candidates.py\", line 128, in <genexpr>\n",
      "    return (c for c in iterator if id(c) not in self._incompatible_ids)\n",
      "  File \"C:\\ProgramData\\Anaconda3\\envs\\a2\\lib\\site-packages\\pip\\_internal\\resolution\\resolvelib\\found_candidates.py\", line 32, in _iter_built\n",
      "    candidate = func()\n",
      "  File \"C:\\ProgramData\\Anaconda3\\envs\\a2\\lib\\site-packages\\pip\\_internal\\resolution\\resolvelib\\factory.py\", line 209, in _make_candidate_from_link\n",
      "    version=version,\n",
      "  File \"C:\\ProgramData\\Anaconda3\\envs\\a2\\lib\\site-packages\\pip\\_internal\\resolution\\resolvelib\\candidates.py\", line 301, in __init__\n",
      "    version=version,\n",
      "  File \"C:\\ProgramData\\Anaconda3\\envs\\a2\\lib\\site-packages\\pip\\_internal\\resolution\\resolvelib\\candidates.py\", line 156, in __init__\n",
      "    self.dist = self._prepare()\n",
      "  File \"C:\\ProgramData\\Anaconda3\\envs\\a2\\lib\\site-packages\\pip\\_internal\\resolution\\resolvelib\\candidates.py\", line 227, in _prepare\n",
      "    dist = self._prepare_distribution()\n",
      "  File \"C:\\ProgramData\\Anaconda3\\envs\\a2\\lib\\site-packages\\pip\\_internal\\resolution\\resolvelib\\candidates.py\", line 306, in _prepare_distribution\n",
      "    self._ireq, parallel_builds=True\n",
      "  File \"C:\\ProgramData\\Anaconda3\\envs\\a2\\lib\\site-packages\\pip\\_internal\\operations\\prepare.py\", line 508, in prepare_linked_requirement\n",
      "    return self._prepare_linked_requirement(req, parallel_builds)\n",
      "  File \"C:\\ProgramData\\Anaconda3\\envs\\a2\\lib\\site-packages\\pip\\_internal\\operations\\prepare.py\", line 552, in _prepare_linked_requirement\n",
      "    self.download_dir, hashes\n",
      "  File \"C:\\ProgramData\\Anaconda3\\envs\\a2\\lib\\site-packages\\pip\\_internal\\operations\\prepare.py\", line 243, in unpack_url\n",
      "    hashes=hashes,\n",
      "  File \"C:\\ProgramData\\Anaconda3\\envs\\a2\\lib\\site-packages\\pip\\_internal\\operations\\prepare.py\", line 102, in get_http_url\n",
      "    from_path, content_type = download(link, temp_dir.path)\n",
      "  File \"C:\\ProgramData\\Anaconda3\\envs\\a2\\lib\\site-packages\\pip\\_internal\\network\\download.py\", line 145, in __call__\n",
      "    for chunk in chunks:\n",
      "  File \"C:\\ProgramData\\Anaconda3\\envs\\a2\\lib\\site-packages\\pip\\_internal\\cli\\progress_bars.py\", line 144, in iter\n",
      "    for x in it:\n",
      "  File \"C:\\ProgramData\\Anaconda3\\envs\\a2\\lib\\site-packages\\pip\\_internal\\network\\utils.py\", line 87, in response_chunks\n",
      "    decode_content=False,\n",
      "  File \"C:\\ProgramData\\Anaconda3\\envs\\a2\\lib\\site-packages\\pip\\_vendor\\urllib3\\response.py\", line 576, in stream\n",
      "    data = self.read(amt=amt, decode_content=decode_content)\n",
      "  File \"C:\\ProgramData\\Anaconda3\\envs\\a2\\lib\\site-packages\\pip\\_vendor\\urllib3\\response.py\", line 541, in read\n",
      "    raise IncompleteRead(self._fp_bytes_read, self.length_remaining)\n",
      "  File \"C:\\ProgramData\\Anaconda3\\envs\\a2\\lib\\contextlib.py\", line 130, in __exit__\n",
      "    self.gen.throw(type, value, traceback)\n",
      "  File \"C:\\ProgramData\\Anaconda3\\envs\\a2\\lib\\site-packages\\pip\\_vendor\\urllib3\\response.py\", line 443, in _error_catcher\n",
      "    raise ReadTimeoutError(self._pool, None, \"Read timed out.\")\n",
      "pip._vendor.urllib3.exceptions.ReadTimeoutError: HTTPSConnectionPool(host='files.pythonhosted.org', port=443): Read timed out.\n"
     ]
    }
   ],
   "source": [
    "!pip install pandas\n",
    "!pip install tensorflow"
   ]
  },
  {
   "cell_type": "markdown",
   "id": "1c5d1325",
   "metadata": {},
   "source": [
    "Feature Extraction and Extension CODE: https://github.com/min0355/ai-novatus/blob/main/PBL%20main%20code/No.3_Feature%20selection%20and%20Feature%20Extension.ipynb"
   ]
  },
  {
   "cell_type": "code",
   "execution_count": 2,
   "id": "187f4fd7",
   "metadata": {},
   "outputs": [],
   "source": [
    "def make_df(df, label):\n",
    "    \n",
    "    for col in label:\n",
    "        print(col)\n",
    "        le = LabelEncoder()\n",
    "        k = df.pop(col)\n",
    "        le.fit(k)\n",
    "        k = pd.DataFrame(le.transform(k))\n",
    "        df = pd.concat([df, k], axis=1)\n",
    "        \n",
    "    return df"
   ]
  },
  {
   "cell_type": "code",
   "execution_count": 3,
   "id": "840c682e",
   "metadata": {},
   "outputs": [
    {
     "name": "stdout",
     "output_type": "stream",
     "text": [
      "operation\n"
     ]
    },
    {
     "data": {
      "text/html": [
       "<div>\n",
       "<style scoped>\n",
       "    .dataframe tbody tr th:only-of-type {\n",
       "        vertical-align: middle;\n",
       "    }\n",
       "\n",
       "    .dataframe tbody tr th {\n",
       "        vertical-align: top;\n",
       "    }\n",
       "\n",
       "    .dataframe thead th {\n",
       "        text-align: right;\n",
       "    }\n",
       "</style>\n",
       "<table border=\"1\" class=\"dataframe\">\n",
       "  <thead>\n",
       "    <tr style=\"text-align: right;\">\n",
       "      <th></th>\n",
       "      <th>timestamp</th>\n",
       "      <th>sensor_04</th>\n",
       "      <th>0</th>\n",
       "    </tr>\n",
       "  </thead>\n",
       "  <tbody>\n",
       "    <tr>\n",
       "      <th>0</th>\n",
       "      <td>2018-04-01 00:00:00</td>\n",
       "      <td>0.792242</td>\n",
       "      <td>0</td>\n",
       "    </tr>\n",
       "    <tr>\n",
       "      <th>1</th>\n",
       "      <td>2018-04-01 00:01:00</td>\n",
       "      <td>0.792242</td>\n",
       "      <td>0</td>\n",
       "    </tr>\n",
       "    <tr>\n",
       "      <th>2</th>\n",
       "      <td>2018-04-01 00:02:00</td>\n",
       "      <td>0.797904</td>\n",
       "      <td>0</td>\n",
       "    </tr>\n",
       "    <tr>\n",
       "      <th>3</th>\n",
       "      <td>2018-04-01 00:03:00</td>\n",
       "      <td>0.784402</td>\n",
       "      <td>0</td>\n",
       "    </tr>\n",
       "    <tr>\n",
       "      <th>4</th>\n",
       "      <td>2018-04-01 00:04:00</td>\n",
       "      <td>0.794855</td>\n",
       "      <td>0</td>\n",
       "    </tr>\n",
       "  </tbody>\n",
       "</table>\n",
       "</div>"
      ],
      "text/plain": [
       "             timestamp  sensor_04  0\n",
       "0  2018-04-01 00:00:00   0.792242  0\n",
       "1  2018-04-01 00:01:00   0.792242  0\n",
       "2  2018-04-01 00:02:00   0.797904  0\n",
       "3  2018-04-01 00:03:00   0.784402  0\n",
       "4  2018-04-01 00:04:00   0.794855  0"
      ]
     },
     "execution_count": 3,
     "metadata": {},
     "output_type": "execute_result"
    }
   ],
   "source": [
    "df = pd.read_csv(r'/home/kym/ML/input/ai_nova/pre_sensor.csv')\n",
    "\n",
    "feature = [\n",
    "    f for f in df.columns if f in (\"timestamp\", \"sensor_04\", \"operation\")\n",
    "]\n",
    "\n",
    "df = df[feature]\n",
    "df = make_df(df, ['operation'])\n",
    "\n",
    "df.to_csv(r'/home/kym/ML/input/ai_nova/final_sensor.csv', index=False)\n",
    "df.head()"
   ]
  },
  {
   "cell_type": "code",
   "execution_count": 4,
   "id": "8a9f4041",
   "metadata": {},
   "outputs": [],
   "source": [
    "def load_data(dataset, csv_folder='/home/kym/ML/input/ai_nova/'):\n",
    "    if dataset == 'final_sensor':\n",
    "        data_file = os.path.join(csv_folder, 'final_sensor.csv') # only remain timestamp, sensor_04, (label)\n",
    "        anomalies = ['2018-04-12 21:55:00', '2018-04-18 00:30:00', '2018-05-19 03:18:00', '2018-05-25 00:30:00', \n",
    "                     '2018-06-28 22:00:00', '2018-07-08 00:11:00', '2018-07-25 14:00:00']\n",
    "        t_unit = '1 min'\n",
    "    \n",
    "    t = []\n",
    "    readings = []\n",
    "    idx_anomaly = []\n",
    "    \n",
    "    i = 0\n",
    "    \n",
    "    with open(data_file) as csvfile:\n",
    "        readCSV = csv.reader(csvfile)\n",
    "        print(\"\\n --> Anomalies occur at: \")\n",
    "        \n",
    "        for row in readCSV:\n",
    "            if i > 0:\n",
    "                t.append(i)\n",
    "                readings.append(float(row[1]))\n",
    "                for j in range(len(anomalies)):\n",
    "                    if row[0] == anomalies[j]:\n",
    "                        idx_anomaly.append(i)\n",
    "                        print(\"   timestamp #{}: {}\".format(j, row[0]))\n",
    "            i += 1\n",
    "    \n",
    "    t = np.asarray(t)\n",
    "    readings = np.asarray(readings)\n",
    "    print(\"\\nOriginal CSV file contains {} timestamps.\".format(t.shape))\n",
    "    print(\"Processed time series contain {} reading.\".format(readings.shape))\n",
    "    print(\"Anomaly indices are {}\".format(idx_anomaly))\n",
    "    \n",
    "    return t, t_unit, readings, idx_anomaly"
   ]
  },
  {
   "cell_type": "code",
   "execution_count": 5,
   "id": "d79061af",
   "metadata": {},
   "outputs": [
    {
     "name": "stdout",
     "output_type": "stream",
     "text": [
      "\n",
      " --> Anomalies occur at: \n",
      "   timestamp #0: 2018-04-12 21:55:00\n",
      "   timestamp #1: 2018-04-18 00:30:00\n",
      "   timestamp #2: 2018-05-19 03:18:00\n",
      "   timestamp #3: 2018-05-25 00:30:00\n",
      "   timestamp #4: 2018-06-28 22:00:00\n",
      "   timestamp #5: 2018-07-08 00:11:00\n",
      "   timestamp #6: 2018-07-25 14:00:00\n",
      "\n",
      "Original CSV file contains (220320,) timestamps.\n",
      "Processed time series contain (220320,) reading.\n",
      "Anomaly indices are [17156, 24511, 69319, 77791, 128041, 141132, 166441]\n"
     ]
    },
    {
     "data": {
      "text/plain": [
       "(array([     1,      2,      3, ..., 220318, 220319, 220320]),\n",
       " '1 min',\n",
       " array([0.79224211, 0.79224211, 0.79790429, ..., 0.78164367, 0.79383907,\n",
       "        0.79906572]),\n",
       " [17156, 24511, 69319, 77791, 128041, 141132, 166441])"
      ]
     },
     "execution_count": 5,
     "metadata": {},
     "output_type": "execute_result"
    }
   ],
   "source": [
    "load_data('final_sensor')"
   ]
  },
  {
   "cell_type": "code",
   "execution_count": 6,
   "id": "cd56707e",
   "metadata": {},
   "outputs": [],
   "source": [
    "def process_and_save_specified_dataset(dataset, idx_split, y_scale=5, save_file=False):\n",
    "    t, t_unit, readings, idx_anomaly = load_data(dataset)\n",
    "    \n",
    "    # split train and test sets\n",
    "    training = readings[idx_split[0]:idx_split[1]]\n",
    "    t_train = t[idx_split[0]:idx_split[1]]\n",
    "    \n",
    "    # for general algorithm (Normalization)\n",
    "    train_m = np.mean(training)\n",
    "    train_std = np.std(training)\n",
    "    print(\"\\nTraining set mean is {}\".format(train_m))\n",
    "    print(\"Training set std id {}\".format(train_std))\n",
    "    readings_normalised = (readings - train_m) / train_std\n",
    "    training = readings_normalised[idx_split[0]:idx_split[1]]\n",
    "    \n",
    "    if idx_split[0] == 0:\n",
    "        test = readings_normalised[idx_split[1]]\n",
    "        t_test = t[idx_split[1]:] - idx_split[1]\n",
    "        idx_anomaly_test = np.asarray(idx_anomaly) - idx_split[1]\n",
    "    else:\n",
    "        test = [readings_normalised[:idx_split[0]], readings_normalised[idx_split[1]:]]\n",
    "        t_test = [t[:idx_split[0]], t[idx_split[1]:] - idx_split[1]]\n",
    "        idx_anomaly_split = np.squeeze(np.argwhere(np.asarray(idx_anomaly) > idx_split[0]))\n",
    "        idx_anomaly_test = [np.asarray(idx_anomaly[:idx_anomaly_split[0]]),\n",
    "                           np.asarray(idx_anomaly[idx_anomaly_split[0]:]) - idx_split[1]]\n",
    "        \n",
    "    print(\"Anomaly indices in the test set are {}\".format(idx_anomaly_test))\n",
    "    \n",
    "    if save_file:\n",
    "        save_dir = '/home/kym/ML/input/ai_nova/'\n",
    "        np.savez(save_dir + dataset + '.npz', t=t, t_unit=t_unit, readings=readings, idx_anomaly=idx_anomaly,\n",
    "                idx_split=idx_split, training=training, test=test, train_m=train_m, train_std=train_std,\n",
    "                t_train=t_train, t_test=t_test, idx_anomaly_test=idx_anomaly_test)\n",
    "        \n",
    "        print(\"\\nProcessed time series are saved at {}\",format(save_dir + dataset + '.npz'))\n",
    "    else:\n",
    "        print(\"\\nProcessed time series are not saved.\")\n",
    "        \n",
    "    # plot the whole normalised sequence \n",
    "    fig, axs = plt.subplots(1, 1, figsize=(18, 6), edgecolor='k')\n",
    "    fig.subplots_adjust(hspace=.4, wspace=.4)\n",
    "    axs.plot(t, readings_normalised)\n",
    "    \n",
    "    if idx_split[0] == 0:\n",
    "        axs.plot(idx_split[1] * np.ones(20), np.linspace(-y_scale, y_scale, 20), 'b--')\n",
    "        \n",
    "    else:\n",
    "        for i in range(2):\n",
    "            axs.plot(idx_split[i] * np.ones(20), np.linspace(-y_scale, y_scale, 20), 'b--')\n",
    "    \n",
    "    for j in range(len(idx_anomaly)):\n",
    "        axs.plot(idx_anomaly[j] * np.ones(20), np.linspace(-y_scale, y_scale, 20), 'r--')\n",
    "    \n",
    "    axs.grid(True)\n",
    "    axs.set_xlim(0, len(t))\n",
    "    axs.set_ylim(-y_scale, y_scale)\n",
    "    axs.set_xlabel('timestamp (every {})'.format(t_unit))\n",
    "    axs.set_ylabel('normalised readings')\n",
    "    axs.set_title(\"{} dataset\\n(normalised by train mean {:.2f} and std {:.2f})\".format(dataset, train_m, train_std))\n",
    "    axs.legend(('data', 'train test set split', 'anomalies'))\n",
    "    \n",
    "    return t, readings_normalised"
   ]
  },
  {
   "cell_type": "code",
   "execution_count": 7,
   "id": "175e40aa",
   "metadata": {
    "scrolled": true
   },
   "outputs": [
    {
     "name": "stdout",
     "output_type": "stream",
     "text": [
      "\n",
      " --> Anomalies occur at: \n",
      "   timestamp #0: 2018-04-12 21:55:00\n",
      "   timestamp #1: 2018-04-18 00:30:00\n",
      "   timestamp #2: 2018-05-19 03:18:00\n",
      "   timestamp #3: 2018-05-25 00:30:00\n",
      "   timestamp #4: 2018-06-28 22:00:00\n",
      "   timestamp #5: 2018-07-08 00:11:00\n",
      "   timestamp #6: 2018-07-25 14:00:00\n"
     ]
    },
    {
     "name": "stderr",
     "output_type": "stream",
     "text": [
      "findfont: Font family ['NanumGothic'] not found. Falling back to DejaVu Sans.\n",
      "findfont: Font family ['NanumGothic'] not found. Falling back to DejaVu Sans.\n"
     ]
    },
    {
     "name": "stdout",
     "output_type": "stream",
     "text": [
      "\n",
      "Original CSV file contains (220320,) timestamps.\n",
      "Processed time series contain (220320,) reading.\n",
      "Anomaly indices are [17156, 24511, 69319, 77791, 128041, 141132, 166441]\n",
      "\n",
      "Training set mean is 0.7411915275046519\n",
      "Training set std id 0.16395578827161714\n",
      "Anomaly indices in the test set are [-112844 -105489  -60681  -52209   -1959   11132   36441]\n",
      "\n",
      "Processed time series are saved at {} /home/kym/ML/input/ai_nova/final_sensor.npz\n"
     ]
    },
    {
     "data": {
      "image/png": "[encoded data removed]",
      "text/plain": [
       "<Figure size 1296x432 with 1 Axes>"
      ]
     },
     "metadata": {
      "needs_background": "light"
     },
     "output_type": "display_data"
    }
   ],
   "source": [
    "dataset = 'final_sensor'\n",
    "idx_split = [0, 130000] # 5 anomalies\n",
    "\n",
    "t, readings_normalised = process_and_save_specified_dataset(dataset, idx_split, save_file=True)"
   ]
  },
  {
   "cell_type": "markdown",
   "id": "5fc89318",
   "metadata": {},
   "source": [
    "* t - timestamp for each reading in the time series.\n",
    "* t_unit - unit for the interval between two consecutive timestamps.\n",
    "* readings - the original time series values; same as the time series loaded from the original .csv file.\n",
    "* idx_anomaly - indices where the anomalies occurred; computed from the anomaly timestamps from the original .csv file.\n",
    "* idx_split - indices between which the training set is created. We took a section of the original time series where no anomalies have occurred as the training set.\n",
    "* training - normalised time series for the training set.\n",
    "* test - normalised time series for the test set.\n",
    "* t_train - indices for the training set readings.\n",
    "* t_test - indices for the test set readings.\n",
    "* idx_anomaly_test - indices for the anomalies in the test set."
   ]
  }
 ],
 "metadata": {
  "kernelspec": {
   "display_name": "Python 3.7.13 ('a2')",
   "language": "python",
   "name": "python3"
  },
  "language_info": {
   "codemirror_mode": {
    "name": "ipython",
    "version": 3
   },
   "file_extension": ".py",
   "mimetype": "text/x-python",
   "name": "python",
   "nbconvert_exporter": "python",
   "pygments_lexer": "ipython3",
   "version": "3.7.13"
  },
  "vscode": {
   "interpreter": {
    "hash": "73734fb85ab712c7f9b8386535a7c5a889b13346c2058dd06f37b8b529b6a414"
   }
  }
 },
 "nbformat": 4,
 "nbformat_minor": 5
}
