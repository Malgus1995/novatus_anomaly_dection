{
 "cells": [
  {
   "cell_type": "code",
   "execution_count": 3,
   "id": "2a277f88",
   "metadata": {},
   "outputs": [
    {
     "name": "stderr",
     "output_type": "stream",
     "text": [
      "c:\\ProgramData\\Anaconda3\\envs\\torch_cuda\\lib\\site-packages\\tqdm\\auto.py:22: TqdmWarning: IProgress not found. Please update jupyter and ipywidgets. See https://ipywidgets.readthedocs.io/en/stable/user_install.html\n",
      "  from .autonotebook import tqdm as notebook_tqdm\n"
     ]
    }
   ],
   "source": [
    "import numpy as np\n",
    "import pandas as pd\n",
    "from datetime import datetime\n",
    "\n",
    "import seaborn as sns\n",
    "import matplotlib.pyplot as plt\n",
    "%matplotlib inline\n",
    "\n",
    "from sklearn.preprocessing import MinMaxScaler, StandardScaler, PowerTransformer\n",
    "from sklearn.model_selection import train_test_split\n",
    "\n",
    "from sklearn.metrics import accuracy_score\n",
    "\n",
    "import torch"
   ]
  },
  {
   "cell_type": "code",
   "execution_count": 4,
   "id": "abea9830",
   "metadata": {},
   "outputs": [
    {
     "data": {
      "text/html": [
       "<style>.container { width:100% !important; }</style>"
      ],
      "text/plain": [
       "<IPython.core.display.HTML object>"
      ]
     },
     "metadata": {},
     "output_type": "display_data"
    },
    {
     "name": "stdout",
     "output_type": "stream",
     "text": [
      "Setup Complete\n"
     ]
    }
   ],
   "source": [
    "import warnings\n",
    "warnings.filterwarnings('ignore')\n",
    "\n",
    "from IPython.core.display import display, HTML\n",
    "display(HTML(\"<style>.container { width:100% !important; }</style>\"))\n",
    "\n",
    "print(\"Setup Complete\")"
   ]
  },
  {
   "cell_type": "markdown",
   "id": "1c5d1325",
   "metadata": {},
   "source": [
    "Feature Extraction and Extension CODE: https://github.com/min0355/ai-novatus/blob/main/PBL%20main%20code/No.3_Feature%20selection%20and%20Feature%20Extension.ipynb"
   ]
  },
  {
   "cell_type": "code",
   "execution_count": 5,
   "id": "92e34e2e",
   "metadata": {},
   "outputs": [
    {
     "ename": "FileNotFoundError",
     "evalue": "[Errno 2] No such file or directory: './pre_sensor.csv'",
     "output_type": "error",
     "traceback": [
      "\u001b[1;31m---------------------------------------------------------------------------\u001b[0m",
      "\u001b[1;31mFileNotFoundError\u001b[0m                         Traceback (most recent call last)",
      "\u001b[1;32mc:\\Users\\Administrator\\Desktop\\ai-novatus-main\\ai-novatus-main\\PBL main code\\Sung_uk_code\\No.4_Algorithm.ipynb Cell 4'\u001b[0m in \u001b[0;36m<cell line: 1>\u001b[1;34m()\u001b[0m\n\u001b[1;32m----> <a href='vscode-notebook-cell:/c%3A/Users/Administrator/Desktop/ai-novatus-main/ai-novatus-main/PBL%20main%20code/Sung_uk_code/No.4_Algorithm.ipynb#ch0000003?line=0'>1</a>\u001b[0m df \u001b[39m=\u001b[39m pd\u001b[39m.\u001b[39;49mread_csv(\u001b[39mr\u001b[39;49m\u001b[39m'\u001b[39;49m\u001b[39m./pre_sensor.csv\u001b[39;49m\u001b[39m'\u001b[39;49m)\n\u001b[0;32m      <a href='vscode-notebook-cell:/c%3A/Users/Administrator/Desktop/ai-novatus-main/ai-novatus-main/PBL%20main%20code/Sung_uk_code/No.4_Algorithm.ipynb#ch0000003?line=1'>2</a>\u001b[0m df\u001b[39m.\u001b[39mhead(\u001b[39m1\u001b[39m)\n",
      "File \u001b[1;32mc:\\ProgramData\\Anaconda3\\envs\\torch_cuda\\lib\\site-packages\\pandas\\util\\_decorators.py:311\u001b[0m, in \u001b[0;36mdeprecate_nonkeyword_arguments.<locals>.decorate.<locals>.wrapper\u001b[1;34m(*args, **kwargs)\u001b[0m\n\u001b[0;32m    305\u001b[0m \u001b[39mif\u001b[39;00m \u001b[39mlen\u001b[39m(args) \u001b[39m>\u001b[39m num_allow_args:\n\u001b[0;32m    306\u001b[0m     warnings\u001b[39m.\u001b[39mwarn(\n\u001b[0;32m    307\u001b[0m         msg\u001b[39m.\u001b[39mformat(arguments\u001b[39m=\u001b[39marguments),\n\u001b[0;32m    308\u001b[0m         \u001b[39mFutureWarning\u001b[39;00m,\n\u001b[0;32m    309\u001b[0m         stacklevel\u001b[39m=\u001b[39mstacklevel,\n\u001b[0;32m    310\u001b[0m     )\n\u001b[1;32m--> 311\u001b[0m \u001b[39mreturn\u001b[39;00m func(\u001b[39m*\u001b[39margs, \u001b[39m*\u001b[39m\u001b[39m*\u001b[39mkwargs)\n",
      "File \u001b[1;32mc:\\ProgramData\\Anaconda3\\envs\\torch_cuda\\lib\\site-packages\\pandas\\io\\parsers\\readers.py:680\u001b[0m, in \u001b[0;36mread_csv\u001b[1;34m(filepath_or_buffer, sep, delimiter, header, names, index_col, usecols, squeeze, prefix, mangle_dupe_cols, dtype, engine, converters, true_values, false_values, skipinitialspace, skiprows, skipfooter, nrows, na_values, keep_default_na, na_filter, verbose, skip_blank_lines, parse_dates, infer_datetime_format, keep_date_col, date_parser, dayfirst, cache_dates, iterator, chunksize, compression, thousands, decimal, lineterminator, quotechar, quoting, doublequote, escapechar, comment, encoding, encoding_errors, dialect, error_bad_lines, warn_bad_lines, on_bad_lines, delim_whitespace, low_memory, memory_map, float_precision, storage_options)\u001b[0m\n\u001b[0;32m    665\u001b[0m kwds_defaults \u001b[39m=\u001b[39m _refine_defaults_read(\n\u001b[0;32m    666\u001b[0m     dialect,\n\u001b[0;32m    667\u001b[0m     delimiter,\n\u001b[1;32m   (...)\u001b[0m\n\u001b[0;32m    676\u001b[0m     defaults\u001b[39m=\u001b[39m{\u001b[39m\"\u001b[39m\u001b[39mdelimiter\u001b[39m\u001b[39m\"\u001b[39m: \u001b[39m\"\u001b[39m\u001b[39m,\u001b[39m\u001b[39m\"\u001b[39m},\n\u001b[0;32m    677\u001b[0m )\n\u001b[0;32m    678\u001b[0m kwds\u001b[39m.\u001b[39mupdate(kwds_defaults)\n\u001b[1;32m--> 680\u001b[0m \u001b[39mreturn\u001b[39;00m _read(filepath_or_buffer, kwds)\n",
      "File \u001b[1;32mc:\\ProgramData\\Anaconda3\\envs\\torch_cuda\\lib\\site-packages\\pandas\\io\\parsers\\readers.py:575\u001b[0m, in \u001b[0;36m_read\u001b[1;34m(filepath_or_buffer, kwds)\u001b[0m\n\u001b[0;32m    572\u001b[0m _validate_names(kwds\u001b[39m.\u001b[39mget(\u001b[39m\"\u001b[39m\u001b[39mnames\u001b[39m\u001b[39m\"\u001b[39m, \u001b[39mNone\u001b[39;00m))\n\u001b[0;32m    574\u001b[0m \u001b[39m# Create the parser.\u001b[39;00m\n\u001b[1;32m--> 575\u001b[0m parser \u001b[39m=\u001b[39m TextFileReader(filepath_or_buffer, \u001b[39m*\u001b[39m\u001b[39m*\u001b[39mkwds)\n\u001b[0;32m    577\u001b[0m \u001b[39mif\u001b[39;00m chunksize \u001b[39mor\u001b[39;00m iterator:\n\u001b[0;32m    578\u001b[0m     \u001b[39mreturn\u001b[39;00m parser\n",
      "File \u001b[1;32mc:\\ProgramData\\Anaconda3\\envs\\torch_cuda\\lib\\site-packages\\pandas\\io\\parsers\\readers.py:933\u001b[0m, in \u001b[0;36mTextFileReader.__init__\u001b[1;34m(self, f, engine, **kwds)\u001b[0m\n\u001b[0;32m    930\u001b[0m     \u001b[39mself\u001b[39m\u001b[39m.\u001b[39moptions[\u001b[39m\"\u001b[39m\u001b[39mhas_index_names\u001b[39m\u001b[39m\"\u001b[39m] \u001b[39m=\u001b[39m kwds[\u001b[39m\"\u001b[39m\u001b[39mhas_index_names\u001b[39m\u001b[39m\"\u001b[39m]\n\u001b[0;32m    932\u001b[0m \u001b[39mself\u001b[39m\u001b[39m.\u001b[39mhandles: IOHandles \u001b[39m|\u001b[39m \u001b[39mNone\u001b[39;00m \u001b[39m=\u001b[39m \u001b[39mNone\u001b[39;00m\n\u001b[1;32m--> 933\u001b[0m \u001b[39mself\u001b[39m\u001b[39m.\u001b[39m_engine \u001b[39m=\u001b[39m \u001b[39mself\u001b[39;49m\u001b[39m.\u001b[39;49m_make_engine(f, \u001b[39mself\u001b[39;49m\u001b[39m.\u001b[39;49mengine)\n",
      "File \u001b[1;32mc:\\ProgramData\\Anaconda3\\envs\\torch_cuda\\lib\\site-packages\\pandas\\io\\parsers\\readers.py:1217\u001b[0m, in \u001b[0;36mTextFileReader._make_engine\u001b[1;34m(self, f, engine)\u001b[0m\n\u001b[0;32m   1213\u001b[0m     mode \u001b[39m=\u001b[39m \u001b[39m\"\u001b[39m\u001b[39mrb\u001b[39m\u001b[39m\"\u001b[39m\n\u001b[0;32m   1214\u001b[0m \u001b[39m# error: No overload variant of \"get_handle\" matches argument types\u001b[39;00m\n\u001b[0;32m   1215\u001b[0m \u001b[39m# \"Union[str, PathLike[str], ReadCsvBuffer[bytes], ReadCsvBuffer[str]]\"\u001b[39;00m\n\u001b[0;32m   1216\u001b[0m \u001b[39m# , \"str\", \"bool\", \"Any\", \"Any\", \"Any\", \"Any\", \"Any\"\u001b[39;00m\n\u001b[1;32m-> 1217\u001b[0m \u001b[39mself\u001b[39m\u001b[39m.\u001b[39mhandles \u001b[39m=\u001b[39m get_handle(  \u001b[39m# type: ignore[call-overload]\u001b[39;49;00m\n\u001b[0;32m   1218\u001b[0m     f,\n\u001b[0;32m   1219\u001b[0m     mode,\n\u001b[0;32m   1220\u001b[0m     encoding\u001b[39m=\u001b[39;49m\u001b[39mself\u001b[39;49m\u001b[39m.\u001b[39;49moptions\u001b[39m.\u001b[39;49mget(\u001b[39m\"\u001b[39;49m\u001b[39mencoding\u001b[39;49m\u001b[39m\"\u001b[39;49m, \u001b[39mNone\u001b[39;49;00m),\n\u001b[0;32m   1221\u001b[0m     compression\u001b[39m=\u001b[39;49m\u001b[39mself\u001b[39;49m\u001b[39m.\u001b[39;49moptions\u001b[39m.\u001b[39;49mget(\u001b[39m\"\u001b[39;49m\u001b[39mcompression\u001b[39;49m\u001b[39m\"\u001b[39;49m, \u001b[39mNone\u001b[39;49;00m),\n\u001b[0;32m   1222\u001b[0m     memory_map\u001b[39m=\u001b[39;49m\u001b[39mself\u001b[39;49m\u001b[39m.\u001b[39;49moptions\u001b[39m.\u001b[39;49mget(\u001b[39m\"\u001b[39;49m\u001b[39mmemory_map\u001b[39;49m\u001b[39m\"\u001b[39;49m, \u001b[39mFalse\u001b[39;49;00m),\n\u001b[0;32m   1223\u001b[0m     is_text\u001b[39m=\u001b[39;49mis_text,\n\u001b[0;32m   1224\u001b[0m     errors\u001b[39m=\u001b[39;49m\u001b[39mself\u001b[39;49m\u001b[39m.\u001b[39;49moptions\u001b[39m.\u001b[39;49mget(\u001b[39m\"\u001b[39;49m\u001b[39mencoding_errors\u001b[39;49m\u001b[39m\"\u001b[39;49m, \u001b[39m\"\u001b[39;49m\u001b[39mstrict\u001b[39;49m\u001b[39m\"\u001b[39;49m),\n\u001b[0;32m   1225\u001b[0m     storage_options\u001b[39m=\u001b[39;49m\u001b[39mself\u001b[39;49m\u001b[39m.\u001b[39;49moptions\u001b[39m.\u001b[39;49mget(\u001b[39m\"\u001b[39;49m\u001b[39mstorage_options\u001b[39;49m\u001b[39m\"\u001b[39;49m, \u001b[39mNone\u001b[39;49;00m),\n\u001b[0;32m   1226\u001b[0m )\n\u001b[0;32m   1227\u001b[0m \u001b[39massert\u001b[39;00m \u001b[39mself\u001b[39m\u001b[39m.\u001b[39mhandles \u001b[39mis\u001b[39;00m \u001b[39mnot\u001b[39;00m \u001b[39mNone\u001b[39;00m\n\u001b[0;32m   1228\u001b[0m f \u001b[39m=\u001b[39m \u001b[39mself\u001b[39m\u001b[39m.\u001b[39mhandles\u001b[39m.\u001b[39mhandle\n",
      "File \u001b[1;32mc:\\ProgramData\\Anaconda3\\envs\\torch_cuda\\lib\\site-packages\\pandas\\io\\common.py:789\u001b[0m, in \u001b[0;36mget_handle\u001b[1;34m(path_or_buf, mode, encoding, compression, memory_map, is_text, errors, storage_options)\u001b[0m\n\u001b[0;32m    784\u001b[0m \u001b[39melif\u001b[39;00m \u001b[39misinstance\u001b[39m(handle, \u001b[39mstr\u001b[39m):\n\u001b[0;32m    785\u001b[0m     \u001b[39m# Check whether the filename is to be opened in binary mode.\u001b[39;00m\n\u001b[0;32m    786\u001b[0m     \u001b[39m# Binary mode does not support 'encoding' and 'newline'.\u001b[39;00m\n\u001b[0;32m    787\u001b[0m     \u001b[39mif\u001b[39;00m ioargs\u001b[39m.\u001b[39mencoding \u001b[39mand\u001b[39;00m \u001b[39m\"\u001b[39m\u001b[39mb\u001b[39m\u001b[39m\"\u001b[39m \u001b[39mnot\u001b[39;00m \u001b[39min\u001b[39;00m ioargs\u001b[39m.\u001b[39mmode:\n\u001b[0;32m    788\u001b[0m         \u001b[39m# Encoding\u001b[39;00m\n\u001b[1;32m--> 789\u001b[0m         handle \u001b[39m=\u001b[39m \u001b[39mopen\u001b[39;49m(\n\u001b[0;32m    790\u001b[0m             handle,\n\u001b[0;32m    791\u001b[0m             ioargs\u001b[39m.\u001b[39;49mmode,\n\u001b[0;32m    792\u001b[0m             encoding\u001b[39m=\u001b[39;49mioargs\u001b[39m.\u001b[39;49mencoding,\n\u001b[0;32m    793\u001b[0m             errors\u001b[39m=\u001b[39;49merrors,\n\u001b[0;32m    794\u001b[0m             newline\u001b[39m=\u001b[39;49m\u001b[39m\"\u001b[39;49m\u001b[39m\"\u001b[39;49m,\n\u001b[0;32m    795\u001b[0m         )\n\u001b[0;32m    796\u001b[0m     \u001b[39melse\u001b[39;00m:\n\u001b[0;32m    797\u001b[0m         \u001b[39m# Binary mode\u001b[39;00m\n\u001b[0;32m    798\u001b[0m         handle \u001b[39m=\u001b[39m \u001b[39mopen\u001b[39m(handle, ioargs\u001b[39m.\u001b[39mmode)\n",
      "\u001b[1;31mFileNotFoundError\u001b[0m: [Errno 2] No such file or directory: './pre_sensor.csv'"
     ]
    }
   ],
   "source": [
    "df = pd.read_csv(r'./sensor04_pre_sensor.csv')\n",
    "df.head(1)"
   ]
  },
  {
   "cell_type": "code",
   "execution_count": 4,
   "id": "187f4fd7",
   "metadata": {},
   "outputs": [],
   "source": [
    "def make_df(df):\n",
    "    \n",
    "    label_mapping = {\n",
    "    0.0: 1, # normal\n",
    "    0.5: 2, # recovering\n",
    "    1: 0  # broken\n",
    "    }\n",
    "    \n",
    "    del df['Unnamed: 0']\n",
    "    df.loc[:, \"operation\"] = df.operation.map(label_mapping) \n",
    "    df['timestamp'] = pd.to_datetime(df['timestamp'])\n",
    "    df = df.set_index('timestamp')\n",
    "    feature = [\n",
    "    f for f in df.columns if f in (\"sensor_04\", \"operation\")\n",
    "    ]\n",
    "    return df[feature]"
   ]
  },
  {
   "cell_type": "code",
   "execution_count": 5,
   "id": "6e2ffdc0",
   "metadata": {},
   "outputs": [
    {
     "data": {
      "text/html": [
       "<div>\n",
       "<style scoped>\n",
       "    .dataframe tbody tr th:only-of-type {\n",
       "        vertical-align: middle;\n",
       "    }\n",
       "\n",
       "    .dataframe tbody tr th {\n",
       "        vertical-align: top;\n",
       "    }\n",
       "\n",
       "    .dataframe thead th {\n",
       "        text-align: right;\n",
       "    }\n",
       "</style>\n",
       "<table border=\"1\" class=\"dataframe\">\n",
       "  <thead>\n",
       "    <tr style=\"text-align: right;\">\n",
       "      <th></th>\n",
       "      <th>sensor_04</th>\n",
       "      <th>operation</th>\n",
       "    </tr>\n",
       "    <tr>\n",
       "      <th>timestamp</th>\n",
       "      <th></th>\n",
       "      <th></th>\n",
       "    </tr>\n",
       "  </thead>\n",
       "  <tbody>\n",
       "    <tr>\n",
       "      <th>2018-04-01 00:00:00</th>\n",
       "      <td>0.792242</td>\n",
       "      <td>1</td>\n",
       "    </tr>\n",
       "    <tr>\n",
       "      <th>2018-04-01 00:01:00</th>\n",
       "      <td>0.792242</td>\n",
       "      <td>1</td>\n",
       "    </tr>\n",
       "    <tr>\n",
       "      <th>2018-04-01 00:02:00</th>\n",
       "      <td>0.797904</td>\n",
       "      <td>1</td>\n",
       "    </tr>\n",
       "    <tr>\n",
       "      <th>2018-04-01 00:03:00</th>\n",
       "      <td>0.784402</td>\n",
       "      <td>1</td>\n",
       "    </tr>\n",
       "    <tr>\n",
       "      <th>2018-04-01 00:04:00</th>\n",
       "      <td>0.794855</td>\n",
       "      <td>1</td>\n",
       "    </tr>\n",
       "  </tbody>\n",
       "</table>\n",
       "</div>"
      ],
      "text/plain": [
       "                     sensor_04  operation\n",
       "timestamp                                \n",
       "2018-04-01 00:00:00   0.792242          1\n",
       "2018-04-01 00:01:00   0.792242          1\n",
       "2018-04-01 00:02:00   0.797904          1\n",
       "2018-04-01 00:03:00   0.784402          1\n",
       "2018-04-01 00:04:00   0.794855          1"
      ]
     },
     "execution_count": 5,
     "metadata": {},
     "output_type": "execute_result"
    }
   ],
   "source": [
    "df = make_df(df)\n",
    "df.head()"
   ]
  },
  {
   "cell_type": "code",
   "execution_count": 6,
   "id": "fc8fb660",
   "metadata": {},
   "outputs": [
    {
     "data": {
      "text/plain": [
       "3"
      ]
     },
     "execution_count": 6,
     "metadata": {},
     "output_type": "execute_result"
    }
   ],
   "source": [
    "df['operation'].nunique()"
   ]
  },
  {
   "cell_type": "code",
   "execution_count": 7,
   "id": "adf92bc8",
   "metadata": {},
   "outputs": [
    {
     "data": {
      "text/plain": [
       "array([1, 1, 1, ..., 1, 1, 1])"
      ]
     },
     "execution_count": 7,
     "metadata": {},
     "output_type": "execute_result"
    }
   ],
   "source": [
    "labels = np.where(df['operation'] == 0, 0, 1)\n",
    "labels"
   ]
  },
  {
   "cell_type": "code",
   "execution_count": 8,
   "id": "74425039",
   "metadata": {},
   "outputs": [
    {
     "data": {
      "text/plain": [
       "220320"
      ]
     },
     "execution_count": 8,
     "metadata": {},
     "output_type": "execute_result"
    }
   ],
   "source": [
    "labels.size"
   ]
  },
  {
   "cell_type": "markdown",
   "id": "713bceb2",
   "metadata": {},
   "source": [
    "## LSTM (check another kernel) "
   ]
  },
  {
   "cell_type": "code",
   "execution_count": 9,
   "id": "c59738cb",
   "metadata": {},
   "outputs": [],
   "source": [
    "normal_x = df[labels == 1] # normal or recovering\n",
    "anomaly_x = df[labels == 0] # broken \n",
    "\n",
    "normal_y = labels[labels == 1]\n",
    "anomaly_y = labels[labels == 0]"
   ]
  },
  {
   "cell_type": "code",
   "execution_count": 10,
   "id": "2d841fd8",
   "metadata": {},
   "outputs": [
    {
     "name": "stdout",
     "output_type": "stream",
     "text": [
      "(220313, 2)\n",
      "(220313,)\n",
      "(7, 2)\n",
      "(7,)\n"
     ]
    }
   ],
   "source": [
    "print(normal_x.shape)\n",
    "print(normal_y.shape)\n",
    "print(anomaly_x.shape)\n",
    "print(anomaly_y.shape)"
   ]
  },
  {
   "cell_type": "code",
   "execution_count": 11,
   "id": "4d288ab9",
   "metadata": {},
   "outputs": [],
   "source": [
    "len_normal = len(normal_x)\n",
    "len_normal_train = int(0.8 * len_normal)\n",
    "x_train = normal_x[:len_normal_train]\n",
    "\n",
    "x_test_normal = normal_x[len_normal_train:]\n",
    "len_anomaly_test = len(x_test_normal)\n",
    "x_test_anomaly = anomaly_x[:len_anomaly_test]\n",
    "\n",
    "x_test = np.concatenate([x_test_normal, x_test_anomaly])\n",
    "y_test = np.ones(len(x_test))\n",
    "y_test[:len(x_test_normal)] = 0"
   ]
  },
  {
   "cell_type": "code",
   "execution_count": 12,
   "id": "2b10d71f",
   "metadata": {},
   "outputs": [
    {
     "name": "stdout",
     "output_type": "stream",
     "text": [
      "(176250, 2)\n",
      "(44070, 2)\n"
     ]
    }
   ],
   "source": [
    "print(x_train.shape)\n",
    "print(x_test.shape)"
   ]
  },
  {
   "cell_type": "code",
   "execution_count": 13,
   "id": "302441ce",
   "metadata": {},
   "outputs": [
    {
     "data": {
      "text/plain": [
       "sensor_04    0\n",
       "operation    0\n",
       "dtype: int64"
      ]
     },
     "execution_count": 13,
     "metadata": {},
     "output_type": "execute_result"
    }
   ],
   "source": [
    "x_train[x_train['operation'] == 0].count()"
   ]
  },
  {
   "cell_type": "markdown",
   "id": "995d29cb",
   "metadata": {},
   "source": [
    "### define error "
   ]
  },
  {
   "cell_type": "code",
   "execution_count": 14,
   "id": "8d87a561",
   "metadata": {},
   "outputs": [],
   "source": [
    "def get_error(s1, s2, _rmse=True):\n",
    "    if _rmse:\n",
    "        return np.sqrt(np.mean((s1 - s2) ** 2, axis=1))\n",
    "    return np.mean((s1 - s2) ** 2, axis=1)"
   ]
  },
  {
   "cell_type": "markdown",
   "id": "79725715",
   "metadata": {},
   "source": [
    "### the reparameterization trick"
   ]
  },
  {
   "cell_type": "code",
   "execution_count": 15,
   "id": "0b28cc5d",
   "metadata": {},
   "outputs": [],
   "source": [
    "def sample(args):\n",
    "    z_mean, z_log_var =args\n",
    "    batch = K.shape(z_mean)[0]\n",
    "    dim = K.int_shape(z_mean)[1]\n",
    "    epsilon = K.random_normal(shape=(batch, dim))\n",
    "    return z_mean + K.exp(0.5 * z_log_var) * epsilon"
   ]
  },
  {
   "cell_type": "code",
   "execution_count": 16,
   "id": "d7e569ed",
   "metadata": {},
   "outputs": [
    {
     "data": {
      "text/plain": [
       "2"
      ]
     },
     "execution_count": 16,
     "metadata": {},
     "output_type": "execute_result"
    }
   ],
   "source": [
    "x_train.shape[1]"
   ]
  },
  {
   "cell_type": "code",
   "execution_count": 17,
   "id": "342afd6b",
   "metadata": {},
   "outputs": [],
   "source": [
    "original_dim = x_train.shape[1]\n",
    "input_shape = (original_dim,)\n",
    "intermediate_dim = 2           # original_dim / 2\n",
    "latent_dim = 1                 # original_dim / 3"
   ]
  },
  {
   "cell_type": "code",
   "execution_count": 18,
   "id": "1c5b4895",
   "metadata": {},
   "outputs": [
    {
     "name": "stdout",
     "output_type": "stream",
     "text": [
      "Model: \"encoder\"\n",
      "__________________________________________________________________________________________________\n",
      " Layer (type)                   Output Shape         Param #     Connected to                     \n",
      "==================================================================================================\n",
      " encoder_input (InputLayer)     [(None, 2)]          0           []                               \n",
      "                                                                                                  \n",
      " dense (Dense)                  (None, 2)            6           ['encoder_input[0][0]']          \n",
      "                                                                                                  \n",
      " z_mean (Dense)                 (None, 1)            3           ['dense[0][0]']                  \n",
      "                                                                                                  \n",
      " z_log_var (Dense)              (None, 1)            3           ['dense[0][0]']                  \n",
      "                                                                                                  \n",
      " z (Lambda)                     (None, 1)            0           ['z_mean[0][0]',                 \n",
      "                                                                  'z_log_var[0][0]']              \n",
      "                                                                                                  \n",
      "==================================================================================================\n",
      "Total params: 12\n",
      "Trainable params: 12\n",
      "Non-trainable params: 0\n",
      "__________________________________________________________________________________________________\n"
     ]
    }
   ],
   "source": [
    "# encoder model\n",
    "inputs = Input(shape=input_shape, name='encoder_input')\n",
    "x = Dense(intermediate_dim, activation='relu')(inputs)\n",
    "z_mean = Dense(latent_dim, name='z_mean')(x)\n",
    "z_log_var = Dense(latent_dim, name='z_log_var')(x)\n",
    "# use the reparameterization trick and get the output from the sample() function\n",
    "z = Lambda(sample, output_shape=(latent_dim,), name='z')([z_mean, z_log_var])\n",
    "encoder = Model(inputs, z, name='encoder')\n",
    "encoder.summary()"
   ]
  },
  {
   "cell_type": "code",
   "execution_count": 19,
   "id": "41ef6cfc",
   "metadata": {},
   "outputs": [
    {
     "name": "stdout",
     "output_type": "stream",
     "text": [
      "Model: \"decoder\"\n",
      "_________________________________________________________________\n",
      " Layer (type)                Output Shape              Param #   \n",
      "=================================================================\n",
      " z_sampling (InputLayer)     [(None, 1)]               0         \n",
      "                                                                 \n",
      " dense_1 (Dense)             (None, 2)                 4         \n",
      "                                                                 \n",
      " dense_2 (Dense)             (None, 2)                 6         \n",
      "                                                                 \n",
      "=================================================================\n",
      "Total params: 10\n",
      "Trainable params: 10\n",
      "Non-trainable params: 0\n",
      "_________________________________________________________________\n"
     ]
    }
   ],
   "source": [
    "# decoder model\n",
    "latent_inputs = Input(shape=(latent_dim,), name='z_sampling')\n",
    "x = Dense(intermediate_dim, activation='relu')(latent_inputs)\n",
    "outputs = Dense(original_dim, activation='sigmoid')(x)\n",
    "# Instantiate the decoder model:\n",
    "decoder = Model(latent_inputs, outputs, name='decoder')\n",
    "decoder.summary()"
   ]
  },
  {
   "cell_type": "code",
   "execution_count": 20,
   "id": "992e5b07",
   "metadata": {},
   "outputs": [],
   "source": [
    "# full VAE model\n",
    "outputs = decoder(encoder(inputs))\n",
    "vae_model = Model(inputs, outputs, name='vae')"
   ]
  },
  {
   "cell_type": "code",
   "execution_count": 21,
   "id": "fd49851c",
   "metadata": {},
   "outputs": [],
   "source": [
    "# the KL loss function:\n",
    "def vae_loss(x, x_decoded_mean):\n",
    "    # compute the average MSE error, then scale it up, ie. simply sum on all axes\n",
    "    reconstruction_loss = K.sum(K.square(x - x_decoded_mean))\n",
    "    # compute the KL loss\n",
    "    kl_loss = - 0.5 * K.sum(1 + z_log_var - K.square(z_mean) - K.square(K.exp(z_log_var)), axis=-1)\n",
    "    # return the average loss over all \n",
    "    total_loss = K.mean(reconstruction_loss + kl_loss)    \n",
    "    #total_loss = reconstruction_loss + kl_loss\n",
    "    return total_loss"
   ]
  },
  {
   "cell_type": "code",
   "execution_count": 22,
   "id": "0bf1d6e2",
   "metadata": {},
   "outputs": [
    {
     "name": "stdout",
     "output_type": "stream",
     "text": [
      "Model: \"vae\"\n",
      "_________________________________________________________________\n",
      " Layer (type)                Output Shape              Param #   \n",
      "=================================================================\n",
      " encoder_input (InputLayer)  [(None, 2)]               0         \n",
      "                                                                 \n",
      " encoder (Functional)        (None, 1)                 12        \n",
      "                                                                 \n",
      " decoder (Functional)        (None, 2)                 10        \n",
      "                                                                 \n",
      "=================================================================\n",
      "Total params: 22\n",
      "Trainable params: 22\n",
      "Non-trainable params: 0\n",
      "_________________________________________________________________\n",
      "Train on 176250 samples, validate on 44070 samples\n",
      "Epoch 1/128\n"
     ]
    },
    {
     "name": "stderr",
     "output_type": "stream",
     "text": [
      "2022-06-09 21:18:02.814606: I tensorflow/stream_executor/cuda/cuda_gpu_executor.cc:939] successful NUMA node read from SysFS had negative value (-1), but there must be at least one NUMA node, so returning NUMA node zero\n",
      "2022-06-09 21:18:02.832088: I tensorflow/stream_executor/cuda/cuda_gpu_executor.cc:939] successful NUMA node read from SysFS had negative value (-1), but there must be at least one NUMA node, so returning NUMA node zero\n",
      "2022-06-09 21:18:02.832245: I tensorflow/stream_executor/cuda/cuda_gpu_executor.cc:939] successful NUMA node read from SysFS had negative value (-1), but there must be at least one NUMA node, so returning NUMA node zero\n",
      "2022-06-09 21:18:02.832950: I tensorflow/core/platform/cpu_feature_guard.cc:151] This TensorFlow binary is optimized with oneAPI Deep Neural Network Library (oneDNN) to use the following CPU instructions in performance-critical operations:  AVX2 FMA\n",
      "To enable them in other operations, rebuild TensorFlow with the appropriate compiler flags.\n",
      "2022-06-09 21:18:02.833738: I tensorflow/stream_executor/cuda/cuda_gpu_executor.cc:939] successful NUMA node read from SysFS had negative value (-1), but there must be at least one NUMA node, so returning NUMA node zero\n",
      "2022-06-09 21:18:02.833897: I tensorflow/stream_executor/cuda/cuda_gpu_executor.cc:939] successful NUMA node read from SysFS had negative value (-1), but there must be at least one NUMA node, so returning NUMA node zero\n",
      "2022-06-09 21:18:02.834037: I tensorflow/stream_executor/cuda/cuda_gpu_executor.cc:939] successful NUMA node read from SysFS had negative value (-1), but there must be at least one NUMA node, so returning NUMA node zero\n",
      "2022-06-09 21:18:03.090403: I tensorflow/stream_executor/cuda/cuda_gpu_executor.cc:939] successful NUMA node read from SysFS had negative value (-1), but there must be at least one NUMA node, so returning NUMA node zero\n",
      "2022-06-09 21:18:03.090580: I tensorflow/stream_executor/cuda/cuda_gpu_executor.cc:939] successful NUMA node read from SysFS had negative value (-1), but there must be at least one NUMA node, so returning NUMA node zero\n",
      "2022-06-09 21:18:03.090790: I tensorflow/stream_executor/cuda/cuda_gpu_executor.cc:939] successful NUMA node read from SysFS had negative value (-1), but there must be at least one NUMA node, so returning NUMA node zero\n",
      "2022-06-09 21:18:03.090904: W tensorflow/core/common_runtime/gpu/gpu_bfc_allocator.cc:39] Overriding allow_growth setting because the TF_FORCE_GPU_ALLOW_GROWTH environment variable is set. Original config value was 0.\n",
      "2022-06-09 21:18:03.090934: I tensorflow/core/common_runtime/gpu/gpu_device.cc:1525] Created device /job:localhost/replica:0/task:0/device:GPU:0 with 9761 MB memory:  -> device: 0, name: NVIDIA GeForce RTX 3060, pci bus id: 0000:0b:00.0, compute capability: 8.6\n"
     ]
    },
    {
     "name": "stdout",
     "output_type": "stream",
     "text": [
      " 27392/176250 [===>..........................] - ETA: 5s - loss: 134.9818"
     ]
    },
    {
     "name": "stderr",
     "output_type": "stream",
     "text": [
      "2022-06-09 21:18:03.640790: I tensorflow/stream_executor/cuda/cuda_blas.cc:1774] TensorFloat-32 will be used for the matrix multiplication. This will only be logged once.\n"
     ]
    },
    {
     "name": "stdout",
     "output_type": "stream",
     "text": [
      "176250/176250 [==============================] - 2s 12us/sample - loss: 129.8074 - val_loss: 80.7213\n",
      "Epoch 2/128\n",
      "176250/176250 [==============================] - 1s 7us/sample - loss: 119.4954 - val_loss: 72.7098\n",
      "Epoch 3/128\n",
      "176250/176250 [==============================] - 1s 6us/sample - loss: 112.2965 - val_loss: 66.3535\n",
      "Epoch 4/128\n",
      "176250/176250 [==============================] - 1s 6us/sample - loss: 106.0945 - val_loss: 60.4702\n",
      "Epoch 5/128\n",
      "176250/176250 [==============================] - 1s 6us/sample - loss: 100.2820 - val_loss: 54.9589\n",
      "Epoch 6/128\n",
      "176250/176250 [==============================] - 1s 6us/sample - loss: 94.8301 - val_loss: 49.8074\n",
      "Epoch 7/128\n",
      "176250/176250 [==============================] - 1s 6us/sample - loss: 89.7469 - val_loss: 45.0083\n",
      "Epoch 8/128\n",
      "176250/176250 [==============================] - 1s 7us/sample - loss: 85.0104 - val_loss: 40.5550\n",
      "Epoch 9/128\n",
      "176250/176250 [==============================] - 1s 7us/sample - loss: 80.6129 - val_loss: 36.4430\n",
      "Epoch 10/128\n",
      "176250/176250 [==============================] - 1s 6us/sample - loss: 76.5631 - val_loss: 32.6635\n",
      "Epoch 11/128\n",
      "176250/176250 [==============================] - 1s 6us/sample - loss: 72.8202 - val_loss: 29.2077\n",
      "Epoch 12/128\n",
      "176250/176250 [==============================] - 1s 6us/sample - loss: 69.4293 - val_loss: 26.0700\n",
      "Epoch 13/128\n",
      "176250/176250 [==============================] - 1s 7us/sample - loss: 66.3429 - val_loss: 23.2838\n",
      "Epoch 14/128\n",
      "176250/176250 [==============================] - 1s 6us/sample - loss: 63.5473 - val_loss: 20.9099\n",
      "Epoch 15/128\n",
      "176250/176250 [==============================] - 1s 6us/sample - loss: 60.9987 - val_loss: 18.8874\n",
      "Epoch 16/128\n",
      "176250/176250 [==============================] - 1s 6us/sample - loss: 58.6342 - val_loss: 17.1005\n",
      "Epoch 17/128\n",
      "176250/176250 [==============================] - 1s 6us/sample - loss: 56.4507 - val_loss: 15.5095\n",
      "Epoch 18/128\n",
      "176250/176250 [==============================] - 1s 7us/sample - loss: 54.4250 - val_loss: 14.0716\n",
      "Epoch 19/128\n",
      "176250/176250 [==============================] - 1s 6us/sample - loss: 52.5364 - val_loss: 12.7407\n",
      "Epoch 20/128\n",
      "176250/176250 [==============================] - 1s 6us/sample - loss: 50.7943 - val_loss: 11.5446\n",
      "Epoch 21/128\n",
      "176250/176250 [==============================] - 1s 6us/sample - loss: 49.1890 - val_loss: 10.4677\n",
      "Epoch 22/128\n",
      "176250/176250 [==============================] - 1s 7us/sample - loss: 47.7084 - val_loss: 9.4802\n",
      "Epoch 23/128\n",
      "176250/176250 [==============================] - 1s 6us/sample - loss: 46.3402 - val_loss: 8.5918\n",
      "Epoch 24/128\n",
      "176250/176250 [==============================] - 1s 7us/sample - loss: 45.0865 - val_loss: 7.7862\n",
      "Epoch 25/128\n",
      "176250/176250 [==============================] - 1s 7us/sample - loss: 43.9264 - val_loss: 7.0698\n",
      "Epoch 26/128\n",
      "176250/176250 [==============================] - 1s 6us/sample - loss: 42.8736 - val_loss: 6.4028\n",
      "Epoch 27/128\n",
      "176250/176250 [==============================] - 1s 7us/sample - loss: 41.8970 - val_loss: 5.8183\n",
      "Epoch 28/128\n",
      "176250/176250 [==============================] - 1s 7us/sample - loss: 41.0033 - val_loss: 5.2976\n",
      "Epoch 29/128\n",
      "176250/176250 [==============================] - 1s 7us/sample - loss: 40.1845 - val_loss: 4.8418\n",
      "Epoch 30/128\n",
      "176250/176250 [==============================] - 1s 7us/sample - loss: 39.4411 - val_loss: 4.4264\n",
      "Epoch 31/128\n",
      "176250/176250 [==============================] - 1s 6us/sample - loss: 38.7570 - val_loss: 4.0493\n",
      "Epoch 32/128\n",
      "176250/176250 [==============================] - 1s 6us/sample - loss: 38.1298 - val_loss: 3.7026\n",
      "Epoch 33/128\n",
      "176250/176250 [==============================] - 1s 6us/sample - loss: 37.5608 - val_loss: 3.4127\n",
      "Epoch 34/128\n",
      "176250/176250 [==============================] - 1s 7us/sample - loss: 37.0344 - val_loss: 3.1586\n",
      "Epoch 35/128\n",
      "176250/176250 [==============================] - 1s 6us/sample - loss: 36.5532 - val_loss: 2.9271\n",
      "Epoch 36/128\n",
      "176250/176250 [==============================] - 1s 6us/sample - loss: 36.1181 - val_loss: 2.7163\n",
      "Epoch 37/128\n",
      "176250/176250 [==============================] - 1s 7us/sample - loss: 35.7138 - val_loss: 2.5377\n",
      "Epoch 38/128\n",
      "176250/176250 [==============================] - 1s 6us/sample - loss: 35.3502 - val_loss: 2.3790\n",
      "Epoch 39/128\n",
      "176250/176250 [==============================] - 1s 6us/sample - loss: 35.0199 - val_loss: 2.2404\n",
      "Epoch 40/128\n",
      "176250/176250 [==============================] - 1s 6us/sample - loss: 34.7056 - val_loss: 2.1144\n",
      "Epoch 41/128\n",
      "176250/176250 [==============================] - 1s 6us/sample - loss: 34.4344 - val_loss: 1.9996\n",
      "Epoch 42/128\n",
      "176250/176250 [==============================] - 1s 6us/sample - loss: 34.1726 - val_loss: 1.9117\n",
      "Epoch 43/128\n",
      "176250/176250 [==============================] - 1s 6us/sample - loss: 33.9313 - val_loss: 1.8138\n",
      "Epoch 44/128\n",
      "176250/176250 [==============================] - 1s 6us/sample - loss: 33.7167 - val_loss: 1.7472\n",
      "Epoch 45/128\n",
      "176250/176250 [==============================] - 1s 6us/sample - loss: 33.5173 - val_loss: 1.6644\n",
      "Epoch 46/128\n",
      "176250/176250 [==============================] - 1s 6us/sample - loss: 33.3360 - val_loss: 1.6113\n",
      "Epoch 47/128\n",
      "176250/176250 [==============================] - 1s 7us/sample - loss: 33.1727 - val_loss: 1.5670\n",
      "Epoch 48/128\n",
      "176250/176250 [==============================] - 1s 6us/sample - loss: 33.0150 - val_loss: 1.5131\n",
      "Epoch 49/128\n",
      "176250/176250 [==============================] - 1s 6us/sample - loss: 32.8717 - val_loss: 1.4838\n",
      "Epoch 50/128\n",
      "176250/176250 [==============================] - 1s 7us/sample - loss: 32.7364 - val_loss: 1.4495\n",
      "Epoch 51/128\n",
      "176250/176250 [==============================] - 1s 6us/sample - loss: 32.6220 - val_loss: 1.4101\n",
      "Epoch 52/128\n",
      "176250/176250 [==============================] - 1s 7us/sample - loss: 32.5080 - val_loss: 1.3798\n",
      "Epoch 53/128\n",
      "176250/176250 [==============================] - 1s 6us/sample - loss: 32.4147 - val_loss: 1.3550\n",
      "Epoch 54/128\n",
      "176250/176250 [==============================] - 1s 6us/sample - loss: 32.3247 - val_loss: 1.3394\n",
      "Epoch 55/128\n",
      "176250/176250 [==============================] - 1s 6us/sample - loss: 32.2325 - val_loss: 1.3296\n",
      "Epoch 56/128\n",
      "176250/176250 [==============================] - 1s 6us/sample - loss: 32.1484 - val_loss: 1.3006\n",
      "Epoch 57/128\n",
      "176250/176250 [==============================] - 1s 7us/sample - loss: 32.0721 - val_loss: 1.2998\n",
      "Epoch 58/128\n",
      "176250/176250 [==============================] - 1s 6us/sample - loss: 32.0101 - val_loss: 1.2834\n",
      "Epoch 59/128\n",
      "176250/176250 [==============================] - 1s 6us/sample - loss: 31.9482 - val_loss: 1.2706\n",
      "Epoch 60/128\n",
      "176250/176250 [==============================] - 1s 6us/sample - loss: 31.8898 - val_loss: 1.2601\n",
      "Epoch 61/128\n",
      "176250/176250 [==============================] - 1s 6us/sample - loss: 31.8355 - val_loss: 1.2509\n",
      "Epoch 62/128\n",
      "176250/176250 [==============================] - 1s 6us/sample - loss: 31.7891 - val_loss: 1.2351\n",
      "Epoch 63/128\n",
      "176250/176250 [==============================] - 1s 6us/sample - loss: 31.7400 - val_loss: 1.2364\n",
      "Epoch 64/128\n",
      "176250/176250 [==============================] - 1s 6us/sample - loss: 31.7031 - val_loss: 1.2328\n",
      "Epoch 65/128\n",
      "176250/176250 [==============================] - 1s 6us/sample - loss: 31.6597 - val_loss: 1.2157\n",
      "Epoch 66/128\n",
      "176250/176250 [==============================] - 1s 6us/sample - loss: 31.6185 - val_loss: 1.2246\n",
      "Epoch 67/128\n",
      "176250/176250 [==============================] - 1s 6us/sample - loss: 31.5932 - val_loss: 1.2209\n",
      "Epoch 68/128\n",
      "176250/176250 [==============================] - 1s 6us/sample - loss: 31.5524 - val_loss: 1.2106\n",
      "Epoch 69/128\n",
      "176250/176250 [==============================] - 1s 6us/sample - loss: 31.5376 - val_loss: 1.2118\n",
      "Epoch 70/128\n",
      "176250/176250 [==============================] - 1s 6us/sample - loss: 31.5075 - val_loss: 1.2157\n",
      "Epoch 71/128\n",
      "176250/176250 [==============================] - 1s 6us/sample - loss: 31.4838 - val_loss: 1.1997\n",
      "Epoch 72/128\n",
      "176250/176250 [==============================] - 1s 6us/sample - loss: 31.4700 - val_loss: 1.1984\n",
      "Epoch 73/128\n",
      "176250/176250 [==============================] - 1s 6us/sample - loss: 31.4427 - val_loss: 1.2114\n",
      "Epoch 74/128\n"
     ]
    },
    {
     "name": "stdout",
     "output_type": "stream",
     "text": [
      "176250/176250 [==============================] - 1s 6us/sample - loss: 31.4218 - val_loss: 1.2198\n",
      "Epoch 75/128\n",
      "176250/176250 [==============================] - 1s 6us/sample - loss: 31.4072 - val_loss: 1.2148\n",
      "Epoch 76/128\n",
      "176250/176250 [==============================] - 1s 6us/sample - loss: 31.3889 - val_loss: 1.2163\n",
      "Epoch 77/128\n",
      "176250/176250 [==============================] - 1s 6us/sample - loss: 31.3754 - val_loss: 1.2093\n",
      "Epoch 78/128\n",
      "176250/176250 [==============================] - 1s 6us/sample - loss: 31.3627 - val_loss: 1.2115\n",
      "Epoch 79/128\n",
      "176250/176250 [==============================] - 1s 6us/sample - loss: 31.3442 - val_loss: 1.2125\n",
      "Epoch 80/128\n",
      "176250/176250 [==============================] - 1s 6us/sample - loss: 31.3365 - val_loss: 1.1995\n",
      "Epoch 81/128\n",
      "176250/176250 [==============================] - 1s 6us/sample - loss: 31.3137 - val_loss: 1.2003\n",
      "Epoch 82/128\n",
      "176250/176250 [==============================] - 1s 6us/sample - loss: 31.3079 - val_loss: 1.2041\n",
      "Epoch 83/128\n",
      "176250/176250 [==============================] - 1s 6us/sample - loss: 31.2955 - val_loss: 1.1905\n",
      "Epoch 84/128\n",
      "176250/176250 [==============================] - 1s 6us/sample - loss: 31.2912 - val_loss: 1.1974\n",
      "Epoch 85/128\n",
      "176250/176250 [==============================] - 1s 6us/sample - loss: 31.2836 - val_loss: 1.2029\n",
      "Epoch 86/128\n",
      "176250/176250 [==============================] - 1s 6us/sample - loss: 31.2757 - val_loss: 1.2015\n",
      "Epoch 87/128\n",
      "176250/176250 [==============================] - 1s 7us/sample - loss: 31.2628 - val_loss: 1.1896\n",
      "Epoch 88/128\n",
      "176250/176250 [==============================] - 1s 7us/sample - loss: 31.2570 - val_loss: 1.1904\n",
      "Epoch 89/128\n",
      "176250/176250 [==============================] - 1s 6us/sample - loss: 31.2510 - val_loss: 1.1858\n",
      "Epoch 90/128\n",
      "176250/176250 [==============================] - 1s 6us/sample - loss: 31.2433 - val_loss: 1.2026\n",
      "Epoch 91/128\n",
      "176250/176250 [==============================] - 1s 6us/sample - loss: 31.2323 - val_loss: 1.2042\n",
      "Epoch 92/128\n",
      "176250/176250 [==============================] - 1s 6us/sample - loss: 31.2303 - val_loss: 1.2014\n",
      "Epoch 93/128\n",
      "176250/176250 [==============================] - 1s 6us/sample - loss: 31.2219 - val_loss: 1.1968\n",
      "Epoch 94/128\n",
      "176250/176250 [==============================] - 1s 6us/sample - loss: 31.2219 - val_loss: 1.1942\n",
      "Epoch 95/128\n",
      "176250/176250 [==============================] - 1s 6us/sample - loss: 31.2091 - val_loss: 1.2047\n",
      "Epoch 96/128\n",
      "176250/176250 [==============================] - 1s 6us/sample - loss: 31.2089 - val_loss: 1.1994\n",
      "Epoch 97/128\n",
      "176250/176250 [==============================] - 1s 5us/sample - loss: 31.2051 - val_loss: 1.2008\n",
      "Epoch 98/128\n",
      "176250/176250 [==============================] - 1s 6us/sample - loss: 31.1973 - val_loss: 1.1930\n",
      "Epoch 99/128\n",
      "176250/176250 [==============================] - 1s 6us/sample - loss: 31.1960 - val_loss: 1.1918\n",
      "Epoch 100/128\n",
      "176250/176250 [==============================] - 1s 7us/sample - loss: 31.1923 - val_loss: 1.1946\n",
      "Epoch 101/128\n",
      "176250/176250 [==============================] - 1s 7us/sample - loss: 31.1933 - val_loss: 1.1972\n",
      "Epoch 102/128\n",
      "176250/176250 [==============================] - 1s 7us/sample - loss: 31.1875 - val_loss: 1.2011\n",
      "Epoch 103/128\n",
      "176250/176250 [==============================] - 1s 6us/sample - loss: 31.1888 - val_loss: 1.2060\n",
      "Epoch 104/128\n",
      "176250/176250 [==============================] - 1s 6us/sample - loss: 31.1759 - val_loss: 1.1974\n",
      "Epoch 105/128\n",
      "176250/176250 [==============================] - 1s 6us/sample - loss: 31.1747 - val_loss: 1.2034\n",
      "Epoch 106/128\n",
      "176250/176250 [==============================] - 1s 6us/sample - loss: 31.1706 - val_loss: 1.2061\n",
      "Epoch 107/128\n",
      "176250/176250 [==============================] - 1s 6us/sample - loss: 31.1698 - val_loss: 1.1895\n",
      "Epoch 108/128\n",
      "176250/176250 [==============================] - 1s 6us/sample - loss: 31.1711 - val_loss: 1.2037\n",
      "Epoch 109/128\n",
      "176250/176250 [==============================] - 1s 6us/sample - loss: 31.1651 - val_loss: 1.1951\n",
      "Epoch 110/128\n",
      "176250/176250 [==============================] - 1s 7us/sample - loss: 31.1671 - val_loss: 1.1977\n",
      "Epoch 111/128\n",
      "176250/176250 [==============================] - 1s 6us/sample - loss: 31.1644 - val_loss: 1.1911\n",
      "Epoch 112/128\n",
      "176250/176250 [==============================] - 1s 6us/sample - loss: 31.1642 - val_loss: 1.1889\n",
      "Epoch 113/128\n",
      "176250/176250 [==============================] - 1s 6us/sample - loss: 31.1596 - val_loss: 1.1884\n",
      "Epoch 114/128\n",
      "176250/176250 [==============================] - 1s 6us/sample - loss: 31.1616 - val_loss: 1.1917\n",
      "Epoch 115/128\n",
      "176250/176250 [==============================] - 1s 6us/sample - loss: 31.1592 - val_loss: 1.1943\n",
      "Epoch 116/128\n",
      "176250/176250 [==============================] - 1s 6us/sample - loss: 31.1585 - val_loss: 1.2036\n",
      "Epoch 117/128\n",
      "176250/176250 [==============================] - 1s 6us/sample - loss: 31.1568 - val_loss: 1.1964\n",
      "Epoch 118/128\n",
      "176250/176250 [==============================] - 1s 6us/sample - loss: 31.1473 - val_loss: 1.1996\n",
      "Epoch 119/128\n",
      "176250/176250 [==============================] - 1s 6us/sample - loss: 31.1538 - val_loss: 1.2012\n",
      "Epoch 120/128\n",
      "176250/176250 [==============================] - 1s 6us/sample - loss: 31.1511 - val_loss: 1.2051\n",
      "Epoch 121/128\n",
      "176250/176250 [==============================] - 1s 6us/sample - loss: 31.1434 - val_loss: 1.1990\n",
      "Epoch 122/128\n",
      "176250/176250 [==============================] - 1s 6us/sample - loss: 31.1459 - val_loss: 1.1950\n",
      "Epoch 123/128\n",
      "176250/176250 [==============================] - 1s 6us/sample - loss: 31.1513 - val_loss: 1.1883\n",
      "Epoch 124/128\n",
      "176250/176250 [==============================] - 1s 7us/sample - loss: 31.1479 - val_loss: 1.1930\n",
      "Epoch 125/128\n",
      "176250/176250 [==============================] - 1s 7us/sample - loss: 31.1451 - val_loss: 1.2024\n",
      "Epoch 126/128\n",
      "176250/176250 [==============================] - 1s 6us/sample - loss: 31.1460 - val_loss: 1.2016\n",
      "Epoch 127/128\n",
      "176250/176250 [==============================] - 1s 6us/sample - loss: 31.1516 - val_loss: 1.1989\n",
      "Epoch 128/128\n",
      "176250/176250 [==============================] - 1s 6us/sample - loss: 31.1439 - val_loss: 1.2146\n"
     ]
    }
   ],
   "source": [
    "opt = optimizers.Adam(learning_rate=0.0001, clipvalue=0.5)\n",
    "#opt = optimizers.RMSprop(learning_rate=0.0001)\n",
    "\n",
    "vae_model.compile(optimizer=opt, loss=vae_loss)\n",
    "vae_model.summary()\n",
    "# Finally, we train the model:\n",
    "results = vae_model.fit(x_train, x_train,\n",
    "                        shuffle=True,\n",
    "                        validation_data=(x_test, x_test),\n",
    "                        epochs=128,\n",
    "                        batch_size=256)"
   ]
  },
  {
   "cell_type": "code",
   "execution_count": 23,
   "id": "e6e1e445",
   "metadata": {},
   "outputs": [
    {
     "name": "stderr",
     "output_type": "stream",
     "text": [
      "findfont: Font family ['NanumGothic'] not found. Falling back to DejaVu Sans.\n",
      "findfont: Font family ['NanumGothic'] not found. Falling back to DejaVu Sans.\n"
     ]
    },
    {
     "data": {
      "image/png": "[encoded data removed]",
      "text/plain": [
       "<Figure size 432x288 with 1 Axes>"
      ]
     },
     "metadata": {
      "needs_background": "light"
     },
     "output_type": "display_data"
    }
   ],
   "source": [
    "plt.plot(results.history['loss'])\n",
    "plt.plot(results.history['val_loss'])\n",
    "plt.title('model loss')\n",
    "plt.ylabel('loss')\n",
    "plt.xlabel('epoch')\n",
    "plt.legend(['train', 'test'], loc='upper right');\n",
    "plt.show()"
   ]
  },
  {
   "cell_type": "code",
   "execution_count": 24,
   "id": "4c53d49e",
   "metadata": {},
   "outputs": [],
   "source": [
    "x_train_pred = vae_model.predict(x_train)"
   ]
  },
  {
   "cell_type": "code",
   "execution_count": 25,
   "id": "d026526c",
   "metadata": {},
   "outputs": [
    {
     "name": "stdout",
     "output_type": "stream",
     "text": [
      "Avg error 0.06100279004266806\n",
      "median error 0.002329527643844159\n",
      "dataset: 0.7617207553118484\n",
      "setting threshold on 0.7617207553118484 \n"
     ]
    }
   ],
   "source": [
    "mae_vector = get_error(x_train_pred, x_train, _rmse=False)\n",
    "print(f'Avg error {np.mean(mae_vector)}\\nmedian error {np.median(mae_vector)}\\ndataset: {np.quantile(mae_vector, 0.99)}')\n",
    "print(f'setting threshold on { np.quantile(mae_vector, 0.99)} ')\n",
    "\n",
    "error_thresh = np.quantile(mae_vector, 0.99)"
   ]
  },
  {
   "cell_type": "code",
   "execution_count": 26,
   "id": "c01edc93",
   "metadata": {},
   "outputs": [
    {
     "data": {
      "text/plain": [
       "0.0"
      ]
     },
     "execution_count": 26,
     "metadata": {},
     "output_type": "execute_result"
    }
   ],
   "source": [
    "x_pred = vae_model.predict(x_test)\n",
    "mae_vector = get_error(x_pred, x_test, _rmse=False)\n",
    "anomalies = (mae_vector > error_thresh)\n",
    "\n",
    "np.count_nonzero(anomalies) / len(anomalies)"
   ]
  },
  {
   "cell_type": "code",
   "execution_count": 27,
   "id": "7c18b92f",
   "metadata": {},
   "outputs": [
    {
     "name": "stdout",
     "output_type": "stream",
     "text": [
      "              precision    recall  f1-score   support\n",
      "\n",
      "         0.0       1.00      1.00      1.00     44063\n",
      "         1.0       0.00      0.00      0.00         7\n",
      "\n",
      "    accuracy                           1.00     44070\n",
      "   macro avg       0.50      0.50      0.50     44070\n",
      "weighted avg       1.00      1.00      1.00     44070\n",
      "\n"
     ]
    }
   ],
   "source": [
    "from sklearn.metrics import classification_report\n",
    "\n",
    "print(classification_report(y_test, anomalies))"
   ]
  },
  {
   "cell_type": "code",
   "execution_count": null,
   "id": "540dea3f",
   "metadata": {},
   "outputs": [],
   "source": []
  },
  {
   "cell_type": "code",
   "execution_count": null,
   "id": "77958797",
   "metadata": {},
   "outputs": [],
   "source": []
  },
  {
   "cell_type": "code",
   "execution_count": null,
   "id": "524f7477",
   "metadata": {},
   "outputs": [],
   "source": []
  },
  {
   "cell_type": "code",
   "execution_count": null,
   "id": "bf022766",
   "metadata": {},
   "outputs": [],
   "source": []
  },
  {
   "cell_type": "code",
   "execution_count": null,
   "id": "f827beff",
   "metadata": {},
   "outputs": [],
   "source": []
  },
  {
   "cell_type": "code",
   "execution_count": null,
   "id": "432376f5",
   "metadata": {},
   "outputs": [],
   "source": []
  },
  {
   "cell_type": "code",
   "execution_count": null,
   "id": "67f143ca",
   "metadata": {},
   "outputs": [],
   "source": []
  },
  {
   "cell_type": "code",
   "execution_count": null,
   "id": "207f0aa9",
   "metadata": {},
   "outputs": [],
   "source": []
  },
  {
   "cell_type": "code",
   "execution_count": null,
   "id": "216a0301",
   "metadata": {},
   "outputs": [],
   "source": []
  },
  {
   "cell_type": "code",
   "execution_count": null,
   "id": "0b33547b",
   "metadata": {},
   "outputs": [],
   "source": []
  },
  {
   "cell_type": "code",
   "execution_count": null,
   "id": "ae831554",
   "metadata": {},
   "outputs": [],
   "source": []
  },
  {
   "cell_type": "code",
   "execution_count": null,
   "id": "89f5c7a3",
   "metadata": {},
   "outputs": [],
   "source": []
  },
  {
   "cell_type": "code",
   "execution_count": null,
   "id": "51625a36",
   "metadata": {},
   "outputs": [],
   "source": []
  },
  {
   "cell_type": "code",
   "execution_count": null,
   "id": "6c4c3f2e",
   "metadata": {},
   "outputs": [],
   "source": []
  }
 ],
 "metadata": {
  "kernelspec": {
   "display_name": "Python 3.9.12 ('torch_cuda')",
   "language": "python",
   "name": "python3"
  },
  "language_info": {
   "codemirror_mode": {
    "name": "ipython",
    "version": 3
   },
   "file_extension": ".py",
   "mimetype": "text/x-python",
   "name": "python",
   "nbconvert_exporter": "python",
   "pygments_lexer": "ipython3",
   "version": "3.9.12"
  },
  "vscode": {
   "interpreter": {
    "hash": "a5f8954eb743e51db8344fe208b8d668e4e15c8eb1d37245f60cfcee664c52c2"
   }
  }
 },
 "nbformat": 4,
 "nbformat_minor": 5
}
