{
 "cells": [
  {
   "cell_type": "code",
   "execution_count": 10,
   "id": "2a277f88",
   "metadata": {},
   "outputs": [
    {
     "data": {
      "text/html": [
       "<style>.container { width:100% !important; }</style>"
      ],
      "text/plain": [
       "<IPython.core.display.HTML object>"
      ]
     },
     "metadata": {},
     "output_type": "display_data"
    },
    {
     "name": "stdout",
     "output_type": "stream",
     "text": [
      "Setup Complete\n"
     ]
    }
   ],
   "source": [
    "import os\n",
    "import csv\n",
    "\n",
    "import numpy as np\n",
    "import pandas as pd\n",
    "from datetime import datetime\n",
    "\n",
    "import seaborn as sns\n",
    "import matplotlib.pyplot as plt\n",
    "%matplotlib inline\n",
    "\n",
    "from sklearn.preprocessing import LabelEncoder\n",
    "\n",
    "from sklearn.preprocessing import MinMaxScaler, StandardScaler, PowerTransformer\n",
    "from sklearn.model_selection import train_test_split\n",
    "\n",
    "from sklearn.metrics import accuracy_score, mean_squared_error\n",
    "\n",
    "import tensorflow as tf\n",
    "from tensorflow.keras import Model, Sequential\n",
    "from tensorflow.keras.optimizers import Adam\n",
    "from tensorflow.keras import layers\n",
    "from tensorflow.keras.layers import RepeatVector, TimeDistributed\n",
    "from tensorflow.keras.layers import Dense, Dropout, Lambda, Input, Dense, LSTM\n",
    "from tensorflow.keras.losses import MeanSquaredLogarithmicError, mse, binary_crossentropy, kl_divergence\n",
    "\n",
    "tf.compat.v1.disable_eager_execution()\n",
    "from tensorflow.keras.models import Model, load_model\n",
    "from tensorflow.keras import optimizers\n",
    "from tensorflow.keras import backend as K\n",
    "\n",
    "import warnings\n",
    "warnings.filterwarnings('ignore')\n",
    "\n",
    "from IPython.core.display import display, HTML\n",
    "display(HTML(\"<style>.container { width:100% !important; }</style>\"))\n",
    "\n",
    "print(\"Setup Complete\")"
   ]
  },
  {
   "cell_type": "markdown",
   "id": "1c5d1325",
   "metadata": {},
   "source": [
    "Feature Extraction and Extension CODE: https://github.com/min0355/ai-novatus/blob/main/PBL%20main%20code/No.3_Feature%20selection%20and%20Feature%20Extension.ipynb"
   ]
  },
  {
   "cell_type": "code",
   "execution_count": 11,
   "id": "187f4fd7",
   "metadata": {},
   "outputs": [],
   "source": [
    "def make_df(df, label):\n",
    "    \n",
    "    for col in label:\n",
    "        print(col)\n",
    "        le = LabelEncoder()\n",
    "        k = df.pop(col)\n",
    "        le.fit(k)\n",
    "        k = pd.DataFrame(le.transform(k))\n",
    "        df = pd.concat([df, k], axis=1)\n",
    "        \n",
    "    return df    \n",
    "    \n",
    "#     label_mapping = {\n",
    "#     0.0: 1, # normal\n",
    "#     0.5: 2, # recovering\n",
    "#     1: 0  # broken\n",
    "#     }\n",
    "    \n",
    "#     del df['Unnamed: 0']\n",
    "#     df.loc[:, \"operation\"] = df.operation.map(label_mapping) \n",
    "#     df['timestamp'] = pd.to_datetime(df['timestamp'])\n",
    "#     df = df.set_index('timestamp')\n",
    "#     feature = [\n",
    "#     f for f in df.columns if f in (\"sensor_04\", \"operation\")\n",
    "#     ]\n",
    "#     return df[feature]"
   ]
  },
  {
   "cell_type": "code",
   "execution_count": 3,
   "id": "5675e518",
   "metadata": {},
   "outputs": [
    {
     "name": "stdout",
     "output_type": "stream",
     "text": [
      "operation\n"
     ]
    },
    {
     "data": {
      "text/html": [
       "<div>\n",
       "<style scoped>\n",
       "    .dataframe tbody tr th:only-of-type {\n",
       "        vertical-align: middle;\n",
       "    }\n",
       "\n",
       "    .dataframe tbody tr th {\n",
       "        vertical-align: top;\n",
       "    }\n",
       "\n",
       "    .dataframe thead th {\n",
       "        text-align: right;\n",
       "    }\n",
       "</style>\n",
       "<table border=\"1\" class=\"dataframe\">\n",
       "  <thead>\n",
       "    <tr style=\"text-align: right;\">\n",
       "      <th></th>\n",
       "      <th>sensor_04</th>\n",
       "      <th>0</th>\n",
       "    </tr>\n",
       "  </thead>\n",
       "  <tbody>\n",
       "    <tr>\n",
       "      <th>0</th>\n",
       "      <td>0.792242</td>\n",
       "      <td>0</td>\n",
       "    </tr>\n",
       "    <tr>\n",
       "      <th>1</th>\n",
       "      <td>0.792242</td>\n",
       "      <td>0</td>\n",
       "    </tr>\n",
       "    <tr>\n",
       "      <th>2</th>\n",
       "      <td>0.797904</td>\n",
       "      <td>0</td>\n",
       "    </tr>\n",
       "    <tr>\n",
       "      <th>3</th>\n",
       "      <td>0.784402</td>\n",
       "      <td>0</td>\n",
       "    </tr>\n",
       "    <tr>\n",
       "      <th>4</th>\n",
       "      <td>0.794855</td>\n",
       "      <td>0</td>\n",
       "    </tr>\n",
       "  </tbody>\n",
       "</table>\n",
       "</div>"
      ],
      "text/plain": [
       "   sensor_04  0\n",
       "0   0.792242  0\n",
       "1   0.792242  0\n",
       "2   0.797904  0\n",
       "3   0.784402  0\n",
       "4   0.794855  0"
      ]
     },
     "execution_count": 3,
     "metadata": {},
     "output_type": "execute_result"
    }
   ],
   "source": [
    "df = pd.read_csv(r'/home/kym/ML/input/ai_nova/pre_sensor.csv')\n",
    "\n",
    "feature = [\n",
    "    f for f in df.columns if f in (\"sensor_04\", \"operation\")\n",
    "]\n",
    "\n",
    "df = df[feature]\n",
    "df = make_df(df, ['operation'])\n",
    "df.head()"
   ]
  },
  {
   "cell_type": "code",
   "execution_count": 4,
   "id": "182e62cf",
   "metadata": {},
   "outputs": [],
   "source": [
    "# df['timestamp'] = df['timestamp'].apply(lambda x : datetime.strptime(x, '%Y-%m-%d %H:%M:%S'))\n",
    "# df['timestamp'][0]"
   ]
  },
  {
   "cell_type": "code",
   "execution_count": 5,
   "id": "29fa6398",
   "metadata": {},
   "outputs": [],
   "source": [
    "# sns.lineplot(x=df['timestamp'], y=df[0])"
   ]
  },
  {
   "cell_type": "code",
   "execution_count": 6,
   "id": "26084d38",
   "metadata": {},
   "outputs": [
    {
     "name": "stdout",
     "output_type": "stream",
     "text": [
      "2\n",
      "2\n",
      "<class 'pandas.core.frame.DataFrame'>\n"
     ]
    }
   ],
   "source": [
    "print(int(len(df.columns)))\n",
    "print(df.shape[1])\n",
    "print(type(df))"
   ]
  },
  {
   "cell_type": "code",
   "execution_count": 7,
   "id": "576ae199",
   "metadata": {},
   "outputs": [],
   "source": [
    "def transform_to_stat(df):\n",
    "    def difference(dataset, interval=1):\n",
    "        diff = list()\n",
    "        \n",
    "        for i in range(interval, len(dataset)):\n",
    "            value = dataset[i] - dataset[i - interval]\n",
    "            diff.append(value)\n",
    "        \n",
    "        return pd.DataFrame(diff)\n",
    "    \n",
    "    df = df.values\n",
    "    df = difference(df, 1)\n",
    "    \n",
    "    return df\n",
    "\n",
    "def series_to_supervised(data, n_in=1, n_out=1, dropnan=True, drop_col=False, y_var=1):\n",
    "    n_features = int(len(data.columns)) # 2\n",
    "    n_vars = 1 if type(data) is list else data.shape[1] # cols 2 \n",
    "    df = pd.DataFrame(data)\n",
    "    cols, names = list(), list()\n",
    "\n",
    "    # input sequence (t-n, ..., t-1)\n",
    "    for i in range(n_in, 0, -1): # 10, 9 ... 1 \n",
    "        cols.append(df.shift(i))\n",
    "        names += [('var%d(t-%d)' % (j+1, i)) for j in range(n_vars)] # (1, 10), (2, 10)\n",
    "    \n",
    "    # forecast sequence (t, t+1... t+n)\n",
    "    for i in range(0, n_out):\n",
    "        cols.append(df.shift(-i))\n",
    "        \n",
    "        if i == 0:\n",
    "            names += [('var%d(t)' % (j+1)) for j in range(n_vars)]\n",
    "        else:\n",
    "            names += [('var%d(t+%d)' % (j+1, i)) for j in range(n_vars)]\n",
    "            \n",
    "    agg = pd.concat(cols, axis=1)\n",
    "    agg.columns = names\n",
    "    \n",
    "    if dropnan:\n",
    "        agg.dropna(inplace=True)\n",
    "        data = agg.copy()\n",
    "        \n",
    "    if drop_col == True:\n",
    "        tot = n_features * n_in + n_features\n",
    "        y_name = list(data.columns)[n_features * n_in - 1 + y_var]\n",
    "        y = data[y_name]\n",
    "        \n",
    "        for i in range(n_features * n_in, tot):\n",
    "            data.drop(data.columns[[tot - n_features]], axis=1, inplace=True)\n",
    "            \n",
    "        data = pd.concat([data, y], axis=1)\n",
    "        \n",
    "    return data\n",
    "\n",
    "def split(df, test_size):\n",
    "    df = df.values\n",
    "    len_df = df.shape[0]\n",
    "    test_size = int(len_df * test_size)\n",
    "    train, test = df[0: -test_size], df[-test_size:]\n",
    "    \n",
    "    return train, test"
   ]
  },
  {
   "cell_type": "code",
   "execution_count": 8,
   "id": "0e6eca70",
   "metadata": {},
   "outputs": [
    {
     "name": "stdout",
     "output_type": "stream",
     "text": [
      "(198279, 20) (22031, 20) (198279, 1) (22031, 1)\n"
     ]
    }
   ],
   "source": [
    "raw_values = df.copy().values\n",
    "X = series_to_supervised(df, 10, 1)\n",
    "\n",
    "y = pd.DataFrame(X.pop('var2(t)'))\n",
    "var_list = ['var' + str(x) + '(t)' for x in range(1, 2)]\n",
    "X = X.drop(var_list, axis=1)\n",
    "\n",
    "X_train, X_test = split(X, .1) # need to update (라벨링 혼재되도록)\n",
    "y_train, y_test = split(y, .1)\n",
    "print(X_train.shape, X_test.shape, y_train.shape, y_test.shape)"
   ]
  },
  {
   "cell_type": "code",
   "execution_count": 9,
   "id": "a6b65f63",
   "metadata": {
    "scrolled": true
   },
   "outputs": [
    {
     "name": "stdout",
     "output_type": "stream",
     "text": [
      "(198279, 20, 1) (198279, 1, 1)\n",
      "(22031, 20, 1) (22031, 1, 1)\n",
      "WARNING:tensorflow:Layer lstm will not use cuDNN kernels since it doesn't meet the criteria. It will use a generic GPU kernel as fallback when running on GPU.\n",
      "WARNING:tensorflow:Layer lstm_1 will not use cuDNN kernels since it doesn't meet the criteria. It will use a generic GPU kernel as fallback when running on GPU.\n"
     ]
    },
    {
     "name": "stderr",
     "output_type": "stream",
     "text": [
      "2022-06-23 19:38:29.857835: I tensorflow/stream_executor/cuda/cuda_gpu_executor.cc:939] successful NUMA node read from SysFS had negative value (-1), but there must be at least one NUMA node, so returning NUMA node zero\n",
      "2022-06-23 19:38:29.900298: I tensorflow/stream_executor/cuda/cuda_gpu_executor.cc:939] successful NUMA node read from SysFS had negative value (-1), but there must be at least one NUMA node, so returning NUMA node zero\n",
      "2022-06-23 19:38:29.900529: I tensorflow/stream_executor/cuda/cuda_gpu_executor.cc:939] successful NUMA node read from SysFS had negative value (-1), but there must be at least one NUMA node, so returning NUMA node zero\n",
      "2022-06-23 19:38:29.901413: I tensorflow/core/platform/cpu_feature_guard.cc:151] This TensorFlow binary is optimized with oneAPI Deep Neural Network Library (oneDNN) to use the following CPU instructions in performance-critical operations:  AVX2 FMA\n",
      "To enable them in other operations, rebuild TensorFlow with the appropriate compiler flags.\n",
      "2022-06-23 19:38:29.902464: I tensorflow/stream_executor/cuda/cuda_gpu_executor.cc:939] successful NUMA node read from SysFS had negative value (-1), but there must be at least one NUMA node, so returning NUMA node zero\n",
      "2022-06-23 19:38:29.902687: I tensorflow/stream_executor/cuda/cuda_gpu_executor.cc:939] successful NUMA node read from SysFS had negative value (-1), but there must be at least one NUMA node, so returning NUMA node zero\n",
      "2022-06-23 19:38:29.902882: I tensorflow/stream_executor/cuda/cuda_gpu_executor.cc:939] successful NUMA node read from SysFS had negative value (-1), but there must be at least one NUMA node, so returning NUMA node zero\n",
      "2022-06-23 19:38:30.260526: I tensorflow/stream_executor/cuda/cuda_gpu_executor.cc:939] successful NUMA node read from SysFS had negative value (-1), but there must be at least one NUMA node, so returning NUMA node zero\n",
      "2022-06-23 19:38:30.260688: I tensorflow/stream_executor/cuda/cuda_gpu_executor.cc:939] successful NUMA node read from SysFS had negative value (-1), but there must be at least one NUMA node, so returning NUMA node zero\n",
      "2022-06-23 19:38:30.260962: I tensorflow/stream_executor/cuda/cuda_gpu_executor.cc:939] successful NUMA node read from SysFS had negative value (-1), but there must be at least one NUMA node, so returning NUMA node zero\n",
      "2022-06-23 19:38:30.261070: W tensorflow/core/common_runtime/gpu/gpu_bfc_allocator.cc:39] Overriding allow_growth setting because the TF_FORCE_GPU_ALLOW_GROWTH environment variable is set. Original config value was 0.\n",
      "2022-06-23 19:38:30.261095: I tensorflow/core/common_runtime/gpu/gpu_device.cc:1525] Created device /job:localhost/replica:0/task:0/device:GPU:0 with 9835 MB memory:  -> device: 0, name: NVIDIA GeForce RTX 3060, pci bus id: 0000:0b:00.0, compute capability: 8.6\n"
     ]
    },
    {
     "ename": "KeyboardInterrupt",
     "evalue": "",
     "output_type": "error",
     "traceback": [
      "\u001b[0;31m---------------------------------------------------------------------------\u001b[0m",
      "\u001b[0;31mKeyboardInterrupt\u001b[0m                         Traceback (most recent call last)",
      "Input \u001b[0;32mIn [9]\u001b[0m, in \u001b[0;36m<cell line: 16>\u001b[0;34m()\u001b[0m\n\u001b[1;32m     14\u001b[0m model\u001b[38;5;241m.\u001b[39madd(RepeatVector(\u001b[38;5;241m1\u001b[39m)) \n\u001b[1;32m     15\u001b[0m model\u001b[38;5;241m.\u001b[39madd(LSTM(\u001b[38;5;241m10\u001b[39m, activation\u001b[38;5;241m=\u001b[39m\u001b[38;5;124m'\u001b[39m\u001b[38;5;124mrelu\u001b[39m\u001b[38;5;124m'\u001b[39m, return_sequences\u001b[38;5;241m=\u001b[39m\u001b[38;5;28;01mTrue\u001b[39;00m))\n\u001b[0;32m---> 16\u001b[0m model\u001b[38;5;241m.\u001b[39madd(\u001b[43mTimeDistributed\u001b[49m\u001b[43m(\u001b[49m\u001b[43mDense\u001b[49m\u001b[43m(\u001b[49m\u001b[38;5;241;43m1\u001b[39;49m\u001b[43m)\u001b[49m\u001b[43m)\u001b[49m)\n\u001b[1;32m     17\u001b[0m model\u001b[38;5;241m.\u001b[39mcompile(optimizer\u001b[38;5;241m=\u001b[39m\u001b[38;5;124m'\u001b[39m\u001b[38;5;124madam\u001b[39m\u001b[38;5;124m'\u001b[39m, loss\u001b[38;5;241m=\u001b[39m\u001b[38;5;124m'\u001b[39m\u001b[38;5;124mmse\u001b[39m\u001b[38;5;124m'\u001b[39m)\n",
      "File \u001b[0;32m~/miniconda3/envs/ml/lib/python3.9/site-packages/keras/layers/wrappers.py:123\u001b[0m, in \u001b[0;36mTimeDistributed.__init__\u001b[0;34m(self, layer, **kwargs)\u001b[0m\n\u001b[1;32m    119\u001b[0m \u001b[38;5;28;01mif\u001b[39;00m \u001b[38;5;129;01mnot\u001b[39;00m \u001b[38;5;28misinstance\u001b[39m(layer, Layer):\n\u001b[1;32m    120\u001b[0m   \u001b[38;5;28;01mraise\u001b[39;00m \u001b[38;5;167;01mValueError\u001b[39;00m(\n\u001b[1;32m    121\u001b[0m       \u001b[38;5;124m'\u001b[39m\u001b[38;5;124mPlease initialize `TimeDistributed` layer with a \u001b[39m\u001b[38;5;124m'\u001b[39m\n\u001b[1;32m    122\u001b[0m       \u001b[38;5;124mf\u001b[39m\u001b[38;5;124m'\u001b[39m\u001b[38;5;124m`tf.keras.layers.Layer` instance. Received: \u001b[39m\u001b[38;5;132;01m{\u001b[39;00mlayer\u001b[38;5;132;01m}\u001b[39;00m\u001b[38;5;124m'\u001b[39m)\n\u001b[0;32m--> 123\u001b[0m \u001b[38;5;28;43msuper\u001b[39;49m\u001b[43m(\u001b[49m\u001b[43mTimeDistributed\u001b[49m\u001b[43m,\u001b[49m\u001b[43m \u001b[49m\u001b[38;5;28;43mself\u001b[39;49m\u001b[43m)\u001b[49m\u001b[38;5;241;43m.\u001b[39;49m\u001b[38;5;21;43m__init__\u001b[39;49m\u001b[43m(\u001b[49m\u001b[43mlayer\u001b[49m\u001b[43m,\u001b[49m\u001b[43m \u001b[49m\u001b[38;5;241;43m*\u001b[39;49m\u001b[38;5;241;43m*\u001b[39;49m\u001b[43mkwargs\u001b[49m\u001b[43m)\u001b[49m\n\u001b[1;32m    124\u001b[0m \u001b[38;5;28mself\u001b[39m\u001b[38;5;241m.\u001b[39msupports_masking \u001b[38;5;241m=\u001b[39m \u001b[38;5;28;01mTrue\u001b[39;00m\n\u001b[1;32m    126\u001b[0m \u001b[38;5;66;03m# It is safe to use the fast, reshape-based approach with all of our\u001b[39;00m\n\u001b[1;32m    127\u001b[0m \u001b[38;5;66;03m# built-in Layers.\u001b[39;00m\n",
      "File \u001b[0;32m~/miniconda3/envs/ml/lib/python3.9/site-packages/keras/layers/wrappers.py:47\u001b[0m, in \u001b[0;36mWrapper.__init__\u001b[0;34m(self, layer, **kwargs)\u001b[0m\n\u001b[1;32m     45\u001b[0m \u001b[38;5;28;01mdef\u001b[39;00m \u001b[38;5;21m__init__\u001b[39m(\u001b[38;5;28mself\u001b[39m, layer, \u001b[38;5;241m*\u001b[39m\u001b[38;5;241m*\u001b[39mkwargs):\n\u001b[1;32m     46\u001b[0m   \u001b[38;5;28;01massert\u001b[39;00m \u001b[38;5;28misinstance\u001b[39m(layer, Layer)\n\u001b[0;32m---> 47\u001b[0m   \u001b[38;5;28mself\u001b[39m\u001b[38;5;241m.\u001b[39mlayer \u001b[38;5;241m=\u001b[39m layer\n\u001b[1;32m     48\u001b[0m   \u001b[38;5;28msuper\u001b[39m(Wrapper, \u001b[38;5;28mself\u001b[39m)\u001b[38;5;241m.\u001b[39m\u001b[38;5;21m__init__\u001b[39m(\u001b[38;5;241m*\u001b[39m\u001b[38;5;241m*\u001b[39mkwargs)\n",
      "File \u001b[0;32m~/miniconda3/envs/ml/lib/python3.9/site-packages/keras/engine/base_layer_v1.py:2214\u001b[0m, in \u001b[0;36mLayer.__setattr__\u001b[0;34m(self, name, value)\u001b[0m\n\u001b[1;32m   2212\u001b[0m \u001b[38;5;28;01mfrom\u001b[39;00m \u001b[38;5;21;01mkeras\u001b[39;00m \u001b[38;5;28;01mimport\u001b[39;00m metrics \u001b[38;5;28;01mas\u001b[39;00m metrics_module  \u001b[38;5;66;03m# pylint: disable=g-import-not-at-top\u001b[39;00m\n\u001b[1;32m   2213\u001b[0m \u001b[38;5;28;01mfor\u001b[39;00m val \u001b[38;5;129;01min\u001b[39;00m tf\u001b[38;5;241m.\u001b[39mnest\u001b[38;5;241m.\u001b[39mflatten(value):\n\u001b[0;32m-> 2214\u001b[0m   \u001b[38;5;28;01mif\u001b[39;00m \u001b[38;5;28;43misinstance\u001b[39;49m\u001b[43m(\u001b[49m\u001b[43mval\u001b[49m\u001b[43m,\u001b[49m\u001b[43m \u001b[49m\u001b[43mmetrics_module\u001b[49m\u001b[38;5;241;43m.\u001b[39;49m\u001b[43mMetric\u001b[49m\u001b[43m)\u001b[49m \u001b[38;5;129;01mand\u001b[39;00m \u001b[38;5;28mhasattr\u001b[39m(\u001b[38;5;28mself\u001b[39m, \u001b[38;5;124m'\u001b[39m\u001b[38;5;124m_metrics\u001b[39m\u001b[38;5;124m'\u001b[39m):\n\u001b[1;32m   2215\u001b[0m     \u001b[38;5;28mself\u001b[39m\u001b[38;5;241m.\u001b[39m_metrics\u001b[38;5;241m.\u001b[39mappend(val)\n\u001b[1;32m   2217\u001b[0m \u001b[38;5;66;03m# TODO(scottzhu): Need to track Module object as well for weight tracking.\u001b[39;00m\n\u001b[1;32m   2218\u001b[0m \u001b[38;5;66;03m# Be careful about metric if it becomes a Module in future.\u001b[39;00m\n\u001b[1;32m   2219\u001b[0m \u001b[38;5;66;03m# Append value to self._layers if relevant\u001b[39;00m\n",
      "File \u001b[0;32m~/miniconda3/envs/ml/lib/python3.9/abc.py:98\u001b[0m, in \u001b[0;36mABCMeta.__instancecheck__\u001b[0;34m(cls, instance)\u001b[0m\n\u001b[1;32m     96\u001b[0m \u001b[38;5;28;01mdef\u001b[39;00m \u001b[38;5;21m__instancecheck__\u001b[39m(\u001b[38;5;28mcls\u001b[39m, instance):\n\u001b[1;32m     97\u001b[0m     \u001b[38;5;124;03m\"\"\"Override for isinstance(instance, cls).\"\"\"\u001b[39;00m\n\u001b[0;32m---> 98\u001b[0m     \u001b[38;5;28;01mreturn\u001b[39;00m \u001b[43m_abc_instancecheck\u001b[49m\u001b[43m(\u001b[49m\u001b[38;5;28;43mcls\u001b[39;49m\u001b[43m,\u001b[49m\u001b[43m \u001b[49m\u001b[43minstance\u001b[49m\u001b[43m)\u001b[49m\n",
      "File \u001b[0;32m~/miniconda3/envs/ml/lib/python3.9/abc.py:102\u001b[0m, in \u001b[0;36mABCMeta.__subclasscheck__\u001b[0;34m(cls, subclass)\u001b[0m\n\u001b[1;32m    100\u001b[0m \u001b[38;5;28;01mdef\u001b[39;00m \u001b[38;5;21m__subclasscheck__\u001b[39m(\u001b[38;5;28mcls\u001b[39m, subclass):\n\u001b[1;32m    101\u001b[0m     \u001b[38;5;124;03m\"\"\"Override for issubclass(subclass, cls).\"\"\"\u001b[39;00m\n\u001b[0;32m--> 102\u001b[0m     \u001b[38;5;28;01mreturn\u001b[39;00m \u001b[43m_abc_subclasscheck\u001b[49m\u001b[43m(\u001b[49m\u001b[38;5;28;43mcls\u001b[39;49m\u001b[43m,\u001b[49m\u001b[43m \u001b[49m\u001b[43msubclass\u001b[49m\u001b[43m)\u001b[49m\n",
      "File \u001b[0;32m~/miniconda3/envs/ml/lib/python3.9/abc.py:102\u001b[0m, in \u001b[0;36mABCMeta.__subclasscheck__\u001b[0;34m(cls, subclass)\u001b[0m\n\u001b[1;32m    100\u001b[0m \u001b[38;5;28;01mdef\u001b[39;00m \u001b[38;5;21m__subclasscheck__\u001b[39m(\u001b[38;5;28mcls\u001b[39m, subclass):\n\u001b[1;32m    101\u001b[0m     \u001b[38;5;124;03m\"\"\"Override for issubclass(subclass, cls).\"\"\"\u001b[39;00m\n\u001b[0;32m--> 102\u001b[0m     \u001b[38;5;28;01mreturn\u001b[39;00m \u001b[43m_abc_subclasscheck\u001b[49m\u001b[43m(\u001b[49m\u001b[38;5;28;43mcls\u001b[39;49m\u001b[43m,\u001b[49m\u001b[43m \u001b[49m\u001b[43msubclass\u001b[49m\u001b[43m)\u001b[49m\n",
      "File \u001b[0;32m~/miniconda3/envs/ml/lib/python3.9/abc.py:102\u001b[0m, in \u001b[0;36mABCMeta.__subclasscheck__\u001b[0;34m(cls, subclass)\u001b[0m\n\u001b[1;32m    100\u001b[0m \u001b[38;5;28;01mdef\u001b[39;00m \u001b[38;5;21m__subclasscheck__\u001b[39m(\u001b[38;5;28mcls\u001b[39m, subclass):\n\u001b[1;32m    101\u001b[0m     \u001b[38;5;124;03m\"\"\"Override for issubclass(subclass, cls).\"\"\"\u001b[39;00m\n\u001b[0;32m--> 102\u001b[0m     \u001b[38;5;28;01mreturn\u001b[39;00m \u001b[43m_abc_subclasscheck\u001b[49m\u001b[43m(\u001b[49m\u001b[38;5;28;43mcls\u001b[39;49m\u001b[43m,\u001b[49m\u001b[43m \u001b[49m\u001b[43msubclass\u001b[49m\u001b[43m)\u001b[49m\n",
      "\u001b[0;31mKeyboardInterrupt\u001b[0m: "
     ]
    }
   ],
   "source": [
    "# reshape [samples, n_input_timesteps, n_features]\n",
    "X_train = X_train.reshape((198279, 20, 1)) \n",
    "y_train = y_train.reshape((198279, 1, 1))\n",
    "print(X_train.shape, y_train.shape)\n",
    "\n",
    "X_test = X_test.reshape(22031, 20, 1)\n",
    "y_test = y_test.reshape(22031, 1, 1)\n",
    "print(X_test.shape, y_test.shape)\n",
    "\n",
    "# LSTM\n",
    "model = Sequential()\n",
    "model.add(LSTM(10, activation='relu', batch_input_shape=(1, 20, 1)))\n",
    "model.add(Dropout(0.2))\n",
    "model.add(RepeatVector(1)) \n",
    "model.add(LSTM(10, activation='relu', return_sequences=True))\n",
    "model.add(TimeDistributed(Dense(1)))\n",
    "model.compile(optimizer='adam', loss='mse')"
   ]
  },
  {
   "cell_type": "code",
   "execution_count": null,
   "id": "c6654310",
   "metadata": {},
   "outputs": [],
   "source": [
    "history = model.fit(X_train, y_train, epochs=3, batch_size=1, validation_data = (X_test, y_test), verbose=1, shuffle=False)\n",
    "# model.reset_states()"
   ]
  },
  {
   "cell_type": "code",
   "execution_count": null,
   "id": "50763d94",
   "metadata": {},
   "outputs": [],
   "source": [
    "plt.plot(history.history['loss'])\n",
    "plt.plot(history.history['val_loss'])\n",
    "plt.title('model loss')\n",
    "plt.ylabel('loss')\n",
    "plt.xlabel('epoch')\n",
    "plt.legend(['train', 'test'], loc='upper right')\n",
    "plt.show()"
   ]
  },
  {
   "cell_type": "code",
   "execution_count": null,
   "id": "7efc0588",
   "metadata": {},
   "outputs": [],
   "source": [
    "# from sklearn.metrics import mean_squared_error\n",
    "# import sklearn.metrics as metrics\n",
    "\n",
    "# pred = model.predict(X_test)\n",
    "# metrics.mean_squared_error(pred, y_test) ** 0.5"
   ]
  },
  {
   "cell_type": "code",
   "execution_count": null,
   "id": "823ee658",
   "metadata": {},
   "outputs": [],
   "source": [
    "# load and process original csv files"
   ]
  },
  {
   "cell_type": "code",
   "execution_count": 19,
   "id": "840c682e",
   "metadata": {},
   "outputs": [
    {
     "name": "stdout",
     "output_type": "stream",
     "text": [
      "operation\n"
     ]
    },
    {
     "data": {
      "text/html": [
       "<div>\n",
       "<style scoped>\n",
       "    .dataframe tbody tr th:only-of-type {\n",
       "        vertical-align: middle;\n",
       "    }\n",
       "\n",
       "    .dataframe tbody tr th {\n",
       "        vertical-align: top;\n",
       "    }\n",
       "\n",
       "    .dataframe thead th {\n",
       "        text-align: right;\n",
       "    }\n",
       "</style>\n",
       "<table border=\"1\" class=\"dataframe\">\n",
       "  <thead>\n",
       "    <tr style=\"text-align: right;\">\n",
       "      <th></th>\n",
       "      <th>timestamp</th>\n",
       "      <th>sensor_04</th>\n",
       "      <th>0</th>\n",
       "    </tr>\n",
       "  </thead>\n",
       "  <tbody>\n",
       "    <tr>\n",
       "      <th>0</th>\n",
       "      <td>2018-04-01 00:00:00</td>\n",
       "      <td>0.792242</td>\n",
       "      <td>0</td>\n",
       "    </tr>\n",
       "    <tr>\n",
       "      <th>1</th>\n",
       "      <td>2018-04-01 00:01:00</td>\n",
       "      <td>0.792242</td>\n",
       "      <td>0</td>\n",
       "    </tr>\n",
       "    <tr>\n",
       "      <th>2</th>\n",
       "      <td>2018-04-01 00:02:00</td>\n",
       "      <td>0.797904</td>\n",
       "      <td>0</td>\n",
       "    </tr>\n",
       "    <tr>\n",
       "      <th>3</th>\n",
       "      <td>2018-04-01 00:03:00</td>\n",
       "      <td>0.784402</td>\n",
       "      <td>0</td>\n",
       "    </tr>\n",
       "    <tr>\n",
       "      <th>4</th>\n",
       "      <td>2018-04-01 00:04:00</td>\n",
       "      <td>0.794855</td>\n",
       "      <td>0</td>\n",
       "    </tr>\n",
       "  </tbody>\n",
       "</table>\n",
       "</div>"
      ],
      "text/plain": [
       "             timestamp  sensor_04  0\n",
       "0  2018-04-01 00:00:00   0.792242  0\n",
       "1  2018-04-01 00:01:00   0.792242  0\n",
       "2  2018-04-01 00:02:00   0.797904  0\n",
       "3  2018-04-01 00:03:00   0.784402  0\n",
       "4  2018-04-01 00:04:00   0.794855  0"
      ]
     },
     "execution_count": 19,
     "metadata": {},
     "output_type": "execute_result"
    }
   ],
   "source": [
    "df = pd.read_csv(r'/home/kym/ML/input/ai_nova/pre_sensor.csv')\n",
    "\n",
    "feature = [\n",
    "    f for f in df.columns if f in (\"timestamp\", \"sensor_04\", \"operation\")\n",
    "]\n",
    "\n",
    "df = df[feature]\n",
    "df = make_df(df, ['operation'])\n",
    "\n",
    "df.to_csv(r'/home/kym/ML/input/ai_nova/final_sensor.csv', index=False)\n",
    "df.head()"
   ]
  },
  {
   "cell_type": "code",
   "execution_count": 20,
   "id": "8a9f4041",
   "metadata": {},
   "outputs": [],
   "source": [
    "def load_data(dataset, csv_folder='/home/kym/ML/input/ai_nova/'):\n",
    "    if dataset == 'final_sensor':\n",
    "        data_file = os.path.join(csv_folder, 'final_sensor.csv') # only remain timestamp, sensor_04, (label)\n",
    "        anomalies = ['2018-04-12 21:55:00', '2018-04-18 00:30:00', '2018-05-19 03:18:00', '2018-05-25 00:30:00', \n",
    "                     '2018-06-28 22:00:00', '2018-07-08 00:11:00', '2018-07-25 14:00:00']\n",
    "        t_unit = '1 min'\n",
    "    \n",
    "    t = []\n",
    "    readings = []\n",
    "    idx_anomaly = []\n",
    "    \n",
    "    i = 0\n",
    "    \n",
    "    with open(data_file) as csvfile:\n",
    "        readCSV = csv.reader(csvfile)\n",
    "        print(\"\\n --> Anomalies occur at: \")\n",
    "        \n",
    "        for row in readCSV:\n",
    "            if i > 0:\n",
    "                t.append(i)\n",
    "                readings.append(float(row[1]))\n",
    "                for j in range(len(anomalies)):\n",
    "                    if row[0] == anomalies[j]:\n",
    "                        idx_anomaly.append(i)\n",
    "                        print(\"   timestamp #{}: {}\".format(j, row[0]))\n",
    "            i += 1\n",
    "    \n",
    "    t = np.asarray(t)\n",
    "    readings = np.asarray(readings)\n",
    "    print(\"\\nOriginal CSV file contains {} timestamps.\".format(t.shape))\n",
    "    print(\"Processed time series contain {} reading.\".format(readings.shape))\n",
    "    print(\"Anomaly indices are {}\".format(idx_anomaly))\n",
    "    \n",
    "    return t, t_unit, readings, idx_anomaly"
   ]
  },
  {
   "cell_type": "code",
   "execution_count": 21,
   "id": "d79061af",
   "metadata": {},
   "outputs": [
    {
     "name": "stdout",
     "output_type": "stream",
     "text": [
      "\n",
      " --> Anomalies occur at: \n",
      "   timestamp #0: 2018-04-12 21:55:00\n",
      "   timestamp #1: 2018-04-18 00:30:00\n",
      "   timestamp #2: 2018-05-19 03:18:00\n",
      "   timestamp #3: 2018-05-25 00:30:00\n",
      "   timestamp #4: 2018-06-28 22:00:00\n",
      "   timestamp #5: 2018-07-08 00:11:00\n",
      "   timestamp #6: 2018-07-25 14:00:00\n",
      "\n",
      "Original CSV file contains (220320,) timestamps.\n",
      "Processed time series contain (220320,) reading.\n",
      "Anomaly indices are [17156, 24511, 69319, 77791, 128041, 141132, 166441]\n"
     ]
    },
    {
     "data": {
      "text/plain": [
       "(array([     1,      2,      3, ..., 220318, 220319, 220320]),\n",
       " '1 min',\n",
       " array([0.79224211, 0.79224211, 0.79790429, ..., 0.78164367, 0.79383907,\n",
       "        0.79906572]),\n",
       " [17156, 24511, 69319, 77791, 128041, 141132, 166441])"
      ]
     },
     "execution_count": 21,
     "metadata": {},
     "output_type": "execute_result"
    }
   ],
   "source": [
    "load_data('final_sensor')"
   ]
  },
  {
   "cell_type": "code",
   "execution_count": 26,
   "id": "cd56707e",
   "metadata": {},
   "outputs": [],
   "source": [
    "def process_and_save_specified_dataset(dataset, idx_split, y_scale=5, save_file=False):\n",
    "    t, t_unit, readings, idx_anomaly = load_data(dataset)\n",
    "    \n",
    "    # split train and test sets\n",
    "    training = readings[idx_split[0]:idx_split[1]]\n",
    "    t_train = t[idx_split[0]:idx_split[1]]\n",
    "    \n",
    "    # for general algorithm (Normalization)\n",
    "    train_m = np.mean(training)\n",
    "    train_std = np.std(training)\n",
    "    print(\"\\nTraining set mean is {}\".format(train_m))\n",
    "    print(\"Training set std id {}\".format(train_std))\n",
    "    readings_normalised = (readings - train_m) / train_std\n",
    "    training = readings_normalised[idx_split[0]:idx_split[1]]\n",
    "    \n",
    "    if idx_split[0] == 0:\n",
    "        test = readings_normalised[idx_split[1]]\n",
    "        t_test = t[idx_split[1]:] - idx_split[1]\n",
    "        idx_anomaly_test = np.asarray(idx_anomaly) - idx_split[1]\n",
    "    else:\n",
    "        test = [readings_normalised[:idx_split[0]], readings_normalised[idx_split[1]:]]\n",
    "        t_test = [t[:idx_split[0]], t[idx_split[1]:] - idx_split[1]]\n",
    "        idx_anomaly_split = np.squeeze(np.argwhere(np.asarray(idx_anomaly) > idx_split[0]))\n",
    "        idx_anomaly_test = [np.asarray(idx_anomaly[:idx_anomaly_split[0]]),\n",
    "                           np.asarray(idx_anomaly[idx_anomaly_split[0]:]) - idx_split[1]]\n",
    "        \n",
    "    print(\"Anomaly indices in the test set are {}\".format(idx_anomaly_test))\n",
    "    \n",
    "    if save_file:\n",
    "        save_dir = '/home/kym/ML/input/ai_nova/'\n",
    "        np.savez(save_dir + dataset + '.npz', t=t, t_unit=t_unit, readings=readings, idx_anomaly=idx_anomaly,\n",
    "                idx_split=idx_split, training=training, test=test, train_m=train_m, train_std=train_std,\n",
    "                t_train=t_train, t_test=t_test, idx_anomaly_test=idx_anomaly_test)\n",
    "        \n",
    "        print(\"\\nProcessed time series are saved at {}\",format(save_dir + dataset + '.npz'))\n",
    "    else:\n",
    "        print(\"\\nProcessed time series are not saved.\")\n",
    "        \n",
    "    # plot the whole normalised sequence \n",
    "    fig, axs = plt.subplots(1, 1, figsize=(18, 6), edgecolor='k')\n",
    "    fig.subplots_adjust(hspace=.4, wspace=.4)\n",
    "    axs.plot(t, readings_normalised)\n",
    "    \n",
    "    if idx_split[0] == 0:\n",
    "        axs.plot(idx_split[1] * np.ones(20), np.linspace(-y_scale, y_scale, 20), 'b--')\n",
    "        \n",
    "    else:\n",
    "        for i in range(2):\n",
    "            axs.plot(idx_split[i] * np.ones(20), np.linspace(-y_scale, y_scale, 20), 'b--')\n",
    "    \n",
    "    for j in range(len(idx_anomaly)):\n",
    "        axs.plot(idx_anomaly[j] * np.ones(20), np.linspace(-y_scale, y_scale, 20), 'r--')\n",
    "    \n",
    "    axs.grid(True)\n",
    "    axs.set_xlim(0, len(t))\n",
    "    axs.set_ylim(-y_scale, y_scale)\n",
    "    axs.set_xlabel('timestamp (every {})'.format(t_unit))\n",
    "    axs.set_ylabel('normalised readings')\n",
    "    axs.set_title(\"{} dataset\\n(normalised by train mean {:.2f} and std {:.2f})\".format(dataset, train_m, train_std))\n",
    "    axs.legend(('data', 'train test set split', 'anomalies'))\n",
    "    \n",
    "    return t, readings_normalised"
   ]
  },
  {
   "cell_type": "code",
   "execution_count": 27,
   "id": "175e40aa",
   "metadata": {},
   "outputs": [
    {
     "name": "stderr",
     "output_type": "stream",
     "text": [
      "findfont: Font family ['NanumGothic'] not found. Falling back to DejaVu Sans.\n"
     ]
    },
    {
     "name": "stdout",
     "output_type": "stream",
     "text": [
      "\n",
      " --> Anomalies occur at: \n",
      "   timestamp #0: 2018-04-12 21:55:00\n",
      "   timestamp #1: 2018-04-18 00:30:00\n",
      "   timestamp #2: 2018-05-19 03:18:00\n",
      "   timestamp #3: 2018-05-25 00:30:00\n",
      "   timestamp #4: 2018-06-28 22:00:00\n",
      "   timestamp #5: 2018-07-08 00:11:00\n",
      "   timestamp #6: 2018-07-25 14:00:00\n",
      "\n",
      "Original CSV file contains (220320,) timestamps.\n",
      "Processed time series contain (220320,) reading.\n",
      "Anomaly indices are [17156, 24511, 69319, 77791, 128041, 141132, 166441]\n",
      "\n",
      "Training set mean is 0.7411915275046519\n",
      "Training set std id 0.16395578827161714\n",
      "Anomaly indices in the test set are [-112844 -105489  -60681  -52209   -1959   11132   36441]\n",
      "\n",
      "Processed time series are not saved.\n"
     ]
    },
    {
     "data": {
      "image/png": "[encoded data removed]",
      "text/plain": [
       "<Figure size 1296x432 with 1 Axes>"
      ]
     },
     "metadata": {
      "needs_background": "light"
     },
     "output_type": "display_data"
    }
   ],
   "source": [
    "dataset = 'final_sensor'\n",
    "idx_split = [0, 130000] # 5 anomalies\n",
    "\n",
    "t, readings_normalised = process_and_save_specified_dataset(dataset, idx_split)"
   ]
  },
  {
   "cell_type": "code",
   "execution_count": null,
   "id": "1dcae914",
   "metadata": {},
   "outputs": [],
   "source": []
  },
  {
   "cell_type": "code",
   "execution_count": null,
   "id": "85167d91",
   "metadata": {},
   "outputs": [],
   "source": []
  },
  {
   "cell_type": "code",
   "execution_count": null,
   "id": "ce81b224",
   "metadata": {},
   "outputs": [],
   "source": []
  },
  {
   "cell_type": "code",
   "execution_count": null,
   "id": "0082d58a",
   "metadata": {},
   "outputs": [],
   "source": []
  },
  {
   "cell_type": "code",
   "execution_count": null,
   "id": "de957ca4",
   "metadata": {},
   "outputs": [],
   "source": []
  },
  {
   "cell_type": "code",
   "execution_count": null,
   "id": "64f59548",
   "metadata": {},
   "outputs": [],
   "source": []
  },
  {
   "cell_type": "code",
   "execution_count": null,
   "id": "adf92bc8",
   "metadata": {},
   "outputs": [],
   "source": [
    "labels = np.where(df['operation'] == 0, 0, 1)\n",
    "labels"
   ]
  },
  {
   "cell_type": "code",
   "execution_count": null,
   "id": "74425039",
   "metadata": {},
   "outputs": [],
   "source": [
    "labels.size"
   ]
  },
  {
   "cell_type": "markdown",
   "id": "713bceb2",
   "metadata": {},
   "source": [
    "## LSTM (check another kernel) "
   ]
  },
  {
   "cell_type": "code",
   "execution_count": null,
   "id": "c59738cb",
   "metadata": {},
   "outputs": [],
   "source": [
    "normal_x = df[labels == 1] # normal or recovering\n",
    "anomaly_x = df[labels == 0] # broken \n",
    "\n",
    "normal_y = labels[labels == 1]\n",
    "anomaly_y = labels[labels == 0]"
   ]
  },
  {
   "cell_type": "code",
   "execution_count": null,
   "id": "2d841fd8",
   "metadata": {},
   "outputs": [],
   "source": [
    "print(normal_x.shape)\n",
    "print(normal_y.shape)\n",
    "print(anomaly_x.shape)\n",
    "print(anomaly_y.shape)"
   ]
  },
  {
   "cell_type": "code",
   "execution_count": null,
   "id": "4d288ab9",
   "metadata": {},
   "outputs": [],
   "source": [
    "len_normal = len(normal_x)\n",
    "len_normal_train = int(0.8 * len_normal)\n",
    "x_train = normal_x[:len_normal_train]\n",
    "\n",
    "x_test_normal = normal_x[len_normal_train:]\n",
    "len_anomaly_test = len(x_test_normal)\n",
    "x_test_anomaly = anomaly_x[:len_anomaly_test]\n",
    "\n",
    "x_test = np.concatenate([x_test_normal, x_test_anomaly])\n",
    "y_test = np.ones(len(x_test))\n",
    "y_test[:len(x_test_normal)] = 0"
   ]
  },
  {
   "cell_type": "code",
   "execution_count": null,
   "id": "2b10d71f",
   "metadata": {},
   "outputs": [],
   "source": [
    "print(x_train.shape)\n",
    "print(x_test.shape)"
   ]
  },
  {
   "cell_type": "code",
   "execution_count": null,
   "id": "302441ce",
   "metadata": {},
   "outputs": [],
   "source": [
    "x_train[x_train['operation'] == 0].count()"
   ]
  },
  {
   "cell_type": "markdown",
   "id": "995d29cb",
   "metadata": {},
   "source": [
    "### define error "
   ]
  },
  {
   "cell_type": "code",
   "execution_count": null,
   "id": "8d87a561",
   "metadata": {},
   "outputs": [],
   "source": [
    "def get_error(s1, s2, _rmse=True):\n",
    "    if _rmse:\n",
    "        return np.sqrt(np.mean((s1 - s2) ** 2, axis=1))\n",
    "    return np.mean((s1 - s2) ** 2, axis=1)"
   ]
  },
  {
   "cell_type": "markdown",
   "id": "79725715",
   "metadata": {},
   "source": [
    "### the reparameterization trick"
   ]
  },
  {
   "cell_type": "code",
   "execution_count": null,
   "id": "0b28cc5d",
   "metadata": {},
   "outputs": [],
   "source": [
    "def sample(args):\n",
    "    z_mean, z_log_var =args\n",
    "    batch = K.shape(z_mean)[0]\n",
    "    dim = K.int_shape(z_mean)[1]\n",
    "    epsilon = K.random_normal(shape=(batch, dim))\n",
    "    return z_mean + K.exp(0.5 * z_log_var) * epsilon"
   ]
  },
  {
   "cell_type": "code",
   "execution_count": null,
   "id": "d7e569ed",
   "metadata": {},
   "outputs": [],
   "source": [
    "x_train.shape[1]"
   ]
  },
  {
   "cell_type": "code",
   "execution_count": null,
   "id": "342afd6b",
   "metadata": {},
   "outputs": [],
   "source": [
    "original_dim = x_train.shape[1]\n",
    "input_shape = (original_dim,)\n",
    "intermediate_dim = 2           # original_dim / 2\n",
    "latent_dim = 1                 # original_dim / 3"
   ]
  },
  {
   "cell_type": "code",
   "execution_count": null,
   "id": "1c5b4895",
   "metadata": {},
   "outputs": [],
   "source": [
    "# encoder model\n",
    "inputs = Input(shape=input_shape, name='encoder_input')\n",
    "x = Dense(intermediate_dim, activation='relu')(inputs)\n",
    "z_mean = Dense(latent_dim, name='z_mean')(x)\n",
    "z_log_var = Dense(latent_dim, name='z_log_var')(x)\n",
    "# use the reparameterization trick and get the output from the sample() function\n",
    "z = Lambda(sample, output_shape=(latent_dim,), name='z')([z_mean, z_log_var])\n",
    "encoder = Model(inputs, z, name='encoder')\n",
    "encoder.summary()"
   ]
  },
  {
   "cell_type": "code",
   "execution_count": null,
   "id": "41ef6cfc",
   "metadata": {},
   "outputs": [],
   "source": [
    "# decoder model\n",
    "latent_inputs = Input(shape=(latent_dim,), name='z_sampling')\n",
    "x = Dense(intermediate_dim, activation='relu')(latent_inputs)\n",
    "outputs = Dense(original_dim, activation='sigmoid')(x)\n",
    "# Instantiate the decoder model:\n",
    "decoder = Model(latent_inputs, outputs, name='decoder')\n",
    "decoder.summary()"
   ]
  },
  {
   "cell_type": "code",
   "execution_count": null,
   "id": "992e5b07",
   "metadata": {},
   "outputs": [],
   "source": [
    "# full VAE model\n",
    "outputs = decoder(encoder(inputs))\n",
    "vae_model = Model(inputs, outputs, name='vae')"
   ]
  },
  {
   "cell_type": "code",
   "execution_count": null,
   "id": "fd49851c",
   "metadata": {},
   "outputs": [],
   "source": [
    "# the KL loss function:\n",
    "def vae_loss(x, x_decoded_mean):\n",
    "    # compute the average MSE error, then scale it up, ie. simply sum on all axes\n",
    "    reconstruction_loss = K.sum(K.square(x - x_decoded_mean))\n",
    "    # compute the KL loss\n",
    "    kl_loss = - 0.5 * K.sum(1 + z_log_var - K.square(z_mean) - K.square(K.exp(z_log_var)), axis=-1)\n",
    "    # return the average loss over all \n",
    "    total_loss = K.mean(reconstruction_loss + kl_loss)    \n",
    "    #total_loss = reconstruction_loss + kl_loss\n",
    "    return total_loss"
   ]
  },
  {
   "cell_type": "code",
   "execution_count": null,
   "id": "0bf1d6e2",
   "metadata": {},
   "outputs": [],
   "source": [
    "opt = optimizers.Adam(learning_rate=0.0001, clipvalue=0.5)\n",
    "#opt = optimizers.RMSprop(learning_rate=0.0001)\n",
    "\n",
    "vae_model.compile(optimizer=opt, loss=vae_loss)\n",
    "vae_model.summary()\n",
    "# Finally, we train the model:\n",
    "results = vae_model.fit(x_train, x_train,\n",
    "                        shuffle=True,\n",
    "                        validation_data=(x_test, x_test),\n",
    "                        epochs=128,\n",
    "                        batch_size=256)"
   ]
  },
  {
   "cell_type": "code",
   "execution_count": null,
   "id": "e6e1e445",
   "metadata": {},
   "outputs": [],
   "source": [
    "plt.plot(results.history['loss'])\n",
    "plt.plot(results.history['val_loss'])\n",
    "plt.title('model loss')\n",
    "plt.ylabel('loss')\n",
    "plt.xlabel('epoch')\n",
    "plt.legend(['train', 'test'], loc='upper right');\n",
    "plt.show()"
   ]
  },
  {
   "cell_type": "code",
   "execution_count": null,
   "id": "4c53d49e",
   "metadata": {},
   "outputs": [],
   "source": [
    "x_train_pred = vae_model.predict(x_train)"
   ]
  },
  {
   "cell_type": "code",
   "execution_count": null,
   "id": "d026526c",
   "metadata": {},
   "outputs": [],
   "source": [
    "mae_vector = get_error(x_train_pred, x_train, _rmse=False)\n",
    "print(f'Avg error {np.mean(mae_vector)}\\nmedian error {np.median(mae_vector)}\\ndataset: {np.quantile(mae_vector, 0.99)}')\n",
    "print(f'setting threshold on { np.quantile(mae_vector, 0.99)} ')\n",
    "\n",
    "error_thresh = np.quantile(mae_vector, 0.99)"
   ]
  },
  {
   "cell_type": "code",
   "execution_count": null,
   "id": "c01edc93",
   "metadata": {},
   "outputs": [],
   "source": [
    "x_pred = vae_model.predict(x_test)\n",
    "mae_vector = get_error(x_pred, x_test, _rmse=False)\n",
    "anomalies = (mae_vector > error_thresh)\n",
    "\n",
    "np.count_nonzero(anomalies) / len(anomalies)"
   ]
  },
  {
   "cell_type": "code",
   "execution_count": null,
   "id": "7c18b92f",
   "metadata": {},
   "outputs": [],
   "source": [
    "from sklearn.metrics import classification_report\n",
    "\n",
    "print(classification_report(y_test, anomalies))"
   ]
  },
  {
   "cell_type": "code",
   "execution_count": null,
   "id": "540dea3f",
   "metadata": {},
   "outputs": [],
   "source": []
  },
  {
   "cell_type": "code",
   "execution_count": null,
   "id": "77958797",
   "metadata": {},
   "outputs": [],
   "source": []
  },
  {
   "cell_type": "code",
   "execution_count": null,
   "id": "524f7477",
   "metadata": {},
   "outputs": [],
   "source": []
  },
  {
   "cell_type": "code",
   "execution_count": null,
   "id": "bf022766",
   "metadata": {},
   "outputs": [],
   "source": []
  },
  {
   "cell_type": "code",
   "execution_count": null,
   "id": "f827beff",
   "metadata": {},
   "outputs": [],
   "source": []
  },
  {
   "cell_type": "code",
   "execution_count": null,
   "id": "432376f5",
   "metadata": {},
   "outputs": [],
   "source": []
  },
  {
   "cell_type": "code",
   "execution_count": null,
   "id": "67f143ca",
   "metadata": {},
   "outputs": [],
   "source": []
  },
  {
   "cell_type": "code",
   "execution_count": null,
   "id": "207f0aa9",
   "metadata": {},
   "outputs": [],
   "source": []
  },
  {
   "cell_type": "code",
   "execution_count": null,
   "id": "216a0301",
   "metadata": {},
   "outputs": [],
   "source": []
  },
  {
   "cell_type": "code",
   "execution_count": null,
   "id": "0b33547b",
   "metadata": {},
   "outputs": [],
   "source": []
  },
  {
   "cell_type": "code",
   "execution_count": null,
   "id": "ae831554",
   "metadata": {},
   "outputs": [],
   "source": []
  },
  {
   "cell_type": "code",
   "execution_count": null,
   "id": "89f5c7a3",
   "metadata": {},
   "outputs": [],
   "source": []
  },
  {
   "cell_type": "code",
   "execution_count": null,
   "id": "51625a36",
   "metadata": {},
   "outputs": [],
   "source": []
  },
  {
   "cell_type": "code",
   "execution_count": null,
   "id": "6c4c3f2e",
   "metadata": {},
   "outputs": [],
   "source": []
  }
 ],
 "metadata": {
  "kernelspec": {
   "display_name": "Python 3 (ipykernel)",
   "language": "python",
   "name": "python3"
  },
  "language_info": {
   "codemirror_mode": {
    "name": "ipython",
    "version": 3
   },
   "file_extension": ".py",
   "mimetype": "text/x-python",
   "name": "python",
   "nbconvert_exporter": "python",
   "pygments_lexer": "ipython3",
   "version": "3.9.4"
  }
 },
 "nbformat": 4,
 "nbformat_minor": 5
}
