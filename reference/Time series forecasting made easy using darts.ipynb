{
 "cells": [
  {
   "cell_type": "code",
   "execution_count": 1,
   "id": "fc9ba2be",
   "metadata": {},
   "outputs": [
    {
     "name": "stderr",
     "output_type": "stream",
     "text": [
      "/tmp/ipykernel_54619/2125492085.py:2: DeprecationWarning: Importing display from IPython.core.display is deprecated since IPython 7.14, please import from IPython display\n",
      "  from IPython.core.display import display, HTML\n"
     ]
    },
    {
     "data": {
      "text/html": [
       "<style>.container { width:100% !important; }</style>"
      ],
      "text/plain": [
       "<IPython.core.display.HTML object>"
      ]
     },
     "metadata": {},
     "output_type": "display_data"
    }
   ],
   "source": [
    "# 가로로 넓게 쓰기\n",
    "from IPython.core.display import display, HTML  \n",
    "display(HTML(\"<style>.container { width:100% !important; }</style>\"))"
   ]
  },
  {
   "cell_type": "code",
   "execution_count": 2,
   "id": "119b61db",
   "metadata": {},
   "outputs": [
    {
     "name": "stdout",
     "output_type": "stream",
     "text": [
      "Setup Complete\n"
     ]
    }
   ],
   "source": [
    "import darts\n",
    "from darts.datasets import AirPassengersDataset, MonthlyMilkDataset\n",
    "from darts.dataprocessing.transformers import Scaler\n",
    "from darts.models import NBEATSModel\n",
    "\n",
    "from darts.metrics import mape\n",
    "\n",
    "import matplotlib.pyplot as plt\n",
    "%matplotlib inline\n",
    "\n",
    "print(\"Setup Complete\")"
   ]
  },
  {
   "cell_type": "code",
   "execution_count": 3,
   "id": "1521243a",
   "metadata": {},
   "outputs": [
    {
     "data": {
      "text/html": [
       "<div><svg style=\"position: absolute; width: 0; height: 0; overflow: hidden\">\n",
       "<defs>\n",
       "<symbol id=\"icon-database\" viewBox=\"0 0 32 32\">\n",
       "<path d=\"M16 0c-8.837 0-16 2.239-16 5v4c0 2.761 7.163 5 16 5s16-2.239 16-5v-4c0-2.761-7.163-5-16-5z\"></path>\n",
       "<path d=\"M16 17c-8.837 0-16-2.239-16-5v6c0 2.761 7.163 5 16 5s16-2.239 16-5v-6c0 2.761-7.163 5-16 5z\"></path>\n",
       "<path d=\"M16 26c-8.837 0-16-2.239-16-5v6c0 2.761 7.163 5 16 5s16-2.239 16-5v-6c0 2.761-7.163 5-16 5z\"></path>\n",
       "</symbol>\n",
       "<symbol id=\"icon-file-text2\" viewBox=\"0 0 32 32\">\n",
       "<path d=\"M28.681 7.159c-0.694-0.947-1.662-2.053-2.724-3.116s-2.169-2.030-3.116-2.724c-1.612-1.182-2.393-1.319-2.841-1.319h-15.5c-1.378 0-2.5 1.121-2.5 2.5v27c0 1.378 1.122 2.5 2.5 2.5h23c1.378 0 2.5-1.122 2.5-2.5v-19.5c0-0.448-0.137-1.23-1.319-2.841zM24.543 5.457c0.959 0.959 1.712 1.825 2.268 2.543h-4.811v-4.811c0.718 0.556 1.584 1.309 2.543 2.268zM28 29.5c0 0.271-0.229 0.5-0.5 0.5h-23c-0.271 0-0.5-0.229-0.5-0.5v-27c0-0.271 0.229-0.5 0.5-0.5 0 0 15.499-0 15.5 0v7c0 0.552 0.448 1 1 1h7v19.5z\"></path>\n",
       "<path d=\"M23 26h-14c-0.552 0-1-0.448-1-1s0.448-1 1-1h14c0.552 0 1 0.448 1 1s-0.448 1-1 1z\"></path>\n",
       "<path d=\"M23 22h-14c-0.552 0-1-0.448-1-1s0.448-1 1-1h14c0.552 0 1 0.448 1 1s-0.448 1-1 1z\"></path>\n",
       "<path d=\"M23 18h-14c-0.552 0-1-0.448-1-1s0.448-1 1-1h14c0.552 0 1 0.448 1 1s-0.448 1-1 1z\"></path>\n",
       "</symbol>\n",
       "</defs>\n",
       "</svg>\n",
       "<style>/* CSS stylesheet for displaying xarray objects in jupyterlab.\n",
       " *\n",
       " */\n",
       "\n",
       ":root {\n",
       "  --xr-font-color0: var(--jp-content-font-color0, rgba(0, 0, 0, 1));\n",
       "  --xr-font-color2: var(--jp-content-font-color2, rgba(0, 0, 0, 0.54));\n",
       "  --xr-font-color3: var(--jp-content-font-color3, rgba(0, 0, 0, 0.38));\n",
       "  --xr-border-color: var(--jp-border-color2, #e0e0e0);\n",
       "  --xr-disabled-color: var(--jp-layout-color3, #bdbdbd);\n",
       "  --xr-background-color: var(--jp-layout-color0, white);\n",
       "  --xr-background-color-row-even: var(--jp-layout-color1, white);\n",
       "  --xr-background-color-row-odd: var(--jp-layout-color2, #eeeeee);\n",
       "}\n",
       "\n",
       "html[theme=dark],\n",
       "body.vscode-dark {\n",
       "  --xr-font-color0: rgba(255, 255, 255, 1);\n",
       "  --xr-font-color2: rgba(255, 255, 255, 0.54);\n",
       "  --xr-font-color3: rgba(255, 255, 255, 0.38);\n",
       "  --xr-border-color: #1F1F1F;\n",
       "  --xr-disabled-color: #515151;\n",
       "  --xr-background-color: #111111;\n",
       "  --xr-background-color-row-even: #111111;\n",
       "  --xr-background-color-row-odd: #313131;\n",
       "}\n",
       "\n",
       ".xr-wrap {\n",
       "  display: block;\n",
       "  min-width: 300px;\n",
       "  max-width: 700px;\n",
       "}\n",
       "\n",
       ".xr-text-repr-fallback {\n",
       "  /* fallback to plain text repr when CSS is not injected (untrusted notebook) */\n",
       "  display: none;\n",
       "}\n",
       "\n",
       ".xr-header {\n",
       "  padding-top: 6px;\n",
       "  padding-bottom: 6px;\n",
       "  margin-bottom: 4px;\n",
       "  border-bottom: solid 1px var(--xr-border-color);\n",
       "}\n",
       "\n",
       ".xr-header > div,\n",
       ".xr-header > ul {\n",
       "  display: inline;\n",
       "  margin-top: 0;\n",
       "  margin-bottom: 0;\n",
       "}\n",
       "\n",
       ".xr-obj-type,\n",
       ".xr-array-name {\n",
       "  margin-left: 2px;\n",
       "  margin-right: 10px;\n",
       "}\n",
       "\n",
       ".xr-obj-type {\n",
       "  color: var(--xr-font-color2);\n",
       "}\n",
       "\n",
       ".xr-sections {\n",
       "  padding-left: 0 !important;\n",
       "  display: grid;\n",
       "  grid-template-columns: 150px auto auto 1fr 20px 20px;\n",
       "}\n",
       "\n",
       ".xr-section-item {\n",
       "  display: contents;\n",
       "}\n",
       "\n",
       ".xr-section-item input {\n",
       "  display: none;\n",
       "}\n",
       "\n",
       ".xr-section-item input + label {\n",
       "  color: var(--xr-disabled-color);\n",
       "}\n",
       "\n",
       ".xr-section-item input:enabled + label {\n",
       "  cursor: pointer;\n",
       "  color: var(--xr-font-color2);\n",
       "}\n",
       "\n",
       ".xr-section-item input:enabled + label:hover {\n",
       "  color: var(--xr-font-color0);\n",
       "}\n",
       "\n",
       ".xr-section-summary {\n",
       "  grid-column: 1;\n",
       "  color: var(--xr-font-color2);\n",
       "  font-weight: 500;\n",
       "}\n",
       "\n",
       ".xr-section-summary > span {\n",
       "  display: inline-block;\n",
       "  padding-left: 0.5em;\n",
       "}\n",
       "\n",
       ".xr-section-summary-in:disabled + label {\n",
       "  color: var(--xr-font-color2);\n",
       "}\n",
       "\n",
       ".xr-section-summary-in + label:before {\n",
       "  display: inline-block;\n",
       "  content: '►';\n",
       "  font-size: 11px;\n",
       "  width: 15px;\n",
       "  text-align: center;\n",
       "}\n",
       "\n",
       ".xr-section-summary-in:disabled + label:before {\n",
       "  color: var(--xr-disabled-color);\n",
       "}\n",
       "\n",
       ".xr-section-summary-in:checked + label:before {\n",
       "  content: '▼';\n",
       "}\n",
       "\n",
       ".xr-section-summary-in:checked + label > span {\n",
       "  display: none;\n",
       "}\n",
       "\n",
       ".xr-section-summary,\n",
       ".xr-section-inline-details {\n",
       "  padding-top: 4px;\n",
       "  padding-bottom: 4px;\n",
       "}\n",
       "\n",
       ".xr-section-inline-details {\n",
       "  grid-column: 2 / -1;\n",
       "}\n",
       "\n",
       ".xr-section-details {\n",
       "  display: none;\n",
       "  grid-column: 1 / -1;\n",
       "  margin-bottom: 5px;\n",
       "}\n",
       "\n",
       ".xr-section-summary-in:checked ~ .xr-section-details {\n",
       "  display: contents;\n",
       "}\n",
       "\n",
       ".xr-array-wrap {\n",
       "  grid-column: 1 / -1;\n",
       "  display: grid;\n",
       "  grid-template-columns: 20px auto;\n",
       "}\n",
       "\n",
       ".xr-array-wrap > label {\n",
       "  grid-column: 1;\n",
       "  vertical-align: top;\n",
       "}\n",
       "\n",
       ".xr-preview {\n",
       "  color: var(--xr-font-color3);\n",
       "}\n",
       "\n",
       ".xr-array-preview,\n",
       ".xr-array-data {\n",
       "  padding: 0 5px !important;\n",
       "  grid-column: 2;\n",
       "}\n",
       "\n",
       ".xr-array-data,\n",
       ".xr-array-in:checked ~ .xr-array-preview {\n",
       "  display: none;\n",
       "}\n",
       "\n",
       ".xr-array-in:checked ~ .xr-array-data,\n",
       ".xr-array-preview {\n",
       "  display: inline-block;\n",
       "}\n",
       "\n",
       ".xr-dim-list {\n",
       "  display: inline-block !important;\n",
       "  list-style: none;\n",
       "  padding: 0 !important;\n",
       "  margin: 0;\n",
       "}\n",
       "\n",
       ".xr-dim-list li {\n",
       "  display: inline-block;\n",
       "  padding: 0;\n",
       "  margin: 0;\n",
       "}\n",
       "\n",
       ".xr-dim-list:before {\n",
       "  content: '(';\n",
       "}\n",
       "\n",
       ".xr-dim-list:after {\n",
       "  content: ')';\n",
       "}\n",
       "\n",
       ".xr-dim-list li:not(:last-child):after {\n",
       "  content: ',';\n",
       "  padding-right: 5px;\n",
       "}\n",
       "\n",
       ".xr-has-index {\n",
       "  font-weight: bold;\n",
       "}\n",
       "\n",
       ".xr-var-list,\n",
       ".xr-var-item {\n",
       "  display: contents;\n",
       "}\n",
       "\n",
       ".xr-var-item > div,\n",
       ".xr-var-item label,\n",
       ".xr-var-item > .xr-var-name span {\n",
       "  background-color: var(--xr-background-color-row-even);\n",
       "  margin-bottom: 0;\n",
       "}\n",
       "\n",
       ".xr-var-item > .xr-var-name:hover span {\n",
       "  padding-right: 5px;\n",
       "}\n",
       "\n",
       ".xr-var-list > li:nth-child(odd) > div,\n",
       ".xr-var-list > li:nth-child(odd) > label,\n",
       ".xr-var-list > li:nth-child(odd) > .xr-var-name span {\n",
       "  background-color: var(--xr-background-color-row-odd);\n",
       "}\n",
       "\n",
       ".xr-var-name {\n",
       "  grid-column: 1;\n",
       "}\n",
       "\n",
       ".xr-var-dims {\n",
       "  grid-column: 2;\n",
       "}\n",
       "\n",
       ".xr-var-dtype {\n",
       "  grid-column: 3;\n",
       "  text-align: right;\n",
       "  color: var(--xr-font-color2);\n",
       "}\n",
       "\n",
       ".xr-var-preview {\n",
       "  grid-column: 4;\n",
       "}\n",
       "\n",
       ".xr-var-name,\n",
       ".xr-var-dims,\n",
       ".xr-var-dtype,\n",
       ".xr-preview,\n",
       ".xr-attrs dt {\n",
       "  white-space: nowrap;\n",
       "  overflow: hidden;\n",
       "  text-overflow: ellipsis;\n",
       "  padding-right: 10px;\n",
       "}\n",
       "\n",
       ".xr-var-name:hover,\n",
       ".xr-var-dims:hover,\n",
       ".xr-var-dtype:hover,\n",
       ".xr-attrs dt:hover {\n",
       "  overflow: visible;\n",
       "  width: auto;\n",
       "  z-index: 1;\n",
       "}\n",
       "\n",
       ".xr-var-attrs,\n",
       ".xr-var-data {\n",
       "  display: none;\n",
       "  background-color: var(--xr-background-color) !important;\n",
       "  padding-bottom: 5px !important;\n",
       "}\n",
       "\n",
       ".xr-var-attrs-in:checked ~ .xr-var-attrs,\n",
       ".xr-var-data-in:checked ~ .xr-var-data {\n",
       "  display: block;\n",
       "}\n",
       "\n",
       ".xr-var-data > table {\n",
       "  float: right;\n",
       "}\n",
       "\n",
       ".xr-var-name span,\n",
       ".xr-var-data,\n",
       ".xr-attrs {\n",
       "  padding-left: 25px !important;\n",
       "}\n",
       "\n",
       ".xr-attrs,\n",
       ".xr-var-attrs,\n",
       ".xr-var-data {\n",
       "  grid-column: 1 / -1;\n",
       "}\n",
       "\n",
       "dl.xr-attrs {\n",
       "  padding: 0;\n",
       "  margin: 0;\n",
       "  display: grid;\n",
       "  grid-template-columns: 125px auto;\n",
       "}\n",
       "\n",
       ".xr-attrs dt,\n",
       ".xr-attrs dd {\n",
       "  padding: 0;\n",
       "  margin: 0;\n",
       "  float: left;\n",
       "  padding-right: 10px;\n",
       "  width: auto;\n",
       "}\n",
       "\n",
       ".xr-attrs dt {\n",
       "  font-weight: normal;\n",
       "  grid-column: 1;\n",
       "}\n",
       "\n",
       ".xr-attrs dt:hover span {\n",
       "  display: inline-block;\n",
       "  background: var(--xr-background-color);\n",
       "  padding-right: 10px;\n",
       "}\n",
       "\n",
       ".xr-attrs dd {\n",
       "  grid-column: 2;\n",
       "  white-space: pre-wrap;\n",
       "  word-break: break-all;\n",
       "}\n",
       "\n",
       ".xr-icon-database,\n",
       ".xr-icon-file-text2 {\n",
       "  display: inline-block;\n",
       "  vertical-align: middle;\n",
       "  width: 1em;\n",
       "  height: 1.5em !important;\n",
       "  stroke-width: 0;\n",
       "  stroke: currentColor;\n",
       "  fill: currentColor;\n",
       "}\n",
       "</style><pre class='xr-text-repr-fallback'>&lt;TimeSeries (DataArray) (Month: 168, component: 1, sample: 1)&gt;\n",
       "array([[[589.]],\n",
       "\n",
       "       [[561.]],\n",
       "\n",
       "       [[640.]],\n",
       "\n",
       "       [[656.]],\n",
       "\n",
       "       [[727.]],\n",
       "\n",
       "       [[697.]],\n",
       "\n",
       "       [[640.]],\n",
       "\n",
       "       [[599.]],\n",
       "\n",
       "       [[568.]],\n",
       "\n",
       "       [[577.]],\n",
       "\n",
       "...\n",
       "\n",
       "       [[892.]],\n",
       "\n",
       "       [[903.]],\n",
       "\n",
       "       [[966.]],\n",
       "\n",
       "       [[937.]],\n",
       "\n",
       "       [[896.]],\n",
       "\n",
       "       [[858.]],\n",
       "\n",
       "       [[817.]],\n",
       "\n",
       "       [[827.]],\n",
       "\n",
       "       [[797.]],\n",
       "\n",
       "       [[843.]]])\n",
       "Coordinates:\n",
       "  * Month      (Month) datetime64[ns] 1962-01-01 1962-02-01 ... 1975-12-01\n",
       "  * component  (component) object &#x27;Pounds per cow&#x27;\n",
       "Dimensions without coordinates: sample</pre><div class='xr-wrap' hidden><div class='xr-header'><div class='xr-obj-type'>TimeSeries (DataArray)</div><div class='xr-array-name'></div><ul class='xr-dim-list'><li><span class='xr-has-index'>Month</span>: 168</li><li><span class='xr-has-index'>component</span>: 1</li><li><span>sample</span>: 1</li></ul></div><ul class='xr-sections'><li class='xr-section-item'><div class='xr-array-wrap'><input id='section-899080ce-9729-42d5-8ff9-c94b18a39717' class='xr-array-in' type='checkbox' checked><label for='section-899080ce-9729-42d5-8ff9-c94b18a39717' title='Show/hide data repr'><svg class='icon xr-icon-database'><use xlink:href='#icon-database'></use></svg></label><div class='xr-array-preview xr-preview'><span>589.0 561.0 640.0 656.0 727.0 697.0 ... 858.0 817.0 827.0 797.0 843.0</span></div><div class='xr-array-data'><pre>array([[[589.]],\n",
       "\n",
       "       [[561.]],\n",
       "\n",
       "       [[640.]],\n",
       "\n",
       "       [[656.]],\n",
       "\n",
       "       [[727.]],\n",
       "\n",
       "       [[697.]],\n",
       "\n",
       "       [[640.]],\n",
       "\n",
       "       [[599.]],\n",
       "\n",
       "       [[568.]],\n",
       "\n",
       "       [[577.]],\n",
       "\n",
       "...\n",
       "\n",
       "       [[892.]],\n",
       "\n",
       "       [[903.]],\n",
       "\n",
       "       [[966.]],\n",
       "\n",
       "       [[937.]],\n",
       "\n",
       "       [[896.]],\n",
       "\n",
       "       [[858.]],\n",
       "\n",
       "       [[817.]],\n",
       "\n",
       "       [[827.]],\n",
       "\n",
       "       [[797.]],\n",
       "\n",
       "       [[843.]]])</pre></div></div></li><li class='xr-section-item'><input id='section-8794c86e-187f-4818-8ef5-d26a8baf2c61' class='xr-section-summary-in' type='checkbox'  checked><label for='section-8794c86e-187f-4818-8ef5-d26a8baf2c61' class='xr-section-summary' >Coordinates: <span>(2)</span></label><div class='xr-section-inline-details'></div><div class='xr-section-details'><ul class='xr-var-list'><li class='xr-var-item'><div class='xr-var-name'><span class='xr-has-index'>Month</span></div><div class='xr-var-dims'>(Month)</div><div class='xr-var-dtype'>datetime64[ns]</div><div class='xr-var-preview xr-preview'>1962-01-01 ... 1975-12-01</div><input id='attrs-e9023d8c-818d-4c0e-b723-df0c42ac2e80' class='xr-var-attrs-in' type='checkbox' disabled><label for='attrs-e9023d8c-818d-4c0e-b723-df0c42ac2e80' title='Show/Hide attributes'><svg class='icon xr-icon-file-text2'><use xlink:href='#icon-file-text2'></use></svg></label><input id='data-9751b402-83a6-4d91-8190-3dcb77a1b680' class='xr-var-data-in' type='checkbox'><label for='data-9751b402-83a6-4d91-8190-3dcb77a1b680' title='Show/Hide data repr'><svg class='icon xr-icon-database'><use xlink:href='#icon-database'></use></svg></label><div class='xr-var-attrs'><dl class='xr-attrs'></dl></div><div class='xr-var-data'><pre>array([&#x27;1962-01-01T00:00:00.000000000&#x27;, &#x27;1962-02-01T00:00:00.000000000&#x27;,\n",
       "       &#x27;1962-03-01T00:00:00.000000000&#x27;, &#x27;1962-04-01T00:00:00.000000000&#x27;,\n",
       "       &#x27;1962-05-01T00:00:00.000000000&#x27;, &#x27;1962-06-01T00:00:00.000000000&#x27;,\n",
       "       &#x27;1962-07-01T00:00:00.000000000&#x27;, &#x27;1962-08-01T00:00:00.000000000&#x27;,\n",
       "       &#x27;1962-09-01T00:00:00.000000000&#x27;, &#x27;1962-10-01T00:00:00.000000000&#x27;,\n",
       "       &#x27;1962-11-01T00:00:00.000000000&#x27;, &#x27;1962-12-01T00:00:00.000000000&#x27;,\n",
       "       &#x27;1963-01-01T00:00:00.000000000&#x27;, &#x27;1963-02-01T00:00:00.000000000&#x27;,\n",
       "       &#x27;1963-03-01T00:00:00.000000000&#x27;, &#x27;1963-04-01T00:00:00.000000000&#x27;,\n",
       "       &#x27;1963-05-01T00:00:00.000000000&#x27;, &#x27;1963-06-01T00:00:00.000000000&#x27;,\n",
       "       &#x27;1963-07-01T00:00:00.000000000&#x27;, &#x27;1963-08-01T00:00:00.000000000&#x27;,\n",
       "       &#x27;1963-09-01T00:00:00.000000000&#x27;, &#x27;1963-10-01T00:00:00.000000000&#x27;,\n",
       "       &#x27;1963-11-01T00:00:00.000000000&#x27;, &#x27;1963-12-01T00:00:00.000000000&#x27;,\n",
       "       &#x27;1964-01-01T00:00:00.000000000&#x27;, &#x27;1964-02-01T00:00:00.000000000&#x27;,\n",
       "       &#x27;1964-03-01T00:00:00.000000000&#x27;, &#x27;1964-04-01T00:00:00.000000000&#x27;,\n",
       "       &#x27;1964-05-01T00:00:00.000000000&#x27;, &#x27;1964-06-01T00:00:00.000000000&#x27;,\n",
       "       &#x27;1964-07-01T00:00:00.000000000&#x27;, &#x27;1964-08-01T00:00:00.000000000&#x27;,\n",
       "       &#x27;1964-09-01T00:00:00.000000000&#x27;, &#x27;1964-10-01T00:00:00.000000000&#x27;,\n",
       "       &#x27;1964-11-01T00:00:00.000000000&#x27;, &#x27;1964-12-01T00:00:00.000000000&#x27;,\n",
       "       &#x27;1965-01-01T00:00:00.000000000&#x27;, &#x27;1965-02-01T00:00:00.000000000&#x27;,\n",
       "       &#x27;1965-03-01T00:00:00.000000000&#x27;, &#x27;1965-04-01T00:00:00.000000000&#x27;,\n",
       "       &#x27;1965-05-01T00:00:00.000000000&#x27;, &#x27;1965-06-01T00:00:00.000000000&#x27;,\n",
       "       &#x27;1965-07-01T00:00:00.000000000&#x27;, &#x27;1965-08-01T00:00:00.000000000&#x27;,\n",
       "       &#x27;1965-09-01T00:00:00.000000000&#x27;, &#x27;1965-10-01T00:00:00.000000000&#x27;,\n",
       "       &#x27;1965-11-01T00:00:00.000000000&#x27;, &#x27;1965-12-01T00:00:00.000000000&#x27;,\n",
       "       &#x27;1966-01-01T00:00:00.000000000&#x27;, &#x27;1966-02-01T00:00:00.000000000&#x27;,\n",
       "       &#x27;1966-03-01T00:00:00.000000000&#x27;, &#x27;1966-04-01T00:00:00.000000000&#x27;,\n",
       "       &#x27;1966-05-01T00:00:00.000000000&#x27;, &#x27;1966-06-01T00:00:00.000000000&#x27;,\n",
       "       &#x27;1966-07-01T00:00:00.000000000&#x27;, &#x27;1966-08-01T00:00:00.000000000&#x27;,\n",
       "       &#x27;1966-09-01T00:00:00.000000000&#x27;, &#x27;1966-10-01T00:00:00.000000000&#x27;,\n",
       "       &#x27;1966-11-01T00:00:00.000000000&#x27;, &#x27;1966-12-01T00:00:00.000000000&#x27;,\n",
       "       &#x27;1967-01-01T00:00:00.000000000&#x27;, &#x27;1967-02-01T00:00:00.000000000&#x27;,\n",
       "       &#x27;1967-03-01T00:00:00.000000000&#x27;, &#x27;1967-04-01T00:00:00.000000000&#x27;,\n",
       "       &#x27;1967-05-01T00:00:00.000000000&#x27;, &#x27;1967-06-01T00:00:00.000000000&#x27;,\n",
       "       &#x27;1967-07-01T00:00:00.000000000&#x27;, &#x27;1967-08-01T00:00:00.000000000&#x27;,\n",
       "       &#x27;1967-09-01T00:00:00.000000000&#x27;, &#x27;1967-10-01T00:00:00.000000000&#x27;,\n",
       "       &#x27;1967-11-01T00:00:00.000000000&#x27;, &#x27;1967-12-01T00:00:00.000000000&#x27;,\n",
       "       &#x27;1968-01-01T00:00:00.000000000&#x27;, &#x27;1968-02-01T00:00:00.000000000&#x27;,\n",
       "       &#x27;1968-03-01T00:00:00.000000000&#x27;, &#x27;1968-04-01T00:00:00.000000000&#x27;,\n",
       "       &#x27;1968-05-01T00:00:00.000000000&#x27;, &#x27;1968-06-01T00:00:00.000000000&#x27;,\n",
       "       &#x27;1968-07-01T00:00:00.000000000&#x27;, &#x27;1968-08-01T00:00:00.000000000&#x27;,\n",
       "       &#x27;1968-09-01T00:00:00.000000000&#x27;, &#x27;1968-10-01T00:00:00.000000000&#x27;,\n",
       "       &#x27;1968-11-01T00:00:00.000000000&#x27;, &#x27;1968-12-01T00:00:00.000000000&#x27;,\n",
       "       &#x27;1969-01-01T00:00:00.000000000&#x27;, &#x27;1969-02-01T00:00:00.000000000&#x27;,\n",
       "       &#x27;1969-03-01T00:00:00.000000000&#x27;, &#x27;1969-04-01T00:00:00.000000000&#x27;,\n",
       "       &#x27;1969-05-01T00:00:00.000000000&#x27;, &#x27;1969-06-01T00:00:00.000000000&#x27;,\n",
       "       &#x27;1969-07-01T00:00:00.000000000&#x27;, &#x27;1969-08-01T00:00:00.000000000&#x27;,\n",
       "       &#x27;1969-09-01T00:00:00.000000000&#x27;, &#x27;1969-10-01T00:00:00.000000000&#x27;,\n",
       "       &#x27;1969-11-01T00:00:00.000000000&#x27;, &#x27;1969-12-01T00:00:00.000000000&#x27;,\n",
       "       &#x27;1970-01-01T00:00:00.000000000&#x27;, &#x27;1970-02-01T00:00:00.000000000&#x27;,\n",
       "       &#x27;1970-03-01T00:00:00.000000000&#x27;, &#x27;1970-04-01T00:00:00.000000000&#x27;,\n",
       "       &#x27;1970-05-01T00:00:00.000000000&#x27;, &#x27;1970-06-01T00:00:00.000000000&#x27;,\n",
       "       &#x27;1970-07-01T00:00:00.000000000&#x27;, &#x27;1970-08-01T00:00:00.000000000&#x27;,\n",
       "       &#x27;1970-09-01T00:00:00.000000000&#x27;, &#x27;1970-10-01T00:00:00.000000000&#x27;,\n",
       "       &#x27;1970-11-01T00:00:00.000000000&#x27;, &#x27;1970-12-01T00:00:00.000000000&#x27;,\n",
       "       &#x27;1971-01-01T00:00:00.000000000&#x27;, &#x27;1971-02-01T00:00:00.000000000&#x27;,\n",
       "       &#x27;1971-03-01T00:00:00.000000000&#x27;, &#x27;1971-04-01T00:00:00.000000000&#x27;,\n",
       "       &#x27;1971-05-01T00:00:00.000000000&#x27;, &#x27;1971-06-01T00:00:00.000000000&#x27;,\n",
       "       &#x27;1971-07-01T00:00:00.000000000&#x27;, &#x27;1971-08-01T00:00:00.000000000&#x27;,\n",
       "       &#x27;1971-09-01T00:00:00.000000000&#x27;, &#x27;1971-10-01T00:00:00.000000000&#x27;,\n",
       "       &#x27;1971-11-01T00:00:00.000000000&#x27;, &#x27;1971-12-01T00:00:00.000000000&#x27;,\n",
       "       &#x27;1972-01-01T00:00:00.000000000&#x27;, &#x27;1972-02-01T00:00:00.000000000&#x27;,\n",
       "       &#x27;1972-03-01T00:00:00.000000000&#x27;, &#x27;1972-04-01T00:00:00.000000000&#x27;,\n",
       "       &#x27;1972-05-01T00:00:00.000000000&#x27;, &#x27;1972-06-01T00:00:00.000000000&#x27;,\n",
       "       &#x27;1972-07-01T00:00:00.000000000&#x27;, &#x27;1972-08-01T00:00:00.000000000&#x27;,\n",
       "       &#x27;1972-09-01T00:00:00.000000000&#x27;, &#x27;1972-10-01T00:00:00.000000000&#x27;,\n",
       "       &#x27;1972-11-01T00:00:00.000000000&#x27;, &#x27;1972-12-01T00:00:00.000000000&#x27;,\n",
       "       &#x27;1973-01-01T00:00:00.000000000&#x27;, &#x27;1973-02-01T00:00:00.000000000&#x27;,\n",
       "       &#x27;1973-03-01T00:00:00.000000000&#x27;, &#x27;1973-04-01T00:00:00.000000000&#x27;,\n",
       "       &#x27;1973-05-01T00:00:00.000000000&#x27;, &#x27;1973-06-01T00:00:00.000000000&#x27;,\n",
       "       &#x27;1973-07-01T00:00:00.000000000&#x27;, &#x27;1973-08-01T00:00:00.000000000&#x27;,\n",
       "       &#x27;1973-09-01T00:00:00.000000000&#x27;, &#x27;1973-10-01T00:00:00.000000000&#x27;,\n",
       "       &#x27;1973-11-01T00:00:00.000000000&#x27;, &#x27;1973-12-01T00:00:00.000000000&#x27;,\n",
       "       &#x27;1974-01-01T00:00:00.000000000&#x27;, &#x27;1974-02-01T00:00:00.000000000&#x27;,\n",
       "       &#x27;1974-03-01T00:00:00.000000000&#x27;, &#x27;1974-04-01T00:00:00.000000000&#x27;,\n",
       "       &#x27;1974-05-01T00:00:00.000000000&#x27;, &#x27;1974-06-01T00:00:00.000000000&#x27;,\n",
       "       &#x27;1974-07-01T00:00:00.000000000&#x27;, &#x27;1974-08-01T00:00:00.000000000&#x27;,\n",
       "       &#x27;1974-09-01T00:00:00.000000000&#x27;, &#x27;1974-10-01T00:00:00.000000000&#x27;,\n",
       "       &#x27;1974-11-01T00:00:00.000000000&#x27;, &#x27;1974-12-01T00:00:00.000000000&#x27;,\n",
       "       &#x27;1975-01-01T00:00:00.000000000&#x27;, &#x27;1975-02-01T00:00:00.000000000&#x27;,\n",
       "       &#x27;1975-03-01T00:00:00.000000000&#x27;, &#x27;1975-04-01T00:00:00.000000000&#x27;,\n",
       "       &#x27;1975-05-01T00:00:00.000000000&#x27;, &#x27;1975-06-01T00:00:00.000000000&#x27;,\n",
       "       &#x27;1975-07-01T00:00:00.000000000&#x27;, &#x27;1975-08-01T00:00:00.000000000&#x27;,\n",
       "       &#x27;1975-09-01T00:00:00.000000000&#x27;, &#x27;1975-10-01T00:00:00.000000000&#x27;,\n",
       "       &#x27;1975-11-01T00:00:00.000000000&#x27;, &#x27;1975-12-01T00:00:00.000000000&#x27;],\n",
       "      dtype=&#x27;datetime64[ns]&#x27;)</pre></div></li><li class='xr-var-item'><div class='xr-var-name'><span class='xr-has-index'>component</span></div><div class='xr-var-dims'>(component)</div><div class='xr-var-dtype'>object</div><div class='xr-var-preview xr-preview'>&#x27;Pounds per cow&#x27;</div><input id='attrs-3585014f-6363-48ea-afb2-b0ea5aaf6476' class='xr-var-attrs-in' type='checkbox' disabled><label for='attrs-3585014f-6363-48ea-afb2-b0ea5aaf6476' title='Show/Hide attributes'><svg class='icon xr-icon-file-text2'><use xlink:href='#icon-file-text2'></use></svg></label><input id='data-90df5045-488b-4508-8b0e-26b5f4217b54' class='xr-var-data-in' type='checkbox'><label for='data-90df5045-488b-4508-8b0e-26b5f4217b54' title='Show/Hide data repr'><svg class='icon xr-icon-database'><use xlink:href='#icon-database'></use></svg></label><div class='xr-var-attrs'><dl class='xr-attrs'></dl></div><div class='xr-var-data'><pre>array([&#x27;Pounds per cow&#x27;], dtype=object)</pre></div></li></ul></div></li><li class='xr-section-item'><input id='section-91aee63f-96c2-44fb-b75c-fb56b8a23e64' class='xr-section-summary-in' type='checkbox' disabled ><label for='section-91aee63f-96c2-44fb-b75c-fb56b8a23e64' class='xr-section-summary'  title='Expand/collapse section'>Attributes: <span>(0)</span></label><div class='xr-section-inline-details'></div><div class='xr-section-details'><dl class='xr-attrs'></dl></div></li></ul></div></div>"
      ],
      "text/plain": [
       "<TimeSeries (DataArray) (Month: 168, component: 1, sample: 1)>\n",
       "array([[[589.]],\n",
       "\n",
       "       [[561.]],\n",
       "\n",
       "       [[640.]],\n",
       "\n",
       "       [[656.]],\n",
       "\n",
       "       [[727.]],\n",
       "\n",
       "       [[697.]],\n",
       "\n",
       "       [[640.]],\n",
       "\n",
       "       [[599.]],\n",
       "\n",
       "       [[568.]],\n",
       "\n",
       "       [[577.]],\n",
       "\n",
       "...\n",
       "\n",
       "       [[892.]],\n",
       "\n",
       "       [[903.]],\n",
       "\n",
       "       [[966.]],\n",
       "\n",
       "       [[937.]],\n",
       "\n",
       "       [[896.]],\n",
       "\n",
       "       [[858.]],\n",
       "\n",
       "       [[817.]],\n",
       "\n",
       "       [[827.]],\n",
       "\n",
       "       [[797.]],\n",
       "\n",
       "       [[843.]]])\n",
       "Coordinates:\n",
       "  * Month      (Month) datetime64[ns] 1962-01-01 1962-02-01 ... 1975-12-01\n",
       "  * component  (component) object 'Pounds per cow'\n",
       "Dimensions without coordinates: sample"
      ]
     },
     "execution_count": 3,
     "metadata": {},
     "output_type": "execute_result"
    }
   ],
   "source": [
    "AirPassengersDataset().load()\n",
    "\n",
    "MonthlyMilkDataset().load()"
   ]
  },
  {
   "cell_type": "code",
   "execution_count": 4,
   "id": "2d301307",
   "metadata": {},
   "outputs": [
    {
     "data": {
      "text/plain": [
       "'Air Passanger Dataset'"
      ]
     },
     "metadata": {},
     "output_type": "display_data"
    },
    {
     "data": {
      "text/html": [
       "<div>\n",
       "<style scoped>\n",
       "    .dataframe tbody tr th:only-of-type {\n",
       "        vertical-align: middle;\n",
       "    }\n",
       "\n",
       "    .dataframe tbody tr th {\n",
       "        vertical-align: top;\n",
       "    }\n",
       "\n",
       "    .dataframe thead th {\n",
       "        text-align: right;\n",
       "    }\n",
       "</style>\n",
       "<table border=\"1\" class=\"dataframe\">\n",
       "  <thead>\n",
       "    <tr style=\"text-align: right;\">\n",
       "      <th>component</th>\n",
       "      <th>#Passengers</th>\n",
       "    </tr>\n",
       "    <tr>\n",
       "      <th>Month</th>\n",
       "      <th></th>\n",
       "    </tr>\n",
       "  </thead>\n",
       "  <tbody>\n",
       "    <tr>\n",
       "      <th>1949-01-01</th>\n",
       "      <td>112.0</td>\n",
       "    </tr>\n",
       "    <tr>\n",
       "      <th>1949-02-01</th>\n",
       "      <td>118.0</td>\n",
       "    </tr>\n",
       "    <tr>\n",
       "      <th>1949-03-01</th>\n",
       "      <td>132.0</td>\n",
       "    </tr>\n",
       "    <tr>\n",
       "      <th>1949-04-01</th>\n",
       "      <td>129.0</td>\n",
       "    </tr>\n",
       "    <tr>\n",
       "      <th>1949-05-01</th>\n",
       "      <td>121.0</td>\n",
       "    </tr>\n",
       "    <tr>\n",
       "      <th>...</th>\n",
       "      <td>...</td>\n",
       "    </tr>\n",
       "    <tr>\n",
       "      <th>1960-08-01</th>\n",
       "      <td>606.0</td>\n",
       "    </tr>\n",
       "    <tr>\n",
       "      <th>1960-09-01</th>\n",
       "      <td>508.0</td>\n",
       "    </tr>\n",
       "    <tr>\n",
       "      <th>1960-10-01</th>\n",
       "      <td>461.0</td>\n",
       "    </tr>\n",
       "    <tr>\n",
       "      <th>1960-11-01</th>\n",
       "      <td>390.0</td>\n",
       "    </tr>\n",
       "    <tr>\n",
       "      <th>1960-12-01</th>\n",
       "      <td>432.0</td>\n",
       "    </tr>\n",
       "  </tbody>\n",
       "</table>\n",
       "<p>144 rows × 1 columns</p>\n",
       "</div>"
      ],
      "text/plain": [
       "component   #Passengers\n",
       "Month                  \n",
       "1949-01-01        112.0\n",
       "1949-02-01        118.0\n",
       "1949-03-01        132.0\n",
       "1949-04-01        129.0\n",
       "1949-05-01        121.0\n",
       "...                 ...\n",
       "1960-08-01        606.0\n",
       "1960-09-01        508.0\n",
       "1960-10-01        461.0\n",
       "1960-11-01        390.0\n",
       "1960-12-01        432.0\n",
       "\n",
       "[144 rows x 1 columns]"
      ]
     },
     "metadata": {},
     "output_type": "display_data"
    },
    {
     "data": {
      "text/plain": [
       "'Monthly Milk Dataset'"
      ]
     },
     "metadata": {},
     "output_type": "display_data"
    },
    {
     "data": {
      "text/html": [
       "<div>\n",
       "<style scoped>\n",
       "    .dataframe tbody tr th:only-of-type {\n",
       "        vertical-align: middle;\n",
       "    }\n",
       "\n",
       "    .dataframe tbody tr th {\n",
       "        vertical-align: top;\n",
       "    }\n",
       "\n",
       "    .dataframe thead th {\n",
       "        text-align: right;\n",
       "    }\n",
       "</style>\n",
       "<table border=\"1\" class=\"dataframe\">\n",
       "  <thead>\n",
       "    <tr style=\"text-align: right;\">\n",
       "      <th>component</th>\n",
       "      <th>Pounds per cow</th>\n",
       "    </tr>\n",
       "    <tr>\n",
       "      <th>Month</th>\n",
       "      <th></th>\n",
       "    </tr>\n",
       "  </thead>\n",
       "  <tbody>\n",
       "    <tr>\n",
       "      <th>1962-01-01</th>\n",
       "      <td>589.0</td>\n",
       "    </tr>\n",
       "    <tr>\n",
       "      <th>1962-02-01</th>\n",
       "      <td>561.0</td>\n",
       "    </tr>\n",
       "    <tr>\n",
       "      <th>1962-03-01</th>\n",
       "      <td>640.0</td>\n",
       "    </tr>\n",
       "    <tr>\n",
       "      <th>1962-04-01</th>\n",
       "      <td>656.0</td>\n",
       "    </tr>\n",
       "    <tr>\n",
       "      <th>1962-05-01</th>\n",
       "      <td>727.0</td>\n",
       "    </tr>\n",
       "    <tr>\n",
       "      <th>...</th>\n",
       "      <td>...</td>\n",
       "    </tr>\n",
       "    <tr>\n",
       "      <th>1975-08-01</th>\n",
       "      <td>858.0</td>\n",
       "    </tr>\n",
       "    <tr>\n",
       "      <th>1975-09-01</th>\n",
       "      <td>817.0</td>\n",
       "    </tr>\n",
       "    <tr>\n",
       "      <th>1975-10-01</th>\n",
       "      <td>827.0</td>\n",
       "    </tr>\n",
       "    <tr>\n",
       "      <th>1975-11-01</th>\n",
       "      <td>797.0</td>\n",
       "    </tr>\n",
       "    <tr>\n",
       "      <th>1975-12-01</th>\n",
       "      <td>843.0</td>\n",
       "    </tr>\n",
       "  </tbody>\n",
       "</table>\n",
       "<p>168 rows × 1 columns</p>\n",
       "</div>"
      ],
      "text/plain": [
       "component   Pounds per cow\n",
       "Month                     \n",
       "1962-01-01           589.0\n",
       "1962-02-01           561.0\n",
       "1962-03-01           640.0\n",
       "1962-04-01           656.0\n",
       "1962-05-01           727.0\n",
       "...                    ...\n",
       "1975-08-01           858.0\n",
       "1975-09-01           817.0\n",
       "1975-10-01           827.0\n",
       "1975-11-01           797.0\n",
       "1975-12-01           843.0\n",
       "\n",
       "[168 rows x 1 columns]"
      ]
     },
     "metadata": {},
     "output_type": "display_data"
    }
   ],
   "source": [
    "display(\"Air Passanger Dataset\",AirPassengersDataset().load().pd_dataframe())\n",
    "\n",
    "display(\"Monthly Milk Dataset\",MonthlyMilkDataset().load().pd_dataframe())"
   ]
  },
  {
   "cell_type": "code",
   "execution_count": 5,
   "id": "769428f9",
   "metadata": {},
   "outputs": [],
   "source": [
    "air_series = AirPassengersDataset().load()\n",
    "milk_series = MonthlyMilkDataset().load()"
   ]
  },
  {
   "cell_type": "code",
   "execution_count": 6,
   "id": "1ad22fc6",
   "metadata": {},
   "outputs": [
    {
     "data": {
      "text/plain": [
       "<matplotlib.legend.Legend at 0x7f6c3bd1e910>"
      ]
     },
     "execution_count": 6,
     "metadata": {},
     "output_type": "execute_result"
    },
    {
     "data": {
      "image/png": "[encoded data removed]",
      "text/plain": [
       "<Figure size 432x288 with 1 Axes>"
      ]
     },
     "metadata": {
      "needs_background": "light"
     },
     "output_type": "display_data"
    }
   ],
   "source": [
    "air_series.plot(label='Number Of Passengers')\n",
    "milk_series.plot(label='Pounds Of Milk Produced Per Month')\n",
    "plt.legend()"
   ]
  },
  {
   "cell_type": "code",
   "execution_count": 7,
   "id": "5d389d75",
   "metadata": {},
   "outputs": [],
   "source": [
    "scaler_air, scaler_milk = Scaler(), Scaler()"
   ]
  },
  {
   "cell_type": "code",
   "execution_count": 8,
   "id": "76e35306",
   "metadata": {},
   "outputs": [],
   "source": [
    "air_series_scaled = scaler_air.fit_transform(air_series)\n",
    "milk_series_scaled = scaler_milk.fit_transform(milk_series)"
   ]
  },
  {
   "cell_type": "code",
   "execution_count": 9,
   "id": "9cc4650b",
   "metadata": {},
   "outputs": [
    {
     "data": {
      "image/png": "[encoded data removed]",
      "text/plain": [
       "<Figure size 432x288 with 1 Axes>"
      ]
     },
     "metadata": {
      "needs_background": "light"
     },
     "output_type": "display_data"
    }
   ],
   "source": [
    "air_series_scaled.plot(label='Number of Passengers')\n",
    "milk_series_scaled.plot(label='Milk in Pounds')\n",
    "plt.legend();"
   ]
  },
  {
   "cell_type": "code",
   "execution_count": 10,
   "id": "c3e483e2",
   "metadata": {},
   "outputs": [],
   "source": [
    "air_series_train, air_series_val = air_series_scaled[:-36], air_series_scaled[-36:]\n",
    "milk_series_train, milk_series_val = milk_series_scaled[:-36], milk_series_scaled[-36:]"
   ]
  },
  {
   "cell_type": "code",
   "execution_count": 11,
   "id": "9edae5fd",
   "metadata": {},
   "outputs": [
    {
     "data": {
      "text/plain": [
       "darts.timeseries.TimeSeries"
      ]
     },
     "execution_count": 11,
     "metadata": {},
     "output_type": "execute_result"
    }
   ],
   "source": [
    "type(air_series_train)"
   ]
  },
  {
   "cell_type": "code",
   "execution_count": 12,
   "id": "18341540",
   "metadata": {},
   "outputs": [],
   "source": [
    "model = NBEATSModel(input_chunk_length=24, output_chunk_length=12, n_epochs=100, random_state=42)"
   ]
  },
  {
   "cell_type": "code",
   "execution_count": 13,
   "id": "074acd60",
   "metadata": {},
   "outputs": [
    {
     "name": "stderr",
     "output_type": "stream",
     "text": [
      "[2022-05-13 19:23:23,963] INFO | darts.models.forecasting.torch_forecasting_model | Train dataset contains 194 samples.\n",
      "[2022-05-13 19:23:23,963] INFO | darts.models.forecasting.torch_forecasting_model | Train dataset contains 194 samples.\n",
      "2022-05-13 19:23:23 darts.models.forecasting.torch_forecasting_model INFO: Train dataset contains 194 samples.\n",
      "[2022-05-13 19:23:24,000] INFO | darts.models.forecasting.torch_forecasting_model | Time series values are 64-bits; casting model to float64.\n",
      "[2022-05-13 19:23:24,000] INFO | darts.models.forecasting.torch_forecasting_model | Time series values are 64-bits; casting model to float64.\n",
      "2022-05-13 19:23:24 darts.models.forecasting.torch_forecasting_model INFO: Time series values are 64-bits; casting model to float64.\n",
      "[2022-05-13 19:23:24,001] WARNING | darts.models.forecasting.torch_forecasting_model | DeprecationWarning: kwarg `verbose` is deprecated and will be removed in a future Darts version. Instead, control verbosity with PyTorch Lightning Trainer parameters `enable_progress_bar`, `progress_bar_refresh_rate` and `enable_model_summary` in the `pl_trainer_kwargs` dict at model creation.\n",
      "[2022-05-13 19:23:24,001] WARNING | darts.models.forecasting.torch_forecasting_model | DeprecationWarning: kwarg `verbose` is deprecated and will be removed in a future Darts version. Instead, control verbosity with PyTorch Lightning Trainer parameters `enable_progress_bar`, `progress_bar_refresh_rate` and `enable_model_summary` in the `pl_trainer_kwargs` dict at model creation.\n",
      "2022-05-13 19:23:24 darts.models.forecasting.torch_forecasting_model WARNING: DeprecationWarning: kwarg `verbose` is deprecated and will be removed in a future Darts version. Instead, control verbosity with PyTorch Lightning Trainer parameters `enable_progress_bar`, `progress_bar_refresh_rate` and `enable_model_summary` in the `pl_trainer_kwargs` dict at model creation.\n",
      "2022-05-13 19:23:24 pytorch_lightning.utilities.distributed INFO: GPU available: False, used: False\n",
      "2022-05-13 19:23:24 pytorch_lightning.utilities.distributed INFO: TPU available: False, using: 0 TPU cores\n",
      "2022-05-13 19:23:24 pytorch_lightning.utilities.distributed INFO: IPU available: False, using: 0 IPUs\n",
      "2022-05-13 19:23:24 pytorch_lightning.callbacks.model_summary INFO: \n",
      "  | Name      | Type       | Params\n",
      "-----------------------------------------\n",
      "0 | criterion | MSELoss    | 0     \n",
      "1 | stacks    | ModuleList | 6.2 M \n",
      "-----------------------------------------\n",
      "6.2 M     Trainable params\n",
      "1.4 K     Non-trainable params\n",
      "6.2 M     Total params\n",
      "49.575    Total estimated model params size (MB)\n"
     ]
    },
    {
     "data": {
      "application/vnd.jupyter.widget-view+json": {
       "model_id": "c581658551fd43a394bcf9d717f9b351",
       "version_major": 2,
       "version_minor": 0
      },
      "text/plain": [
       "Training: 0it [00:00, ?it/s]"
      ]
     },
     "metadata": {},
     "output_type": "display_data"
    },
    {
     "data": {
      "text/plain": [
       "<darts.models.forecasting.nbeats.NBEATSModel at 0x7f6c3bb15a00>"
      ]
     },
     "execution_count": 13,
     "metadata": {},
     "output_type": "execute_result"
    }
   ],
   "source": [
    "model.fit([air_series_train, milk_series_train], verbose=True)"
   ]
  },
  {
   "cell_type": "code",
   "execution_count": 14,
   "id": "4e64df55",
   "metadata": {},
   "outputs": [
    {
     "data": {
      "application/vnd.jupyter.widget-view+json": {
       "model_id": "e1e14ec8e78a411e8101d0cea813fc74",
       "version_major": 2,
       "version_minor": 0
      },
      "text/plain": [
       "Predicting: 7it [00:00, ?it/s]"
      ]
     },
     "metadata": {},
     "output_type": "display_data"
    },
    {
     "data": {
      "application/vnd.jupyter.widget-view+json": {
       "model_id": "a77624bdf8f6414598fb41eff3c68a36",
       "version_major": 2,
       "version_minor": 0
      },
      "text/plain": [
       "Predicting: 7it [00:00, ?it/s]"
      ]
     },
     "metadata": {},
     "output_type": "display_data"
    }
   ],
   "source": [
    "pred_air = model.predict(n=36, series=air_series_train)\n",
    "pred_milk = model.predict(n=36, series=milk_series_train)"
   ]
  },
  {
   "cell_type": "code",
   "execution_count": 15,
   "id": "b95884ed",
   "metadata": {},
   "outputs": [
    {
     "name": "stdout",
     "output_type": "stream",
     "text": [
      "MAPE = 6.56%\n",
      "MAPE = 28.32%\n"
     ]
    }
   ],
   "source": [
    "print(\"MAPE = {:.2f}%\".format(mape(air_series_scaled, pred_air)))\n",
    "print(\"MAPE = {:.2f}%\".format(mape(milk_series_scaled, pred_milk)))"
   ]
  },
  {
   "cell_type": "code",
   "execution_count": 16,
   "id": "8f479b1c",
   "metadata": {},
   "outputs": [
    {
     "data": {
      "text/plain": [
       "<matplotlib.legend.Legend at 0x7f6c20fb2250>"
      ]
     },
     "execution_count": 16,
     "metadata": {},
     "output_type": "execute_result"
    },
    {
     "data": {
      "image/png": "[encoded data removed]",
      "text/plain": [
       "<Figure size 432x288 with 1 Axes>"
      ]
     },
     "metadata": {
      "needs_background": "light"
     },
     "output_type": "display_data"
    }
   ],
   "source": [
    "air_series_scaled .plot(label = \"actual\")\n",
    "pred_air.plot(label = \"forecasted\") # validation data set\n",
    "plt.legend()"
   ]
  },
  {
   "cell_type": "code",
   "execution_count": 17,
   "id": "623d988b",
   "metadata": {},
   "outputs": [
    {
     "data": {
      "text/plain": [
       "<matplotlib.legend.Legend at 0x7f6c20f75970>"
      ]
     },
     "execution_count": 17,
     "metadata": {},
     "output_type": "execute_result"
    },
    {
     "data": {
      "image/png": "[encoded data removed]",
      "text/plain": [
       "<Figure size 432x288 with 1 Axes>"
      ]
     },
     "metadata": {
      "needs_background": "light"
     },
     "output_type": "display_data"
    }
   ],
   "source": [
    "milk_series_scaled.plot(label = \"actual\")\n",
    "\n",
    "pred_milk.plot(label = \"forecasted\") # validation data set\n",
    "\n",
    "plt.legend()"
   ]
  },
  {
   "cell_type": "code",
   "execution_count": null,
   "id": "61e52b6a",
   "metadata": {},
   "outputs": [],
   "source": []
  },
  {
   "cell_type": "code",
   "execution_count": null,
   "id": "62b2e4ab",
   "metadata": {},
   "outputs": [],
   "source": []
  },
  {
   "cell_type": "code",
   "execution_count": null,
   "id": "dfa6c29f",
   "metadata": {},
   "outputs": [],
   "source": []
  },
  {
   "cell_type": "code",
   "execution_count": null,
   "id": "028465ef",
   "metadata": {},
   "outputs": [],
   "source": []
  },
  {
   "cell_type": "code",
   "execution_count": null,
   "id": "70a602f0",
   "metadata": {},
   "outputs": [],
   "source": []
  },
  {
   "cell_type": "code",
   "execution_count": null,
   "id": "79751e2f",
   "metadata": {},
   "outputs": [],
   "source": []
  },
  {
   "cell_type": "code",
   "execution_count": null,
   "id": "c30cc862",
   "metadata": {},
   "outputs": [],
   "source": []
  },
  {
   "cell_type": "code",
   "execution_count": null,
   "id": "7cc91ccb",
   "metadata": {},
   "outputs": [],
   "source": []
  },
  {
   "cell_type": "code",
   "execution_count": null,
   "id": "b333d152",
   "metadata": {},
   "outputs": [],
   "source": []
  },
  {
   "cell_type": "code",
   "execution_count": null,
   "id": "67022dbb",
   "metadata": {},
   "outputs": [],
   "source": []
  },
  {
   "cell_type": "code",
   "execution_count": null,
   "id": "69289819",
   "metadata": {},
   "outputs": [],
   "source": []
  },
  {
   "cell_type": "code",
   "execution_count": null,
   "id": "e6bb6064",
   "metadata": {},
   "outputs": [],
   "source": []
  },
  {
   "cell_type": "code",
   "execution_count": null,
   "id": "ecd1a116",
   "metadata": {},
   "outputs": [],
   "source": []
  },
  {
   "cell_type": "code",
   "execution_count": null,
   "id": "0b28a02c",
   "metadata": {},
   "outputs": [],
   "source": []
  },
  {
   "cell_type": "code",
   "execution_count": null,
   "id": "460c3350",
   "metadata": {},
   "outputs": [],
   "source": []
  },
  {
   "cell_type": "code",
   "execution_count": null,
   "id": "97d72afd",
   "metadata": {},
   "outputs": [],
   "source": []
  },
  {
   "cell_type": "code",
   "execution_count": null,
   "id": "7e47da26",
   "metadata": {},
   "outputs": [],
   "source": []
  },
  {
   "cell_type": "code",
   "execution_count": null,
   "id": "f9ce3b11",
   "metadata": {},
   "outputs": [],
   "source": []
  },
  {
   "cell_type": "code",
   "execution_count": null,
   "id": "1d4feb54",
   "metadata": {},
   "outputs": [],
   "source": []
  },
  {
   "cell_type": "code",
   "execution_count": null,
   "id": "2913085e",
   "metadata": {},
   "outputs": [],
   "source": []
  },
  {
   "cell_type": "code",
   "execution_count": null,
   "id": "074a483d",
   "metadata": {},
   "outputs": [],
   "source": []
  },
  {
   "cell_type": "code",
   "execution_count": null,
   "id": "0b5b58ee",
   "metadata": {},
   "outputs": [],
   "source": []
  },
  {
   "cell_type": "code",
   "execution_count": null,
   "id": "e86566b3",
   "metadata": {},
   "outputs": [],
   "source": []
  },
  {
   "cell_type": "code",
   "execution_count": null,
   "id": "b3f3c9dc",
   "metadata": {},
   "outputs": [],
   "source": []
  },
  {
   "cell_type": "code",
   "execution_count": null,
   "id": "b8a319bf",
   "metadata": {},
   "outputs": [],
   "source": []
  },
  {
   "cell_type": "code",
   "execution_count": null,
   "id": "5bb0091a",
   "metadata": {},
   "outputs": [],
   "source": []
  },
  {
   "cell_type": "code",
   "execution_count": null,
   "id": "5bf35ac6",
   "metadata": {},
   "outputs": [],
   "source": []
  },
  {
   "cell_type": "code",
   "execution_count": null,
   "id": "5fd0c979",
   "metadata": {},
   "outputs": [],
   "source": []
  },
  {
   "cell_type": "code",
   "execution_count": null,
   "id": "26da13d9",
   "metadata": {},
   "outputs": [],
   "source": []
  },
  {
   "cell_type": "code",
   "execution_count": null,
   "id": "d848773f",
   "metadata": {},
   "outputs": [],
   "source": []
  },
  {
   "cell_type": "code",
   "execution_count": null,
   "id": "cfad287a",
   "metadata": {},
   "outputs": [],
   "source": []
  },
  {
   "cell_type": "code",
   "execution_count": null,
   "id": "b4c72039",
   "metadata": {},
   "outputs": [],
   "source": []
  },
  {
   "cell_type": "code",
   "execution_count": null,
   "id": "f73387c4",
   "metadata": {},
   "outputs": [],
   "source": []
  },
  {
   "cell_type": "code",
   "execution_count": null,
   "id": "39eeb880",
   "metadata": {},
   "outputs": [],
   "source": []
  }
 ],
 "metadata": {
  "kernelspec": {
   "display_name": "ml",
   "language": "python",
   "name": "ml"
  },
  "language_info": {
   "codemirror_mode": {
    "name": "ipython",
    "version": 3
   },
   "file_extension": ".py",
   "mimetype": "text/x-python",
   "name": "python",
   "nbconvert_exporter": "python",
   "pygments_lexer": "ipython3",
   "version": "3.9.4"
  }
 },
 "nbformat": 4,
 "nbformat_minor": 5
}
