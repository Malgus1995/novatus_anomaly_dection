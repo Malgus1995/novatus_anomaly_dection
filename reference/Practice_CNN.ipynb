{
 "cells": [
  {
   "cell_type": "code",
   "execution_count": 1,
   "id": "04e610ce",
   "metadata": {},
   "outputs": [
    {
     "name": "stderr",
     "output_type": "stream",
     "text": [
      "E:\\anaconda\\envs\\ml\\lib\\site-packages\\tqdm\\auto.py:22: TqdmWarning: IProgress not found. Please update jupyter and ipywidgets. See https://ipywidgets.readthedocs.io/en/stable/user_install.html\n",
      "  from .autonotebook import tqdm as notebook_tqdm\n"
     ]
    },
    {
     "data": {
      "text/html": [
       "<style>.container { width:100% !important; }</style>"
      ],
      "text/plain": [
       "<IPython.core.display.HTML object>"
      ]
     },
     "metadata": {},
     "output_type": "display_data"
    },
    {
     "name": "stdout",
     "output_type": "stream",
     "text": [
      "Setup Complete\n"
     ]
    }
   ],
   "source": [
    "import pandas as pd\n",
    "import numpy as np\n",
    "import os\n",
    "import random\n",
    "import matplotlib.pyplot as plt\n",
    "from tqdm.auto import tqdm\n",
    "from sklearn.preprocessing import MinMaxScaler\n",
    "\n",
    "import warnings\n",
    "warnings.filterwarnings('ignore')\n",
    "\n",
    "import tensorflow as tf\n",
    "from tensorflow.keras.models import Sequential\n",
    "from tensorflow.keras import layers\n",
    "\n",
    "from sklearn.preprocessing import MinMaxScaler, StandardScaler\n",
    "\n",
    "from tqdm.auto import tqdm\n",
    "\n",
    "from IPython.core.display import display, HTML\n",
    "display(HTML(\"<style>.container { width:100% !important; }</style>\"))\n",
    "\n",
    "random.seed(123)\n",
    "print(\"Setup Complete\")"
   ]
  },
  {
   "cell_type": "code",
   "execution_count": 2,
   "id": "6817bfff",
   "metadata": {},
   "outputs": [],
   "source": [
    "sheet_name = ['sample 1', 'sample 2', 'sample 3', 'sample 4', 'sample 5', 'sample 6', 'sample 7', 'sample 8', 'sample 9', \\\n",
    "              'sample 10', 'sample 11', 'sample 12', 'sample 13', 'sample 14', 'sample 15', 'sample 16', 'sample 17', 'sample 18',\\\n",
    "              'sample 19', 'sample 20', 'sample 21', 'sample 22', 'sample 23', 'sample 24', 'sample 25', 'sample 26', 'sample 27',\\\n",
    "              'sample 28', 'sample 29', 'sample 30', 'sample 31', 'sample 32', 'sample 33', 'sample 34', 'sample 35', 'sample 36',\\\n",
    "              'sample 37', 'sample 38', 'sample 39', 'sample 40', 'sample 41', 'sample 42', 'sample 43', 'sample 44', 'sample 45',\\\n",
    "              'sample 46', 'sample 47', 'sample 48', 'sample 49', 'sample 50', 'sample 51', 'sample 52', 'sample 53', 'sample 54',\\\n",
    "              'sample 55', 'sample 56', 'sample 57', 'sample 58', 'sample 59', 'sample 60', 'sample 61', 'sample 62', 'sample 63',\\\n",
    "              'sample 64', 'sample 65', 'sample 66', 'sample 67', 'sample 68', 'sample 69', 'sample 70', 'sample 71', 'sample 72',\\\n",
    "              'sample 73', 'sample 74', 'sample 75', 'sample 76', 'sample 77', 'sample 78', 'sample 79', 'sample 80', 'sample 81',\\\n",
    "              'sample 82', 'sample 83', 'sample 84', 'sample 85', 'sample 86', 'sample 87', 'sample 88', 'sample 89', 'sample 90',\\\n",
    "              'sample 91', 'sample 92', 'sample 93', 'sample 94', 'sample 95', 'sample 96', 'sample 97', 'sample 98']"
   ]
  },
  {
   "cell_type": "code",
   "execution_count": 3,
   "id": "51339cca",
   "metadata": {},
   "outputs": [],
   "source": [
    "# load excel sheet\n",
    "sensor_data_1 = pd.read_excel(r'E:\\ML\\input\\ai nova\\강의_데이터 전처리_part 3\\sensor_data.xlsx', sheet_name='sample 1')"
   ]
  },
  {
   "cell_type": "code",
   "execution_count": 4,
   "id": "26ca0955",
   "metadata": {},
   "outputs": [
    {
     "data": {
      "text/html": [
       "<div>\n",
       "<style scoped>\n",
       "    .dataframe tbody tr th:only-of-type {\n",
       "        vertical-align: middle;\n",
       "    }\n",
       "\n",
       "    .dataframe tbody tr th {\n",
       "        vertical-align: top;\n",
       "    }\n",
       "\n",
       "    .dataframe thead th {\n",
       "        text-align: right;\n",
       "    }\n",
       "</style>\n",
       "<table border=\"1\" class=\"dataframe\">\n",
       "  <thead>\n",
       "    <tr style=\"text-align: right;\">\n",
       "      <th></th>\n",
       "      <th>temp</th>\n",
       "      <th>humi</th>\n",
       "      <th>sensor1</th>\n",
       "      <th>sensor2</th>\n",
       "      <th>sensor3</th>\n",
       "      <th>sensor4</th>\n",
       "      <th>sensor5</th>\n",
       "      <th>sensor6</th>\n",
       "      <th>sensor7</th>\n",
       "      <th>sensor8</th>\n",
       "      <th>sensor9</th>\n",
       "      <th>sensor10</th>\n",
       "      <th>sensor11</th>\n",
       "    </tr>\n",
       "  </thead>\n",
       "  <tbody>\n",
       "    <tr>\n",
       "      <th>0</th>\n",
       "      <td>322.85</td>\n",
       "      <td>360.98</td>\n",
       "      <td>37.24</td>\n",
       "      <td>33.23</td>\n",
       "      <td>16.67</td>\n",
       "      <td>16.93</td>\n",
       "      <td>21.78</td>\n",
       "      <td>22.94</td>\n",
       "      <td>36.98</td>\n",
       "      <td>29.62</td>\n",
       "      <td>20.25</td>\n",
       "      <td>23.88</td>\n",
       "      <td>21.96</td>\n",
       "    </tr>\n",
       "    <tr>\n",
       "      <th>1</th>\n",
       "      <td>324.85</td>\n",
       "      <td>359.98</td>\n",
       "      <td>37.24</td>\n",
       "      <td>33.23</td>\n",
       "      <td>16.67</td>\n",
       "      <td>16.93</td>\n",
       "      <td>20.78</td>\n",
       "      <td>19.94</td>\n",
       "      <td>35.98</td>\n",
       "      <td>22.62</td>\n",
       "      <td>16.25</td>\n",
       "      <td>27.88</td>\n",
       "      <td>29.96</td>\n",
       "    </tr>\n",
       "    <tr>\n",
       "      <th>2</th>\n",
       "      <td>322.85</td>\n",
       "      <td>360.98</td>\n",
       "      <td>37.24</td>\n",
       "      <td>34.23</td>\n",
       "      <td>16.67</td>\n",
       "      <td>16.93</td>\n",
       "      <td>21.78</td>\n",
       "      <td>27.94</td>\n",
       "      <td>35.98</td>\n",
       "      <td>18.62</td>\n",
       "      <td>26.25</td>\n",
       "      <td>21.88</td>\n",
       "      <td>25.96</td>\n",
       "    </tr>\n",
       "    <tr>\n",
       "      <th>3</th>\n",
       "      <td>324.85</td>\n",
       "      <td>360.98</td>\n",
       "      <td>38.24</td>\n",
       "      <td>34.23</td>\n",
       "      <td>16.67</td>\n",
       "      <td>16.93</td>\n",
       "      <td>20.78</td>\n",
       "      <td>29.94</td>\n",
       "      <td>36.98</td>\n",
       "      <td>24.62</td>\n",
       "      <td>23.25</td>\n",
       "      <td>22.88</td>\n",
       "      <td>31.96</td>\n",
       "    </tr>\n",
       "    <tr>\n",
       "      <th>4</th>\n",
       "      <td>325.85</td>\n",
       "      <td>360.98</td>\n",
       "      <td>37.24</td>\n",
       "      <td>34.23</td>\n",
       "      <td>16.67</td>\n",
       "      <td>23.93</td>\n",
       "      <td>21.78</td>\n",
       "      <td>16.94</td>\n",
       "      <td>36.98</td>\n",
       "      <td>20.62</td>\n",
       "      <td>19.25</td>\n",
       "      <td>20.88</td>\n",
       "      <td>32.96</td>\n",
       "    </tr>\n",
       "  </tbody>\n",
       "</table>\n",
       "</div>"
      ],
      "text/plain": [
       "     temp    humi  sensor1  sensor2  sensor3  sensor4  sensor5  sensor6  \\\n",
       "0  322.85  360.98    37.24    33.23    16.67    16.93    21.78    22.94   \n",
       "1  324.85  359.98    37.24    33.23    16.67    16.93    20.78    19.94   \n",
       "2  322.85  360.98    37.24    34.23    16.67    16.93    21.78    27.94   \n",
       "3  324.85  360.98    38.24    34.23    16.67    16.93    20.78    29.94   \n",
       "4  325.85  360.98    37.24    34.23    16.67    23.93    21.78    16.94   \n",
       "\n",
       "   sensor7  sensor8  sensor9  sensor10  sensor11  \n",
       "0    36.98    29.62    20.25     23.88     21.96  \n",
       "1    35.98    22.62    16.25     27.88     29.96  \n",
       "2    35.98    18.62    26.25     21.88     25.96  \n",
       "3    36.98    24.62    23.25     22.88     31.96  \n",
       "4    36.98    20.62    19.25     20.88     32.96  "
      ]
     },
     "execution_count": 4,
     "metadata": {},
     "output_type": "execute_result"
    }
   ],
   "source": [
    "sensor_data_1.head()"
   ]
  },
  {
   "cell_type": "code",
   "execution_count": 5,
   "id": "f218f78d",
   "metadata": {},
   "outputs": [
    {
     "data": {
      "text/plain": [
       "(92, 13)"
      ]
     },
     "execution_count": 5,
     "metadata": {},
     "output_type": "execute_result"
    }
   ],
   "source": [
    "sensor_data_1.shape"
   ]
  },
  {
   "cell_type": "code",
   "execution_count": 6,
   "id": "e0f5761a",
   "metadata": {},
   "outputs": [],
   "source": [
    "# load excel sheet\n",
    "sensor_data_81 = pd.read_excel(r'E:\\ML\\input\\ai nova\\강의_데이터 전처리_part 3\\sensor_data.xlsx', sheet_name='sample 81')"
   ]
  },
  {
   "cell_type": "code",
   "execution_count": 7,
   "id": "df41ed03",
   "metadata": {},
   "outputs": [
    {
     "data": {
      "text/html": [
       "<div>\n",
       "<style scoped>\n",
       "    .dataframe tbody tr th:only-of-type {\n",
       "        vertical-align: middle;\n",
       "    }\n",
       "\n",
       "    .dataframe tbody tr th {\n",
       "        vertical-align: top;\n",
       "    }\n",
       "\n",
       "    .dataframe thead th {\n",
       "        text-align: right;\n",
       "    }\n",
       "</style>\n",
       "<table border=\"1\" class=\"dataframe\">\n",
       "  <thead>\n",
       "    <tr style=\"text-align: right;\">\n",
       "      <th></th>\n",
       "      <th>temp</th>\n",
       "      <th>humi</th>\n",
       "      <th>sensor1</th>\n",
       "      <th>sensor2</th>\n",
       "      <th>sensor3</th>\n",
       "      <th>sensor4</th>\n",
       "      <th>sensor5</th>\n",
       "      <th>sensor6</th>\n",
       "      <th>sensor7</th>\n",
       "      <th>sensor8</th>\n",
       "      <th>sensor9</th>\n",
       "      <th>sensor10</th>\n",
       "      <th>sensor11</th>\n",
       "    </tr>\n",
       "  </thead>\n",
       "  <tbody>\n",
       "    <tr>\n",
       "      <th>0</th>\n",
       "      <td>1647.58</td>\n",
       "      <td>1695.95</td>\n",
       "      <td>117.6</td>\n",
       "      <td>115.07</td>\n",
       "      <td>77.88</td>\n",
       "      <td>64.74</td>\n",
       "      <td>97.84</td>\n",
       "      <td>55.86</td>\n",
       "      <td>181.96</td>\n",
       "      <td>99.85</td>\n",
       "      <td>71.26</td>\n",
       "      <td>155.72</td>\n",
       "      <td>95.81</td>\n",
       "    </tr>\n",
       "    <tr>\n",
       "      <th>1</th>\n",
       "      <td>1644.58</td>\n",
       "      <td>1696.95</td>\n",
       "      <td>119.6</td>\n",
       "      <td>114.07</td>\n",
       "      <td>76.88</td>\n",
       "      <td>69.74</td>\n",
       "      <td>94.84</td>\n",
       "      <td>64.86</td>\n",
       "      <td>181.96</td>\n",
       "      <td>96.85</td>\n",
       "      <td>95.26</td>\n",
       "      <td>156.72</td>\n",
       "      <td>109.81</td>\n",
       "    </tr>\n",
       "    <tr>\n",
       "      <th>2</th>\n",
       "      <td>1646.58</td>\n",
       "      <td>1696.95</td>\n",
       "      <td>118.6</td>\n",
       "      <td>115.07</td>\n",
       "      <td>76.88</td>\n",
       "      <td>63.74</td>\n",
       "      <td>100.84</td>\n",
       "      <td>48.86</td>\n",
       "      <td>180.96</td>\n",
       "      <td>102.85</td>\n",
       "      <td>82.26</td>\n",
       "      <td>163.72</td>\n",
       "      <td>95.81</td>\n",
       "    </tr>\n",
       "    <tr>\n",
       "      <th>3</th>\n",
       "      <td>1644.58</td>\n",
       "      <td>1695.95</td>\n",
       "      <td>118.6</td>\n",
       "      <td>112.07</td>\n",
       "      <td>75.88</td>\n",
       "      <td>64.74</td>\n",
       "      <td>93.84</td>\n",
       "      <td>40.86</td>\n",
       "      <td>181.96</td>\n",
       "      <td>106.85</td>\n",
       "      <td>78.26</td>\n",
       "      <td>160.72</td>\n",
       "      <td>98.81</td>\n",
       "    </tr>\n",
       "    <tr>\n",
       "      <th>4</th>\n",
       "      <td>1649.58</td>\n",
       "      <td>1694.95</td>\n",
       "      <td>116.6</td>\n",
       "      <td>108.07</td>\n",
       "      <td>74.88</td>\n",
       "      <td>56.74</td>\n",
       "      <td>89.84</td>\n",
       "      <td>62.86</td>\n",
       "      <td>181.96</td>\n",
       "      <td>94.85</td>\n",
       "      <td>82.26</td>\n",
       "      <td>164.72</td>\n",
       "      <td>107.81</td>\n",
       "    </tr>\n",
       "  </tbody>\n",
       "</table>\n",
       "</div>"
      ],
      "text/plain": [
       "      temp     humi  sensor1  sensor2  sensor3  sensor4  sensor5  sensor6  \\\n",
       "0  1647.58  1695.95    117.6   115.07    77.88    64.74    97.84    55.86   \n",
       "1  1644.58  1696.95    119.6   114.07    76.88    69.74    94.84    64.86   \n",
       "2  1646.58  1696.95    118.6   115.07    76.88    63.74   100.84    48.86   \n",
       "3  1644.58  1695.95    118.6   112.07    75.88    64.74    93.84    40.86   \n",
       "4  1649.58  1694.95    116.6   108.07    74.88    56.74    89.84    62.86   \n",
       "\n",
       "   sensor7  sensor8  sensor9  sensor10  sensor11  \n",
       "0   181.96    99.85    71.26    155.72     95.81  \n",
       "1   181.96    96.85    95.26    156.72    109.81  \n",
       "2   180.96   102.85    82.26    163.72     95.81  \n",
       "3   181.96   106.85    78.26    160.72     98.81  \n",
       "4   181.96    94.85    82.26    164.72    107.81  "
      ]
     },
     "execution_count": 7,
     "metadata": {},
     "output_type": "execute_result"
    }
   ],
   "source": [
    "sensor_data_81.head()"
   ]
  },
  {
   "cell_type": "code",
   "execution_count": 8,
   "id": "715f564d",
   "metadata": {},
   "outputs": [
    {
     "data": {
      "text/plain": [
       "(57, 13)"
      ]
     },
     "execution_count": 8,
     "metadata": {},
     "output_type": "execute_result"
    }
   ],
   "source": [
    "sensor_data_81.shape"
   ]
  },
  {
   "cell_type": "code",
   "execution_count": 9,
   "id": "3c56897e",
   "metadata": {},
   "outputs": [
    {
     "name": "stdout",
     "output_type": "stream",
     "text": [
      "sample 1 dimension: (92, 13)\n",
      "sample 2 dimension: (75, 13)\n",
      "sample 3 dimension: (70, 13)\n",
      "sample 4 dimension: (62, 13)\n",
      "sample 5 dimension: (57, 13)\n",
      "sample 6 dimension: (234, 13)\n",
      "sample 7 dimension: (77, 13)\n",
      "sample 8 dimension: (71, 13)\n",
      "sample 9 dimension: (67, 13)\n",
      "sample 10 dimension: (50, 13)\n",
      "sample 11 dimension: (52, 13)\n",
      "sample 12 dimension: (67, 13)\n",
      "sample 13 dimension: (62, 13)\n",
      "sample 14 dimension: (62, 13)\n",
      "sample 15 dimension: (70, 13)\n",
      "sample 16 dimension: (65, 13)\n",
      "sample 17 dimension: (67, 13)\n",
      "sample 18 dimension: (64, 13)\n",
      "sample 19 dimension: (62, 13)\n",
      "sample 20 dimension: (64, 13)\n"
     ]
    }
   ],
   "source": [
    "for sheet in sheet_name[:20]:\n",
    "    tmp_sheet = pd.read_excel(r'E:\\ML\\input\\ai nova\\강의_데이터 전처리_part 3\\sensor_data.xlsx', sheet_name=sheet)\n",
    "    print(\"{} dimension: {}\".format(sheet, tmp_sheet.shape))"
   ]
  },
  {
   "cell_type": "code",
   "execution_count": 10,
   "id": "027f73e0",
   "metadata": {},
   "outputs": [],
   "source": [
    "label = pd.read_excel(r'E:\\ML\\input\\ai nova\\강의_데이터 전처리_part 3\\label.xlsx')"
   ]
  },
  {
   "cell_type": "code",
   "execution_count": 11,
   "id": "f6f52b80",
   "metadata": {},
   "outputs": [
    {
     "data": {
      "text/plain": [
       "(98, 4)"
      ]
     },
     "execution_count": 11,
     "metadata": {},
     "output_type": "execute_result"
    }
   ],
   "source": [
    "label.shape"
   ]
  },
  {
   "cell_type": "code",
   "execution_count": 12,
   "id": "91870009",
   "metadata": {},
   "outputs": [
    {
     "data": {
      "text/html": [
       "<div>\n",
       "<style scoped>\n",
       "    .dataframe tbody tr th:only-of-type {\n",
       "        vertical-align: middle;\n",
       "    }\n",
       "\n",
       "    .dataframe tbody tr th {\n",
       "        vertical-align: top;\n",
       "    }\n",
       "\n",
       "    .dataframe thead th {\n",
       "        text-align: right;\n",
       "    }\n",
       "</style>\n",
       "<table border=\"1\" class=\"dataframe\">\n",
       "  <thead>\n",
       "    <tr style=\"text-align: right;\">\n",
       "      <th></th>\n",
       "      <th>sample</th>\n",
       "      <th>gas1</th>\n",
       "      <th>gas2</th>\n",
       "      <th>gas3</th>\n",
       "    </tr>\n",
       "  </thead>\n",
       "  <tbody>\n",
       "    <tr>\n",
       "      <th>0</th>\n",
       "      <td>sample 1</td>\n",
       "      <td>1.0</td>\n",
       "      <td>1.0</td>\n",
       "      <td>2.0</td>\n",
       "    </tr>\n",
       "    <tr>\n",
       "      <th>1</th>\n",
       "      <td>sample 2</td>\n",
       "      <td>1.0</td>\n",
       "      <td>1.0</td>\n",
       "      <td>2.0</td>\n",
       "    </tr>\n",
       "    <tr>\n",
       "      <th>2</th>\n",
       "      <td>sample 3</td>\n",
       "      <td>1.0</td>\n",
       "      <td>1.0</td>\n",
       "      <td>2.0</td>\n",
       "    </tr>\n",
       "    <tr>\n",
       "      <th>3</th>\n",
       "      <td>sample 4</td>\n",
       "      <td>1.0</td>\n",
       "      <td>1.0</td>\n",
       "      <td>2.0</td>\n",
       "    </tr>\n",
       "    <tr>\n",
       "      <th>4</th>\n",
       "      <td>sample 5</td>\n",
       "      <td>1.0</td>\n",
       "      <td>2.0</td>\n",
       "      <td>1.0</td>\n",
       "    </tr>\n",
       "  </tbody>\n",
       "</table>\n",
       "</div>"
      ],
      "text/plain": [
       "     sample  gas1  gas2  gas3\n",
       "0  sample 1   1.0   1.0   2.0\n",
       "1  sample 2   1.0   1.0   2.0\n",
       "2  sample 3   1.0   1.0   2.0\n",
       "3  sample 4   1.0   1.0   2.0\n",
       "4  sample 5   1.0   2.0   1.0"
      ]
     },
     "execution_count": 12,
     "metadata": {},
     "output_type": "execute_result"
    }
   ],
   "source": [
    "label.head()"
   ]
  },
  {
   "cell_type": "code",
   "execution_count": 13,
   "id": "5d89579d",
   "metadata": {},
   "outputs": [
    {
     "data": {
      "text/plain": [
       "sample    0\n",
       "gas1      4\n",
       "gas2      4\n",
       "gas3      4\n",
       "dtype: int64"
      ]
     },
     "execution_count": 13,
     "metadata": {},
     "output_type": "execute_result"
    }
   ],
   "source": [
    "label.isnull().sum()"
   ]
  },
  {
   "cell_type": "code",
   "execution_count": 14,
   "id": "474108d8",
   "metadata": {},
   "outputs": [],
   "source": [
    "label.fillna(0, inplace=True)"
   ]
  },
  {
   "cell_type": "code",
   "execution_count": 15,
   "id": "d9d6625a",
   "metadata": {},
   "outputs": [
    {
     "data": {
      "text/plain": [
       "sample    0\n",
       "gas1      0\n",
       "gas2      0\n",
       "gas3      0\n",
       "dtype: int64"
      ]
     },
     "execution_count": 15,
     "metadata": {},
     "output_type": "execute_result"
    }
   ],
   "source": [
    "label.isnull().sum()"
   ]
  },
  {
   "cell_type": "code",
   "execution_count": 16,
   "id": "b0d26c15",
   "metadata": {},
   "outputs": [],
   "source": [
    "def label_allocation(gas):\n",
    "    if gas > 0:\n",
    "        return 1\n",
    "    else:\n",
    "        return 0"
   ]
  },
  {
   "cell_type": "code",
   "execution_count": 17,
   "id": "2f838d35",
   "metadata": {},
   "outputs": [],
   "source": [
    "label['gas1_label'] = label['gas1'].apply(label_allocation)\n",
    "label['gas2_label'] = label['gas2'].apply(label_allocation)\n",
    "label['gas3_label'] = label['gas3'].apply(label_allocation)"
   ]
  },
  {
   "cell_type": "code",
   "execution_count": 18,
   "id": "434ab060",
   "metadata": {},
   "outputs": [
    {
     "data": {
      "text/html": [
       "<div>\n",
       "<style scoped>\n",
       "    .dataframe tbody tr th:only-of-type {\n",
       "        vertical-align: middle;\n",
       "    }\n",
       "\n",
       "    .dataframe tbody tr th {\n",
       "        vertical-align: top;\n",
       "    }\n",
       "\n",
       "    .dataframe thead th {\n",
       "        text-align: right;\n",
       "    }\n",
       "</style>\n",
       "<table border=\"1\" class=\"dataframe\">\n",
       "  <thead>\n",
       "    <tr style=\"text-align: right;\">\n",
       "      <th></th>\n",
       "      <th>sample</th>\n",
       "      <th>gas1</th>\n",
       "      <th>gas2</th>\n",
       "      <th>gas3</th>\n",
       "      <th>gas1_label</th>\n",
       "      <th>gas2_label</th>\n",
       "      <th>gas3_label</th>\n",
       "    </tr>\n",
       "  </thead>\n",
       "  <tbody>\n",
       "    <tr>\n",
       "      <th>0</th>\n",
       "      <td>sample 1</td>\n",
       "      <td>1.0</td>\n",
       "      <td>1.0</td>\n",
       "      <td>2.0</td>\n",
       "      <td>1</td>\n",
       "      <td>1</td>\n",
       "      <td>1</td>\n",
       "    </tr>\n",
       "    <tr>\n",
       "      <th>1</th>\n",
       "      <td>sample 2</td>\n",
       "      <td>1.0</td>\n",
       "      <td>1.0</td>\n",
       "      <td>2.0</td>\n",
       "      <td>1</td>\n",
       "      <td>1</td>\n",
       "      <td>1</td>\n",
       "    </tr>\n",
       "    <tr>\n",
       "      <th>2</th>\n",
       "      <td>sample 3</td>\n",
       "      <td>1.0</td>\n",
       "      <td>1.0</td>\n",
       "      <td>2.0</td>\n",
       "      <td>1</td>\n",
       "      <td>1</td>\n",
       "      <td>1</td>\n",
       "    </tr>\n",
       "    <tr>\n",
       "      <th>3</th>\n",
       "      <td>sample 4</td>\n",
       "      <td>1.0</td>\n",
       "      <td>1.0</td>\n",
       "      <td>2.0</td>\n",
       "      <td>1</td>\n",
       "      <td>1</td>\n",
       "      <td>1</td>\n",
       "    </tr>\n",
       "    <tr>\n",
       "      <th>4</th>\n",
       "      <td>sample 5</td>\n",
       "      <td>1.0</td>\n",
       "      <td>2.0</td>\n",
       "      <td>1.0</td>\n",
       "      <td>1</td>\n",
       "      <td>1</td>\n",
       "      <td>1</td>\n",
       "    </tr>\n",
       "    <tr>\n",
       "      <th>5</th>\n",
       "      <td>sample 6</td>\n",
       "      <td>1.0</td>\n",
       "      <td>2.0</td>\n",
       "      <td>1.0</td>\n",
       "      <td>1</td>\n",
       "      <td>1</td>\n",
       "      <td>1</td>\n",
       "    </tr>\n",
       "    <tr>\n",
       "      <th>6</th>\n",
       "      <td>sample 7</td>\n",
       "      <td>2.0</td>\n",
       "      <td>1.0</td>\n",
       "      <td>1.0</td>\n",
       "      <td>1</td>\n",
       "      <td>1</td>\n",
       "      <td>1</td>\n",
       "    </tr>\n",
       "    <tr>\n",
       "      <th>7</th>\n",
       "      <td>sample 8</td>\n",
       "      <td>2.0</td>\n",
       "      <td>1.0</td>\n",
       "      <td>1.0</td>\n",
       "      <td>1</td>\n",
       "      <td>1</td>\n",
       "      <td>1</td>\n",
       "    </tr>\n",
       "    <tr>\n",
       "      <th>8</th>\n",
       "      <td>sample 9</td>\n",
       "      <td>2.0</td>\n",
       "      <td>1.0</td>\n",
       "      <td>1.0</td>\n",
       "      <td>1</td>\n",
       "      <td>1</td>\n",
       "      <td>1</td>\n",
       "    </tr>\n",
       "    <tr>\n",
       "      <th>9</th>\n",
       "      <td>sample 10</td>\n",
       "      <td>2.0</td>\n",
       "      <td>1.0</td>\n",
       "      <td>1.0</td>\n",
       "      <td>1</td>\n",
       "      <td>1</td>\n",
       "      <td>1</td>\n",
       "    </tr>\n",
       "    <tr>\n",
       "      <th>10</th>\n",
       "      <td>sample 11</td>\n",
       "      <td>1.0</td>\n",
       "      <td>1.0</td>\n",
       "      <td>0.0</td>\n",
       "      <td>1</td>\n",
       "      <td>1</td>\n",
       "      <td>0</td>\n",
       "    </tr>\n",
       "    <tr>\n",
       "      <th>11</th>\n",
       "      <td>sample 12</td>\n",
       "      <td>1.0</td>\n",
       "      <td>1.0</td>\n",
       "      <td>0.0</td>\n",
       "      <td>1</td>\n",
       "      <td>1</td>\n",
       "      <td>0</td>\n",
       "    </tr>\n",
       "    <tr>\n",
       "      <th>12</th>\n",
       "      <td>sample 13</td>\n",
       "      <td>1.0</td>\n",
       "      <td>1.0</td>\n",
       "      <td>0.0</td>\n",
       "      <td>1</td>\n",
       "      <td>1</td>\n",
       "      <td>0</td>\n",
       "    </tr>\n",
       "    <tr>\n",
       "      <th>13</th>\n",
       "      <td>sample 14</td>\n",
       "      <td>1.0</td>\n",
       "      <td>1.0</td>\n",
       "      <td>0.0</td>\n",
       "      <td>1</td>\n",
       "      <td>1</td>\n",
       "      <td>0</td>\n",
       "    </tr>\n",
       "    <tr>\n",
       "      <th>14</th>\n",
       "      <td>sample 15</td>\n",
       "      <td>0.0</td>\n",
       "      <td>1.0</td>\n",
       "      <td>1.0</td>\n",
       "      <td>0</td>\n",
       "      <td>1</td>\n",
       "      <td>1</td>\n",
       "    </tr>\n",
       "    <tr>\n",
       "      <th>15</th>\n",
       "      <td>sample 16</td>\n",
       "      <td>0.0</td>\n",
       "      <td>1.0</td>\n",
       "      <td>1.0</td>\n",
       "      <td>0</td>\n",
       "      <td>1</td>\n",
       "      <td>1</td>\n",
       "    </tr>\n",
       "    <tr>\n",
       "      <th>16</th>\n",
       "      <td>sample 17</td>\n",
       "      <td>0.0</td>\n",
       "      <td>1.0</td>\n",
       "      <td>1.0</td>\n",
       "      <td>0</td>\n",
       "      <td>1</td>\n",
       "      <td>1</td>\n",
       "    </tr>\n",
       "    <tr>\n",
       "      <th>17</th>\n",
       "      <td>sample 18</td>\n",
       "      <td>0.0</td>\n",
       "      <td>1.0</td>\n",
       "      <td>1.0</td>\n",
       "      <td>0</td>\n",
       "      <td>1</td>\n",
       "      <td>1</td>\n",
       "    </tr>\n",
       "    <tr>\n",
       "      <th>18</th>\n",
       "      <td>sample 19</td>\n",
       "      <td>1.0</td>\n",
       "      <td>0.0</td>\n",
       "      <td>1.0</td>\n",
       "      <td>1</td>\n",
       "      <td>0</td>\n",
       "      <td>1</td>\n",
       "    </tr>\n",
       "    <tr>\n",
       "      <th>19</th>\n",
       "      <td>sample 20</td>\n",
       "      <td>1.0</td>\n",
       "      <td>0.0</td>\n",
       "      <td>1.0</td>\n",
       "      <td>1</td>\n",
       "      <td>0</td>\n",
       "      <td>1</td>\n",
       "    </tr>\n",
       "  </tbody>\n",
       "</table>\n",
       "</div>"
      ],
      "text/plain": [
       "       sample  gas1  gas2  gas3  gas1_label  gas2_label  gas3_label\n",
       "0    sample 1   1.0   1.0   2.0           1           1           1\n",
       "1    sample 2   1.0   1.0   2.0           1           1           1\n",
       "2    sample 3   1.0   1.0   2.0           1           1           1\n",
       "3    sample 4   1.0   1.0   2.0           1           1           1\n",
       "4    sample 5   1.0   2.0   1.0           1           1           1\n",
       "5    sample 6   1.0   2.0   1.0           1           1           1\n",
       "6    sample 7   2.0   1.0   1.0           1           1           1\n",
       "7    sample 8   2.0   1.0   1.0           1           1           1\n",
       "8    sample 9   2.0   1.0   1.0           1           1           1\n",
       "9   sample 10   2.0   1.0   1.0           1           1           1\n",
       "10  sample 11   1.0   1.0   0.0           1           1           0\n",
       "11  sample 12   1.0   1.0   0.0           1           1           0\n",
       "12  sample 13   1.0   1.0   0.0           1           1           0\n",
       "13  sample 14   1.0   1.0   0.0           1           1           0\n",
       "14  sample 15   0.0   1.0   1.0           0           1           1\n",
       "15  sample 16   0.0   1.0   1.0           0           1           1\n",
       "16  sample 17   0.0   1.0   1.0           0           1           1\n",
       "17  sample 18   0.0   1.0   1.0           0           1           1\n",
       "18  sample 19   1.0   0.0   1.0           1           0           1\n",
       "19  sample 20   1.0   0.0   1.0           1           0           1"
      ]
     },
     "execution_count": 18,
     "metadata": {},
     "output_type": "execute_result"
    }
   ],
   "source": [
    "label.head(20)"
   ]
  },
  {
   "cell_type": "code",
   "execution_count": 19,
   "id": "22807bc8",
   "metadata": {},
   "outputs": [],
   "source": [
    "cols = ['gas1_label', 'gas2_label', 'gas3_label']\n",
    "label['one_hot'] = label[cols].values.tolist()"
   ]
  },
  {
   "cell_type": "code",
   "execution_count": 20,
   "id": "d536d4c2",
   "metadata": {},
   "outputs": [
    {
     "data": {
      "text/html": [
       "<div>\n",
       "<style scoped>\n",
       "    .dataframe tbody tr th:only-of-type {\n",
       "        vertical-align: middle;\n",
       "    }\n",
       "\n",
       "    .dataframe tbody tr th {\n",
       "        vertical-align: top;\n",
       "    }\n",
       "\n",
       "    .dataframe thead th {\n",
       "        text-align: right;\n",
       "    }\n",
       "</style>\n",
       "<table border=\"1\" class=\"dataframe\">\n",
       "  <thead>\n",
       "    <tr style=\"text-align: right;\">\n",
       "      <th></th>\n",
       "      <th>sample</th>\n",
       "      <th>gas1</th>\n",
       "      <th>gas2</th>\n",
       "      <th>gas3</th>\n",
       "      <th>gas1_label</th>\n",
       "      <th>gas2_label</th>\n",
       "      <th>gas3_label</th>\n",
       "      <th>one_hot</th>\n",
       "    </tr>\n",
       "  </thead>\n",
       "  <tbody>\n",
       "    <tr>\n",
       "      <th>0</th>\n",
       "      <td>sample 1</td>\n",
       "      <td>1.0</td>\n",
       "      <td>1.0</td>\n",
       "      <td>2.0</td>\n",
       "      <td>1</td>\n",
       "      <td>1</td>\n",
       "      <td>1</td>\n",
       "      <td>[1, 1, 1]</td>\n",
       "    </tr>\n",
       "    <tr>\n",
       "      <th>1</th>\n",
       "      <td>sample 2</td>\n",
       "      <td>1.0</td>\n",
       "      <td>1.0</td>\n",
       "      <td>2.0</td>\n",
       "      <td>1</td>\n",
       "      <td>1</td>\n",
       "      <td>1</td>\n",
       "      <td>[1, 1, 1]</td>\n",
       "    </tr>\n",
       "    <tr>\n",
       "      <th>2</th>\n",
       "      <td>sample 3</td>\n",
       "      <td>1.0</td>\n",
       "      <td>1.0</td>\n",
       "      <td>2.0</td>\n",
       "      <td>1</td>\n",
       "      <td>1</td>\n",
       "      <td>1</td>\n",
       "      <td>[1, 1, 1]</td>\n",
       "    </tr>\n",
       "    <tr>\n",
       "      <th>3</th>\n",
       "      <td>sample 4</td>\n",
       "      <td>1.0</td>\n",
       "      <td>1.0</td>\n",
       "      <td>2.0</td>\n",
       "      <td>1</td>\n",
       "      <td>1</td>\n",
       "      <td>1</td>\n",
       "      <td>[1, 1, 1]</td>\n",
       "    </tr>\n",
       "    <tr>\n",
       "      <th>4</th>\n",
       "      <td>sample 5</td>\n",
       "      <td>1.0</td>\n",
       "      <td>2.0</td>\n",
       "      <td>1.0</td>\n",
       "      <td>1</td>\n",
       "      <td>1</td>\n",
       "      <td>1</td>\n",
       "      <td>[1, 1, 1]</td>\n",
       "    </tr>\n",
       "  </tbody>\n",
       "</table>\n",
       "</div>"
      ],
      "text/plain": [
       "     sample  gas1  gas2  gas3  gas1_label  gas2_label  gas3_label    one_hot\n",
       "0  sample 1   1.0   1.0   2.0           1           1           1  [1, 1, 1]\n",
       "1  sample 2   1.0   1.0   2.0           1           1           1  [1, 1, 1]\n",
       "2  sample 3   1.0   1.0   2.0           1           1           1  [1, 1, 1]\n",
       "3  sample 4   1.0   1.0   2.0           1           1           1  [1, 1, 1]\n",
       "4  sample 5   1.0   2.0   1.0           1           1           1  [1, 1, 1]"
      ]
     },
     "execution_count": 20,
     "metadata": {},
     "output_type": "execute_result"
    }
   ],
   "source": [
    "label.head()"
   ]
  },
  {
   "cell_type": "code",
   "execution_count": 21,
   "id": "062e740f",
   "metadata": {},
   "outputs": [
    {
     "name": "stdout",
     "output_type": "stream",
     "text": [
      "98\n",
      "no.of total sample: 98\n"
     ]
    }
   ],
   "source": [
    "print(len(label['sample'].tolist()))\n",
    "print(\"no.of total sample: {}\".format(len(label['sample'].tolist())))"
   ]
  },
  {
   "cell_type": "code",
   "execution_count": 22,
   "id": "22b2de99",
   "metadata": {},
   "outputs": [],
   "source": [
    "train_sample = random.sample(label['sample'].tolist(), int(98 * 0.8))\n",
    "test_sample = list(set(label['sample'].tolist()).difference(set(train_sample)))"
   ]
  },
  {
   "cell_type": "code",
   "execution_count": 23,
   "id": "86c6f8f9",
   "metadata": {},
   "outputs": [
    {
     "name": "stdout",
     "output_type": "stream",
     "text": [
      "['sample 7', 'sample 35', 'sample 12', 'sample 53', 'sample 97', 'sample 14', 'sample 5', 'sample 49', 'sample 69', 'sample 72', 'sample 43', 'sample 44', 'sample 98', 'sample 21', 'sample 18', 'sample 87', 'sample 89', 'sample 88', 'sample 32', 'sample 85', 'sample 1', 'sample 56', 'sample 96', 'sample 91', 'sample 9', 'sample 78', 'sample 41', 'sample 58', 'sample 93', 'sample 6', 'sample 76', 'sample 19', 'sample 17', 'sample 3', 'sample 38', 'sample 59', 'sample 28', 'sample 37', 'sample 31', 'sample 66', 'sample 60', 'sample 54', 'sample 65', 'sample 50', 'sample 20', 'sample 22', 'sample 34', 'sample 71', 'sample 70', 'sample 39', 'sample 82', 'sample 52', 'sample 61', 'sample 79', 'sample 73', 'sample 26', 'sample 42', 'sample 33', 'sample 62', 'sample 94', 'sample 80', 'sample 47', 'sample 27', 'sample 24', 'sample 48', 'sample 77', 'sample 68', 'sample 75', 'sample 36', 'sample 46', 'sample 16', 'sample 95', 'sample 74', 'sample 90', 'sample 11', 'sample 51', 'sample 84', 'sample 13']\n"
     ]
    }
   ],
   "source": [
    "print(train_sample)"
   ]
  },
  {
   "cell_type": "code",
   "execution_count": 24,
   "id": "90ab536d",
   "metadata": {},
   "outputs": [
    {
     "name": "stdout",
     "output_type": "stream",
     "text": [
      "['sample 63', 'sample 57', 'sample 40', 'sample 83', 'sample 64', 'sample 8', 'sample 92', 'sample 10', 'sample 2', 'sample 67', 'sample 15', 'sample 30', 'sample 23', 'sample 29', 'sample 81', 'sample 45', 'sample 55', 'sample 86', 'sample 25', 'sample 4']\n"
     ]
    }
   ],
   "source": [
    "print(test_sample)"
   ]
  },
  {
   "cell_type": "code",
   "execution_count": 25,
   "id": "6eff5b21",
   "metadata": {},
   "outputs": [
    {
     "name": "stdout",
     "output_type": "stream",
     "text": [
      "no. fo train sample:  78\n",
      "no. fo test sample:  20\n"
     ]
    }
   ],
   "source": [
    "print(\"no. fo train sample: \", len(train_sample))\n",
    "print(\"no. fo test sample: \", len(test_sample))"
   ]
  },
  {
   "cell_type": "code",
   "execution_count": 26,
   "id": "96f941b7",
   "metadata": {},
   "outputs": [
    {
     "name": "stderr",
     "output_type": "stream",
     "text": [
      "78it [00:21,  3.69it/s]\n"
     ]
    }
   ],
   "source": [
    "for idx, sheet in tqdm(enumerate(train_sample)):\n",
    "    tmp_sheet = pd.read_excel(r'E:\\ML\\input\\ai nova\\강의_데이터 전처리_part 3\\sensor_data.xlsx', sheet_name=sheet)\n",
    "    if idx == 0:\n",
    "        train_df = tmp_sheet \n",
    "    else:\n",
    "        train_df = train_df.append(tmp_sheet)"
   ]
  },
  {
   "cell_type": "code",
   "execution_count": 27,
   "id": "6d410bd1",
   "metadata": {},
   "outputs": [
    {
     "name": "stderr",
     "output_type": "stream",
     "text": [
      "20it [00:05,  3.88it/s]\n"
     ]
    }
   ],
   "source": [
    "for idx, sheet in tqdm(enumerate(test_sample)):\n",
    "    tmp_sheet = pd.read_excel(r'E:\\ML\\input\\ai nova\\강의_데이터 전처리_part 3\\sensor_data.xlsx', sheet_name=sheet)\n",
    "    if idx == 0:\n",
    "        test_df = tmp_sheet \n",
    "    else:\n",
    "        test_df = test_df.append(tmp_sheet)"
   ]
  },
  {
   "cell_type": "code",
   "execution_count": 28,
   "id": "9914dc26",
   "metadata": {},
   "outputs": [
    {
     "data": {
      "text/plain": [
       "StandardScaler()"
      ]
     },
     "execution_count": 28,
     "metadata": {},
     "output_type": "execute_result"
    }
   ],
   "source": [
    "mms_tr = MinMaxScaler()\n",
    "mms_tr.fit(train_df)\n",
    "\n",
    "zscore_tr = StandardScaler()\n",
    "zscore_tr.fit(train_df)"
   ]
  },
  {
   "cell_type": "code",
   "execution_count": 29,
   "id": "e5016905",
   "metadata": {},
   "outputs": [
    {
     "data": {
      "text/plain": [
       "StandardScaler()"
      ]
     },
     "execution_count": 29,
     "metadata": {},
     "output_type": "execute_result"
    }
   ],
   "source": [
    "mms_te = MinMaxScaler()\n",
    "mms_te.fit(test_df)\n",
    "\n",
    "zscore_te = StandardScaler()\n",
    "zscore_te.fit(test_df)"
   ]
  },
  {
   "cell_type": "code",
   "execution_count": 31,
   "id": "00c32f26",
   "metadata": {},
   "outputs": [],
   "source": [
    "time_lag = 30"
   ]
  },
  {
   "cell_type": "code",
   "execution_count": 32,
   "id": "8a78ad19",
   "metadata": {},
   "outputs": [],
   "source": [
    "def making_data(sensor_data, time_lag, scaler = mms_tr, normalize = 'minmax'):\n",
    "    total_data = []\n",
    "    sensor_data = sensor_data.values\n",
    "    \n",
    "    if normalize == 'minmax':\n",
    "        sensor_data = scaler.transform(sensor_data)\n",
    "    else:\n",
    "        sensor_data = scaler.transform(sensor_data)\n",
    "        \n",
    "    for i in range(len(sensor_data) - time_lag + 1):\n",
    "        tmp_data = sensor_data[i:i+time_lag]\n",
    "        total_data.append(tmp_data)\n",
    "        \n",
    "    total_data = np.array(total_data)\n",
    "    return total_data"
   ]
  },
  {
   "cell_type": "code",
   "execution_count": 33,
   "id": "10572b4d",
   "metadata": {},
   "outputs": [
    {
     "data": {
      "text/plain": [
       "(57, 13)"
      ]
     },
     "execution_count": 33,
     "metadata": {},
     "output_type": "execute_result"
    }
   ],
   "source": [
    "sensor_data_81.shape"
   ]
  },
  {
   "cell_type": "code",
   "execution_count": 34,
   "id": "e17c0d96",
   "metadata": {},
   "outputs": [
    {
     "data": {
      "text/plain": [
       "(28, 30, 13)"
      ]
     },
     "execution_count": 34,
     "metadata": {},
     "output_type": "execute_result"
    }
   ],
   "source": [
    "sensor_data_split_81 = making_data(sensor_data_81, time_lag)\n",
    "sensor_data_split_81.shape"
   ]
  },
  {
   "cell_type": "code",
   "execution_count": 35,
   "id": "e10b7b92",
   "metadata": {},
   "outputs": [
    {
     "data": {
      "text/plain": [
       "[0, 1, 1]"
      ]
     },
     "execution_count": 35,
     "metadata": {},
     "output_type": "execute_result"
    }
   ],
   "source": [
    "label.loc[label['sample'] == 'sample 81', 'one_hot'].item()"
   ]
  },
  {
   "cell_type": "code",
   "execution_count": 36,
   "id": "8de5b343",
   "metadata": {},
   "outputs": [
    {
     "data": {
      "text/html": [
       "<div>\n",
       "<style scoped>\n",
       "    .dataframe tbody tr th:only-of-type {\n",
       "        vertical-align: middle;\n",
       "    }\n",
       "\n",
       "    .dataframe tbody tr th {\n",
       "        vertical-align: top;\n",
       "    }\n",
       "\n",
       "    .dataframe thead th {\n",
       "        text-align: right;\n",
       "    }\n",
       "</style>\n",
       "<table border=\"1\" class=\"dataframe\">\n",
       "  <thead>\n",
       "    <tr style=\"text-align: right;\">\n",
       "      <th></th>\n",
       "      <th>sample</th>\n",
       "      <th>gas1</th>\n",
       "      <th>gas2</th>\n",
       "      <th>gas3</th>\n",
       "      <th>gas1_label</th>\n",
       "      <th>gas2_label</th>\n",
       "      <th>gas3_label</th>\n",
       "      <th>one_hot</th>\n",
       "    </tr>\n",
       "  </thead>\n",
       "  <tbody>\n",
       "    <tr>\n",
       "      <th>78</th>\n",
       "      <td>sample 79</td>\n",
       "      <td>0.0</td>\n",
       "      <td>0.5</td>\n",
       "      <td>2.0</td>\n",
       "      <td>0</td>\n",
       "      <td>1</td>\n",
       "      <td>1</td>\n",
       "      <td>[0, 1, 1]</td>\n",
       "    </tr>\n",
       "    <tr>\n",
       "      <th>79</th>\n",
       "      <td>sample 80</td>\n",
       "      <td>0.0</td>\n",
       "      <td>0.5</td>\n",
       "      <td>2.0</td>\n",
       "      <td>0</td>\n",
       "      <td>1</td>\n",
       "      <td>1</td>\n",
       "      <td>[0, 1, 1]</td>\n",
       "    </tr>\n",
       "    <tr>\n",
       "      <th>80</th>\n",
       "      <td>sample 81</td>\n",
       "      <td>0.0</td>\n",
       "      <td>0.5</td>\n",
       "      <td>2.0</td>\n",
       "      <td>0</td>\n",
       "      <td>1</td>\n",
       "      <td>1</td>\n",
       "      <td>[0, 1, 1]</td>\n",
       "    </tr>\n",
       "    <tr>\n",
       "      <th>81</th>\n",
       "      <td>sample 82</td>\n",
       "      <td>0.0</td>\n",
       "      <td>0.5</td>\n",
       "      <td>1.0</td>\n",
       "      <td>0</td>\n",
       "      <td>1</td>\n",
       "      <td>1</td>\n",
       "      <td>[0, 1, 1]</td>\n",
       "    </tr>\n",
       "    <tr>\n",
       "      <th>82</th>\n",
       "      <td>sample 83</td>\n",
       "      <td>0.0</td>\n",
       "      <td>0.5</td>\n",
       "      <td>1.0</td>\n",
       "      <td>0</td>\n",
       "      <td>1</td>\n",
       "      <td>1</td>\n",
       "      <td>[0, 1, 1]</td>\n",
       "    </tr>\n",
       "    <tr>\n",
       "      <th>83</th>\n",
       "      <td>sample 84</td>\n",
       "      <td>0.0</td>\n",
       "      <td>0.5</td>\n",
       "      <td>1.0</td>\n",
       "      <td>0</td>\n",
       "      <td>1</td>\n",
       "      <td>1</td>\n",
       "      <td>[0, 1, 1]</td>\n",
       "    </tr>\n",
       "    <tr>\n",
       "      <th>84</th>\n",
       "      <td>sample 85</td>\n",
       "      <td>0.0</td>\n",
       "      <td>0.5</td>\n",
       "      <td>1.0</td>\n",
       "      <td>0</td>\n",
       "      <td>1</td>\n",
       "      <td>1</td>\n",
       "      <td>[0, 1, 1]</td>\n",
       "    </tr>\n",
       "    <tr>\n",
       "      <th>85</th>\n",
       "      <td>sample 86</td>\n",
       "      <td>0.0</td>\n",
       "      <td>0.5</td>\n",
       "      <td>2.0</td>\n",
       "      <td>0</td>\n",
       "      <td>1</td>\n",
       "      <td>1</td>\n",
       "      <td>[0, 1, 1]</td>\n",
       "    </tr>\n",
       "    <tr>\n",
       "      <th>86</th>\n",
       "      <td>sample 87</td>\n",
       "      <td>0.0</td>\n",
       "      <td>0.5</td>\n",
       "      <td>2.0</td>\n",
       "      <td>0</td>\n",
       "      <td>1</td>\n",
       "      <td>1</td>\n",
       "      <td>[0, 1, 1]</td>\n",
       "    </tr>\n",
       "    <tr>\n",
       "      <th>87</th>\n",
       "      <td>sample 88</td>\n",
       "      <td>1.0</td>\n",
       "      <td>0.5</td>\n",
       "      <td>2.0</td>\n",
       "      <td>1</td>\n",
       "      <td>1</td>\n",
       "      <td>1</td>\n",
       "      <td>[1, 1, 1]</td>\n",
       "    </tr>\n",
       "    <tr>\n",
       "      <th>88</th>\n",
       "      <td>sample 89</td>\n",
       "      <td>1.0</td>\n",
       "      <td>0.5</td>\n",
       "      <td>2.0</td>\n",
       "      <td>1</td>\n",
       "      <td>1</td>\n",
       "      <td>1</td>\n",
       "      <td>[1, 1, 1]</td>\n",
       "    </tr>\n",
       "    <tr>\n",
       "      <th>89</th>\n",
       "      <td>sample 90</td>\n",
       "      <td>1.0</td>\n",
       "      <td>0.5</td>\n",
       "      <td>2.0</td>\n",
       "      <td>1</td>\n",
       "      <td>1</td>\n",
       "      <td>1</td>\n",
       "      <td>[1, 1, 1]</td>\n",
       "    </tr>\n",
       "    <tr>\n",
       "      <th>90</th>\n",
       "      <td>sample 91</td>\n",
       "      <td>1.0</td>\n",
       "      <td>0.5</td>\n",
       "      <td>2.0</td>\n",
       "      <td>1</td>\n",
       "      <td>1</td>\n",
       "      <td>1</td>\n",
       "      <td>[1, 1, 1]</td>\n",
       "    </tr>\n",
       "    <tr>\n",
       "      <th>91</th>\n",
       "      <td>sample 92</td>\n",
       "      <td>2.0</td>\n",
       "      <td>0.5</td>\n",
       "      <td>1.0</td>\n",
       "      <td>1</td>\n",
       "      <td>1</td>\n",
       "      <td>1</td>\n",
       "      <td>[1, 1, 1]</td>\n",
       "    </tr>\n",
       "    <tr>\n",
       "      <th>92</th>\n",
       "      <td>sample 93</td>\n",
       "      <td>2.0</td>\n",
       "      <td>0.5</td>\n",
       "      <td>1.0</td>\n",
       "      <td>1</td>\n",
       "      <td>1</td>\n",
       "      <td>1</td>\n",
       "      <td>[1, 1, 1]</td>\n",
       "    </tr>\n",
       "    <tr>\n",
       "      <th>93</th>\n",
       "      <td>sample 94</td>\n",
       "      <td>2.0</td>\n",
       "      <td>0.5</td>\n",
       "      <td>1.0</td>\n",
       "      <td>1</td>\n",
       "      <td>1</td>\n",
       "      <td>1</td>\n",
       "      <td>[1, 1, 1]</td>\n",
       "    </tr>\n",
       "    <tr>\n",
       "      <th>94</th>\n",
       "      <td>sample 95</td>\n",
       "      <td>2.0</td>\n",
       "      <td>0.5</td>\n",
       "      <td>1.0</td>\n",
       "      <td>1</td>\n",
       "      <td>1</td>\n",
       "      <td>1</td>\n",
       "      <td>[1, 1, 1]</td>\n",
       "    </tr>\n",
       "    <tr>\n",
       "      <th>95</th>\n",
       "      <td>sample 96</td>\n",
       "      <td>0.5</td>\n",
       "      <td>0.5</td>\n",
       "      <td>2.0</td>\n",
       "      <td>1</td>\n",
       "      <td>1</td>\n",
       "      <td>1</td>\n",
       "      <td>[1, 1, 1]</td>\n",
       "    </tr>\n",
       "    <tr>\n",
       "      <th>96</th>\n",
       "      <td>sample 97</td>\n",
       "      <td>0.5</td>\n",
       "      <td>0.5</td>\n",
       "      <td>2.0</td>\n",
       "      <td>1</td>\n",
       "      <td>1</td>\n",
       "      <td>1</td>\n",
       "      <td>[1, 1, 1]</td>\n",
       "    </tr>\n",
       "    <tr>\n",
       "      <th>97</th>\n",
       "      <td>sample 98</td>\n",
       "      <td>0.5</td>\n",
       "      <td>0.5</td>\n",
       "      <td>2.0</td>\n",
       "      <td>1</td>\n",
       "      <td>1</td>\n",
       "      <td>1</td>\n",
       "      <td>[1, 1, 1]</td>\n",
       "    </tr>\n",
       "  </tbody>\n",
       "</table>\n",
       "</div>"
      ],
      "text/plain": [
       "       sample  gas1  gas2  gas3  gas1_label  gas2_label  gas3_label    one_hot\n",
       "78  sample 79   0.0   0.5   2.0           0           1           1  [0, 1, 1]\n",
       "79  sample 80   0.0   0.5   2.0           0           1           1  [0, 1, 1]\n",
       "80  sample 81   0.0   0.5   2.0           0           1           1  [0, 1, 1]\n",
       "81  sample 82   0.0   0.5   1.0           0           1           1  [0, 1, 1]\n",
       "82  sample 83   0.0   0.5   1.0           0           1           1  [0, 1, 1]\n",
       "83  sample 84   0.0   0.5   1.0           0           1           1  [0, 1, 1]\n",
       "84  sample 85   0.0   0.5   1.0           0           1           1  [0, 1, 1]\n",
       "85  sample 86   0.0   0.5   2.0           0           1           1  [0, 1, 1]\n",
       "86  sample 87   0.0   0.5   2.0           0           1           1  [0, 1, 1]\n",
       "87  sample 88   1.0   0.5   2.0           1           1           1  [1, 1, 1]\n",
       "88  sample 89   1.0   0.5   2.0           1           1           1  [1, 1, 1]\n",
       "89  sample 90   1.0   0.5   2.0           1           1           1  [1, 1, 1]\n",
       "90  sample 91   1.0   0.5   2.0           1           1           1  [1, 1, 1]\n",
       "91  sample 92   2.0   0.5   1.0           1           1           1  [1, 1, 1]\n",
       "92  sample 93   2.0   0.5   1.0           1           1           1  [1, 1, 1]\n",
       "93  sample 94   2.0   0.5   1.0           1           1           1  [1, 1, 1]\n",
       "94  sample 95   2.0   0.5   1.0           1           1           1  [1, 1, 1]\n",
       "95  sample 96   0.5   0.5   2.0           1           1           1  [1, 1, 1]\n",
       "96  sample 97   0.5   0.5   2.0           1           1           1  [1, 1, 1]\n",
       "97  sample 98   0.5   0.5   2.0           1           1           1  [1, 1, 1]"
      ]
     },
     "execution_count": 36,
     "metadata": {},
     "output_type": "execute_result"
    }
   ],
   "source": [
    "label.tail(20)"
   ]
  },
  {
   "cell_type": "code",
   "execution_count": 37,
   "id": "7ce3ca6c",
   "metadata": {},
   "outputs": [
    {
     "name": "stderr",
     "output_type": "stream",
     "text": [
      "100%|██████████████████████████████████████████████████████████████████████████████████| 78/78 [00:19<00:00,  3.98it/s]\n"
     ]
    }
   ],
   "source": [
    "train_data = np.empty((0, time_lag, 13, 1), float)\n",
    "train_y1 = []\n",
    "train_y2 = []\n",
    "train_y3 = []\n",
    "\n",
    "for tr_sample in tqdm(train_sample):\n",
    "    tmp_data = pd.read_excel(r'E:\\ML\\input\\ai nova\\강의_데이터 전처리_part 3\\sensor_data.xlsx', sheet_name=tr_sample)\n",
    "    tmp_result = making_data(tmp_data, time_lag, scaler=mms_tr, normalize='minmax')\n",
    "    tmp_result = tmp_result.reshape(len(tmp_result), time_lag, 13, 1)\n",
    "    train_data = np.append(train_data, tmp_result, axis=0)\n",
    "    one_hot = label.loc[label['sample'] == tr_sample, 'one_hot'].item()\n",
    "    \n",
    "    for i in range(tmp_result.shape[0]):\n",
    "        train_y1.append(one_hot[0])\n",
    "        train_y2.append(one_hot[1])\n",
    "        train_y3.append(one_hot[2])    "
   ]
  },
  {
   "cell_type": "code",
   "execution_count": 38,
   "id": "5b012de8",
   "metadata": {},
   "outputs": [],
   "source": [
    "train_X = np.array(train_data)\n",
    "train_y1 = np.array(train_y1)\n",
    "train_y2 = np.array(train_y2)\n",
    "train_y3 = np.array(train_y3)"
   ]
  },
  {
   "cell_type": "code",
   "execution_count": 39,
   "id": "2978ca00",
   "metadata": {},
   "outputs": [
    {
     "data": {
      "text/plain": [
       "((3083, 30, 13, 1), (3083,), (3083,), (3083,))"
      ]
     },
     "execution_count": 39,
     "metadata": {},
     "output_type": "execute_result"
    }
   ],
   "source": [
    "train_X.shape, train_y1.shape, train_y2.shape, train_y3.shape"
   ]
  },
  {
   "cell_type": "code",
   "execution_count": 40,
   "id": "36af96b8",
   "metadata": {},
   "outputs": [
    {
     "name": "stderr",
     "output_type": "stream",
     "text": [
      "100%|██████████████████████████████████████████████████████████████████████████████████| 20/20 [00:05<00:00,  3.98it/s]\n"
     ]
    }
   ],
   "source": [
    "test_data = np.empty((0, time_lag, 13, 1), float)\n",
    "test_y1 = []\n",
    "test_y2 = []\n",
    "test_y3 = []\n",
    "\n",
    "for ts in tqdm(test_sample):\n",
    "    tmp_data = pd.read_excel(r'E:\\ML\\input\\ai nova\\강의_데이터 전처리_part 3\\sensor_data.xlsx', sheet_name=ts)\n",
    "    tmp_result = making_data(tmp_data, time_lag, scaler=mms_te, normalize='minmax')\n",
    "    tmp_result = tmp_result.reshape(len(tmp_result), time_lag, 13, 1)\n",
    "    test_data = np.append(test_data, tmp_result, axis=0)\n",
    "    one_hot = label.loc[label['sample'] == ts, 'one_hot'].item()\n",
    "    \n",
    "    for i in range(tmp_result.shape[0]):\n",
    "        test_y1.append(one_hot[0])\n",
    "        test_y2.append(one_hot[1])\n",
    "        test_y3.append(one_hot[2])    "
   ]
  },
  {
   "cell_type": "code",
   "execution_count": 41,
   "id": "f8c5d13c",
   "metadata": {},
   "outputs": [],
   "source": [
    "test_X = np.array(test_data)\n",
    "test_y1 = np.array(test_y1)\n",
    "test_y2 = np.array(test_y2)\n",
    "test_y3 = np.array(test_y3)"
   ]
  },
  {
   "cell_type": "code",
   "execution_count": 42,
   "id": "41c83de0",
   "metadata": {},
   "outputs": [
    {
     "data": {
      "text/plain": [
       "((742, 30, 13, 1), (742,), (742,), (742,))"
      ]
     },
     "execution_count": 42,
     "metadata": {},
     "output_type": "execute_result"
    }
   ],
   "source": [
    "test_X.shape, test_y1.shape, test_y2.shape, test_y3.shape"
   ]
  },
  {
   "cell_type": "markdown",
   "id": "336bf2c1",
   "metadata": {},
   "source": [
    "## KERAS CNN Model "
   ]
  },
  {
   "cell_type": "code",
   "execution_count": 43,
   "id": "58c70966",
   "metadata": {},
   "outputs": [],
   "source": [
    "from tensorflow.keras.metrics import AUC, Precision, Recall\n",
    "from tensorflow.keras.callbacks import EarlyStopping, Callback"
   ]
  },
  {
   "cell_type": "code",
   "execution_count": 44,
   "id": "033b1884",
   "metadata": {},
   "outputs": [],
   "source": [
    "tf.random.set_seed(777)"
   ]
  },
  {
   "cell_type": "code",
   "execution_count": 45,
   "id": "e557d1fc",
   "metadata": {},
   "outputs": [],
   "source": [
    "epochs = 100\n",
    "lr = 0.002\n",
    "batch_size = 64"
   ]
  },
  {
   "cell_type": "markdown",
   "id": "4b726870",
   "metadata": {},
   "source": [
    "$$output = \\frac{input - kernel size + (2 \\times padding)}{stride} + 1$$\n",
    "\n",
    "input dimension = batch_size, data_shape, channel  \n",
    "\n",
    "channel의 경우에는 보통 이미지 분석 시에 RGB값이 들어가는 자리이므로 현재 분석에서는 사용하지 않음\n",
    "\n",
    "input dimension = (batch_size, 30, 13, 1)\n",
    "\n",
    "+ padding을 추가하지 않았을 때\n",
    "    + [{30 - 3 + (2 * 0) } / 1 ]  + 1 = 27\n",
    "    + [{13 - 3 + (2 * 0) } / 1 ]  + 1 = 11\n",
    "\n",
    "+ padding 추가 시\n",
    "    + [{30 - 3 + (2 * 1) } / 1 ]  + 1 = 30\n",
    "    + [{13 - 3 + (2 * 1) } / 1 ]  + 1 = 13"
   ]
  },
  {
   "cell_type": "code",
   "execution_count": 51,
   "id": "c8b9b048",
   "metadata": {},
   "outputs": [],
   "source": [
    "models = Sequential([\n",
    "    layers.Conv2D(32, (3,3), padding='same', activation='relu', input_shape=(time_lag,13,1)),\n",
    "    layers.MaxPool2D((2,2)),\n",
    "    layers.Conv2D(64, (3,3), padding='same', activation='relu'),\n",
    "    layers.MaxPool2D((2,2)),\n",
    "    layers.Conv2D(64, (3,3), padding='same', activation='relu'),\n",
    "    layers.Flatten(),\n",
    "    layers.Dense(64, activation='relu'),\n",
    "    layers.Dense(1, activation='sigmoid')\n",
    "])"
   ]
  },
  {
   "cell_type": "code",
   "execution_count": 52,
   "id": "08fa4cfd",
   "metadata": {},
   "outputs": [
    {
     "name": "stdout",
     "output_type": "stream",
     "text": [
      "Model: \"sequential\"\n",
      "_________________________________________________________________\n",
      "Layer (type)                 Output Shape              Param #   \n",
      "=================================================================\n",
      "conv2d (Conv2D)              (None, 30, 13, 32)        320       \n",
      "_________________________________________________________________\n",
      "max_pooling2d (MaxPooling2D) (None, 15, 6, 32)         0         \n",
      "_________________________________________________________________\n",
      "conv2d_1 (Conv2D)            (None, 15, 6, 64)         18496     \n",
      "_________________________________________________________________\n",
      "max_pooling2d_1 (MaxPooling2 (None, 7, 3, 64)          0         \n",
      "_________________________________________________________________\n",
      "conv2d_2 (Conv2D)            (None, 7, 3, 64)          36928     \n",
      "_________________________________________________________________\n",
      "flatten (Flatten)            (None, 1344)              0         \n",
      "_________________________________________________________________\n",
      "dense (Dense)                (None, 64)                86080     \n",
      "_________________________________________________________________\n",
      "dense_1 (Dense)              (None, 1)                 65        \n",
      "=================================================================\n",
      "Total params: 141,889\n",
      "Trainable params: 141,889\n",
      "Non-trainable params: 0\n",
      "_________________________________________________________________\n"
     ]
    }
   ],
   "source": [
    "model.summary()"
   ]
  },
  {
   "cell_type": "code",
   "execution_count": 53,
   "id": "fa270969",
   "metadata": {},
   "outputs": [],
   "source": [
    "precision = Precision()\n",
    "recall = Recall()\n",
    "early_stopping = EarlyStopping(monitor='loss', verbose=1, patience=3, min_delta=0.001)"
   ]
  },
  {
   "cell_type": "code",
   "execution_count": 54,
   "id": "38a2831f",
   "metadata": {},
   "outputs": [],
   "source": [
    "models.compile(optimizer='adam', \n",
    "             loss='binary_crossentropy',\n",
    "             metrics=['accuracy', precision, recall])"
   ]
  },
  {
   "cell_type": "code",
   "execution_count": 55,
   "id": "9f5f54e8",
   "metadata": {},
   "outputs": [
    {
     "name": "stdout",
     "output_type": "stream",
     "text": [
      "Epoch 1/100\n",
      "49/49 [==============================] - 7s 11ms/step - loss: 0.3415 - accuracy: 0.8871 - precision_1: 0.9049 - recall_1: 0.9782\n",
      "Epoch 2/100\n",
      "49/49 [==============================] - 0s 6ms/step - loss: 0.2256 - accuracy: 0.9072 - precision_1: 0.9087 - recall_1: 0.9979\n",
      "Epoch 3/100\n",
      "49/49 [==============================] - 0s 6ms/step - loss: 0.1344 - accuracy: 0.9465 - precision_1: 0.9588 - recall_1: 0.9832\n",
      "Epoch 4/100\n",
      "49/49 [==============================] - 0s 6ms/step - loss: 0.0983 - accuracy: 0.9617 - precision_1: 0.9768 - recall_1: 0.9810\n",
      "Epoch 5/100\n",
      "49/49 [==============================] - 0s 6ms/step - loss: 0.0377 - accuracy: 0.9877 - precision_1: 0.9904 - recall_1: 0.9961\n",
      "Epoch 6/100\n",
      "49/49 [==============================] - 0s 6ms/step - loss: 0.0186 - accuracy: 0.9951 - precision_1: 0.9968 - recall_1: 0.9979\n",
      "Epoch 7/100\n",
      "49/49 [==============================] - 0s 6ms/step - loss: 0.0104 - accuracy: 0.9974 - precision_1: 0.9986 - recall_1: 0.9986\n",
      "Epoch 8/100\n",
      "49/49 [==============================] - 0s 6ms/step - loss: 0.0077 - accuracy: 0.9984 - precision_1: 0.9989 - recall_1: 0.9993\n",
      "Epoch 9/100\n",
      "49/49 [==============================] - 0s 6ms/step - loss: 0.0129 - accuracy: 0.9951 - precision_1: 0.9968 - recall_1: 0.9979\n",
      "Epoch 10/100\n",
      "49/49 [==============================] - 0s 6ms/step - loss: 0.0184 - accuracy: 0.9916 - precision_1: 0.9953 - recall_1: 0.9953\n",
      "Epoch 11/100\n",
      "49/49 [==============================] - 0s 6ms/step - loss: 0.0034 - accuracy: 0.9997 - precision_1: 1.0000 - recall_1: 0.9996\n",
      "Epoch 12/100\n",
      "49/49 [==============================] - 0s 6ms/step - loss: 0.0026 - accuracy: 0.9997 - precision_1: 0.9996 - recall_1: 1.0000\n",
      "Epoch 13/100\n",
      "49/49 [==============================] - 0s 6ms/step - loss: 0.0014 - accuracy: 0.9997 - precision_1: 0.9996 - recall_1: 1.0000\n",
      "Epoch 14/100\n",
      "49/49 [==============================] - 0s 6ms/step - loss: 0.0011 - accuracy: 0.9997 - precision_1: 1.0000 - recall_1: 0.9996\n",
      "Epoch 15/100\n",
      "49/49 [==============================] - 0s 6ms/step - loss: 0.0023 - accuracy: 0.9990 - precision_1: 0.9996 - recall_1: 0.9993\n",
      "Epoch 16/100\n",
      "49/49 [==============================] - 0s 6ms/step - loss: 9.1987e-04 - accuracy: 1.0000 - precision_1: 1.0000 - recall_1: 1.0000\n",
      "Epoch 00016: early stopping\n"
     ]
    }
   ],
   "source": [
    "history = models.fit(train_X, train_y1, epochs=epochs, batch_size=batch_size, callbacks=[early_stopping])"
   ]
  },
  {
   "cell_type": "code",
   "execution_count": 56,
   "id": "d672bd04",
   "metadata": {},
   "outputs": [
    {
     "name": "stdout",
     "output_type": "stream",
     "text": [
      "24/24 [==============================] - 0s 6ms/step - loss: 0.6043 - accuracy: 0.9420 - precision_1: 0.9356 - recall_1: 1.0000\n"
     ]
    },
    {
     "data": {
      "text/plain": [
       "[0.6043336987495422, 0.9420484900474548, 0.9356287717819214, 1.0]"
      ]
     },
     "execution_count": 56,
     "metadata": {},
     "output_type": "execute_result"
    }
   ],
   "source": [
    "models.evaluate(test_X, test_y1)"
   ]
  },
  {
   "cell_type": "code",
   "execution_count": 59,
   "id": "817bc682",
   "metadata": {},
   "outputs": [],
   "source": [
    "y_pred_prob = models.predict(test_X)"
   ]
  },
  {
   "cell_type": "code",
   "execution_count": 61,
   "id": "a6387453",
   "metadata": {},
   "outputs": [],
   "source": [
    "y_pred = (y_pred_prob.squeeze() > 0.5).astype('int').tolist()"
   ]
  },
  {
   "cell_type": "code",
   "execution_count": 63,
   "id": "487a663a",
   "metadata": {},
   "outputs": [],
   "source": [
    "from sklearn.metrics import (accuracy_score, \n",
    "                             precision_score, \n",
    "                             recall_score, \n",
    "                             f1_score,\n",
    "                             roc_curve,\n",
    "                             confusion_matrix,\n",
    "                             auc)"
   ]
  },
  {
   "cell_type": "code",
   "execution_count": 64,
   "id": "2321c763",
   "metadata": {},
   "outputs": [
    {
     "data": {
      "text/plain": [
       "array([[ 74,  43],\n",
       "       [  0, 625]], dtype=int64)"
      ]
     },
     "execution_count": 64,
     "metadata": {},
     "output_type": "execute_result"
    }
   ],
   "source": [
    "confusion_matrix(test_y1, y_pred)"
   ]
  },
  {
   "cell_type": "code",
   "execution_count": 65,
   "id": "0a7b6574",
   "metadata": {},
   "outputs": [
    {
     "data": {
      "text/plain": [
       "0.9420485175202157"
      ]
     },
     "execution_count": 65,
     "metadata": {},
     "output_type": "execute_result"
    }
   ],
   "source": [
    "accuracy_score(test_y1, y_pred)"
   ]
  },
  {
   "cell_type": "code",
   "execution_count": 66,
   "id": "b1a78f35",
   "metadata": {},
   "outputs": [
    {
     "data": {
      "text/plain": [
       "0.9356287425149701"
      ]
     },
     "execution_count": 66,
     "metadata": {},
     "output_type": "execute_result"
    }
   ],
   "source": [
    "precision_score(test_y1, y_pred)"
   ]
  },
  {
   "cell_type": "code",
   "execution_count": 67,
   "id": "1dafeab5",
   "metadata": {},
   "outputs": [
    {
     "data": {
      "text/plain": [
       "1.0"
      ]
     },
     "execution_count": 67,
     "metadata": {},
     "output_type": "execute_result"
    }
   ],
   "source": [
    "recall_score(test_y1, y_pred)"
   ]
  },
  {
   "cell_type": "code",
   "execution_count": 68,
   "id": "9cb90717",
   "metadata": {},
   "outputs": [
    {
     "data": {
      "text/plain": [
       "0.9667440061871616"
      ]
     },
     "execution_count": 68,
     "metadata": {},
     "output_type": "execute_result"
    }
   ],
   "source": [
    "f1_score(test_y1, y_pred)"
   ]
  },
  {
   "cell_type": "code",
   "execution_count": 69,
   "id": "4711fc7b",
   "metadata": {},
   "outputs": [],
   "source": [
    "fpr, tpr, thresholds = roc_curve(test_y1, y_pred_prob)\n",
    "roc_auc = auc(fpr, tpr)"
   ]
  },
  {
   "cell_type": "code",
   "execution_count": 70,
   "id": "5e399c46",
   "metadata": {},
   "outputs": [
    {
     "data": {
      "image/png": "[encoded data removed]",
      "text/plain": [
       "<Figure size 720x576 with 1 Axes>"
      ]
     },
     "metadata": {
      "needs_background": "light"
     },
     "output_type": "display_data"
    }
   ],
   "source": [
    "plt.figure(figsize=(10,8))\n",
    "plt.plot(fpr, tpr, 'b', label = 'AUC = %0.4f' % roc_auc)\n",
    "plt.legend(loc = 'lower right')\n",
    "plt.plot([0, 1], [0, 1],'r--')\n",
    "plt.xlim([0, 1])\n",
    "plt.ylim([0, 1])\n",
    "plt.fill_between(fpr, tpr, alpha=0.3)\n",
    "plt.title(\"ROC curve\")\n",
    "plt.ylabel('True Positive Rate')\n",
    "plt.xlabel('False Positive Rate')\n",
    "plt.show()"
   ]
  },
  {
   "cell_type": "markdown",
   "id": "aa5b14e5",
   "metadata": {},
   "source": [
    "#### validation of sample unit "
   ]
  },
  {
   "cell_type": "code",
   "execution_count": 71,
   "id": "b705af9c",
   "metadata": {},
   "outputs": [],
   "source": [
    "result_for_gas = label.loc[label['sample'].isin(test_sample), ['sample', 'gas1_label']]\n",
    "result_for_gas.set_index('sample', inplace=True)\n",
    "result_for_gas['gas1_predict'] = None"
   ]
  },
  {
   "cell_type": "code",
   "execution_count": 72,
   "id": "3330c127",
   "metadata": {},
   "outputs": [
    {
     "data": {
      "text/html": [
       "<div>\n",
       "<style scoped>\n",
       "    .dataframe tbody tr th:only-of-type {\n",
       "        vertical-align: middle;\n",
       "    }\n",
       "\n",
       "    .dataframe tbody tr th {\n",
       "        vertical-align: top;\n",
       "    }\n",
       "\n",
       "    .dataframe thead th {\n",
       "        text-align: right;\n",
       "    }\n",
       "</style>\n",
       "<table border=\"1\" class=\"dataframe\">\n",
       "  <thead>\n",
       "    <tr style=\"text-align: right;\">\n",
       "      <th></th>\n",
       "      <th>gas1_label</th>\n",
       "      <th>gas1_predict</th>\n",
       "    </tr>\n",
       "    <tr>\n",
       "      <th>sample</th>\n",
       "      <th></th>\n",
       "      <th></th>\n",
       "    </tr>\n",
       "  </thead>\n",
       "  <tbody>\n",
       "    <tr>\n",
       "      <th>sample 2</th>\n",
       "      <td>1</td>\n",
       "      <td>None</td>\n",
       "    </tr>\n",
       "    <tr>\n",
       "      <th>sample 4</th>\n",
       "      <td>1</td>\n",
       "      <td>None</td>\n",
       "    </tr>\n",
       "    <tr>\n",
       "      <th>sample 8</th>\n",
       "      <td>1</td>\n",
       "      <td>None</td>\n",
       "    </tr>\n",
       "    <tr>\n",
       "      <th>sample 10</th>\n",
       "      <td>1</td>\n",
       "      <td>None</td>\n",
       "    </tr>\n",
       "    <tr>\n",
       "      <th>sample 15</th>\n",
       "      <td>0</td>\n",
       "      <td>None</td>\n",
       "    </tr>\n",
       "    <tr>\n",
       "      <th>sample 23</th>\n",
       "      <td>1</td>\n",
       "      <td>None</td>\n",
       "    </tr>\n",
       "    <tr>\n",
       "      <th>sample 25</th>\n",
       "      <td>1</td>\n",
       "      <td>None</td>\n",
       "    </tr>\n",
       "    <tr>\n",
       "      <th>sample 29</th>\n",
       "      <td>1</td>\n",
       "      <td>None</td>\n",
       "    </tr>\n",
       "    <tr>\n",
       "      <th>sample 30</th>\n",
       "      <td>1</td>\n",
       "      <td>None</td>\n",
       "    </tr>\n",
       "    <tr>\n",
       "      <th>sample 40</th>\n",
       "      <td>1</td>\n",
       "      <td>None</td>\n",
       "    </tr>\n",
       "    <tr>\n",
       "      <th>sample 45</th>\n",
       "      <td>1</td>\n",
       "      <td>None</td>\n",
       "    </tr>\n",
       "    <tr>\n",
       "      <th>sample 55</th>\n",
       "      <td>1</td>\n",
       "      <td>None</td>\n",
       "    </tr>\n",
       "    <tr>\n",
       "      <th>sample 57</th>\n",
       "      <td>1</td>\n",
       "      <td>None</td>\n",
       "    </tr>\n",
       "    <tr>\n",
       "      <th>sample 63</th>\n",
       "      <td>1</td>\n",
       "      <td>None</td>\n",
       "    </tr>\n",
       "    <tr>\n",
       "      <th>sample 64</th>\n",
       "      <td>1</td>\n",
       "      <td>None</td>\n",
       "    </tr>\n",
       "    <tr>\n",
       "      <th>sample 67</th>\n",
       "      <td>1</td>\n",
       "      <td>None</td>\n",
       "    </tr>\n",
       "    <tr>\n",
       "      <th>sample 81</th>\n",
       "      <td>0</td>\n",
       "      <td>None</td>\n",
       "    </tr>\n",
       "    <tr>\n",
       "      <th>sample 83</th>\n",
       "      <td>0</td>\n",
       "      <td>None</td>\n",
       "    </tr>\n",
       "    <tr>\n",
       "      <th>sample 86</th>\n",
       "      <td>0</td>\n",
       "      <td>None</td>\n",
       "    </tr>\n",
       "    <tr>\n",
       "      <th>sample 92</th>\n",
       "      <td>1</td>\n",
       "      <td>None</td>\n",
       "    </tr>\n",
       "  </tbody>\n",
       "</table>\n",
       "</div>"
      ],
      "text/plain": [
       "           gas1_label gas1_predict\n",
       "sample                            \n",
       "sample 2            1         None\n",
       "sample 4            1         None\n",
       "sample 8            1         None\n",
       "sample 10           1         None\n",
       "sample 15           0         None\n",
       "sample 23           1         None\n",
       "sample 25           1         None\n",
       "sample 29           1         None\n",
       "sample 30           1         None\n",
       "sample 40           1         None\n",
       "sample 45           1         None\n",
       "sample 55           1         None\n",
       "sample 57           1         None\n",
       "sample 63           1         None\n",
       "sample 64           1         None\n",
       "sample 67           1         None\n",
       "sample 81           0         None\n",
       "sample 83           0         None\n",
       "sample 86           0         None\n",
       "sample 92           1         None"
      ]
     },
     "execution_count": 72,
     "metadata": {},
     "output_type": "execute_result"
    }
   ],
   "source": [
    "result_for_gas"
   ]
  },
  {
   "cell_type": "code",
   "execution_count": 73,
   "id": "4e7557bd",
   "metadata": {},
   "outputs": [
    {
     "data": {
      "text/plain": [
       "['sample 2',\n",
       " 'sample 4',\n",
       " 'sample 8',\n",
       " 'sample 10',\n",
       " 'sample 15',\n",
       " 'sample 23',\n",
       " 'sample 25',\n",
       " 'sample 29',\n",
       " 'sample 30',\n",
       " 'sample 40',\n",
       " 'sample 45',\n",
       " 'sample 55',\n",
       " 'sample 57',\n",
       " 'sample 63',\n",
       " 'sample 64',\n",
       " 'sample 67',\n",
       " 'sample 81',\n",
       " 'sample 83',\n",
       " 'sample 86',\n",
       " 'sample 92']"
      ]
     },
     "execution_count": 73,
     "metadata": {},
     "output_type": "execute_result"
    }
   ],
   "source": [
    "ts_idx = result_for_gas.index.tolist()\n",
    "ts_idx"
   ]
  },
  {
   "cell_type": "code",
   "execution_count": 74,
   "id": "37f8c183",
   "metadata": {},
   "outputs": [
    {
     "name": "stdout",
     "output_type": "stream",
     "text": [
      "['sample 2', 'sample 4', 'sample 8', 'sample 10', 'sample 15', 'sample 23', 'sample 25', 'sample 29', 'sample 30', 'sample 40', 'sample 45', 'sample 55', 'sample 57', 'sample 63', 'sample 64', 'sample 67', 'sample 81', 'sample 83', 'sample 86', 'sample 92']\n"
     ]
    }
   ],
   "source": [
    "print(ts_idx)"
   ]
  },
  {
   "cell_type": "code",
   "execution_count": 78,
   "id": "bff2a0c7",
   "metadata": {},
   "outputs": [
    {
     "name": "stderr",
     "output_type": "stream",
     "text": [
      "100%|██████████████████████████████████████████████████████████████████████████████████| 20/20 [00:05<00:00,  3.90it/s]\n"
     ]
    }
   ],
   "source": [
    "new_test_x = []\n",
    "for ts in tqdm(ts_idx):\n",
    "    tmp_data = pd.read_excel(r'E:\\ML\\input\\ai nova\\강의_데이터 전처리_part 3\\sensor_data.xlsx', sheet_name=ts)\n",
    "    tmp_result = making_data(tmp_data, time_lag)\n",
    "    tmp_result = tmp_result.reshape(len(tmp_result), time_lag, 13, 1)\n",
    "    new_test_x.append(tmp_result)\n",
    "new_test_x = np.array(new_test_x)"
   ]
  },
  {
   "cell_type": "code",
   "execution_count": 79,
   "id": "36e34c38",
   "metadata": {},
   "outputs": [
    {
     "data": {
      "text/plain": [
       "(20,)"
      ]
     },
     "execution_count": 79,
     "metadata": {},
     "output_type": "execute_result"
    }
   ],
   "source": [
    "new_test_x.shape"
   ]
  },
  {
   "cell_type": "code",
   "execution_count": 80,
   "id": "4e01f0c5",
   "metadata": {},
   "outputs": [
    {
     "data": {
      "text/plain": [
       "(46, 30, 13, 1)"
      ]
     },
     "execution_count": 80,
     "metadata": {},
     "output_type": "execute_result"
    }
   ],
   "source": [
    "new_test_x[0].shape"
   ]
  },
  {
   "cell_type": "code",
   "execution_count": 81,
   "id": "195ed314",
   "metadata": {},
   "outputs": [
    {
     "data": {
      "text/plain": [
       "(33, 30, 13, 1)"
      ]
     },
     "execution_count": 81,
     "metadata": {},
     "output_type": "execute_result"
    }
   ],
   "source": [
    "new_test_x[1].shape"
   ]
  },
  {
   "cell_type": "code",
   "execution_count": 83,
   "id": "5dec3245",
   "metadata": {},
   "outputs": [
    {
     "data": {
      "text/plain": [
       "(30, 30, 13, 1)"
      ]
     },
     "execution_count": 83,
     "metadata": {},
     "output_type": "execute_result"
    }
   ],
   "source": [
    "new_test_x[19].shape"
   ]
  },
  {
   "cell_type": "code",
   "execution_count": 85,
   "id": "28b462ce",
   "metadata": {},
   "outputs": [],
   "source": [
    "y_pred_tmp = models.predict(new_test_x[0])\n",
    "y_pred = (y_pred_tmp.squeeze() > 0.5).astype('int')"
   ]
  },
  {
   "cell_type": "code",
   "execution_count": 86,
   "id": "197ac1bf",
   "metadata": {},
   "outputs": [
    {
     "data": {
      "text/plain": [
       "0"
      ]
     },
     "execution_count": 86,
     "metadata": {},
     "output_type": "execute_result"
    }
   ],
   "source": [
    "(y_pred == 0).sum()"
   ]
  },
  {
   "cell_type": "code",
   "execution_count": 87,
   "id": "b9e24f6c",
   "metadata": {},
   "outputs": [
    {
     "data": {
      "text/plain": [
       "46"
      ]
     },
     "execution_count": 87,
     "metadata": {},
     "output_type": "execute_result"
    }
   ],
   "source": [
    "(y_pred == 1).sum()"
   ]
  },
  {
   "cell_type": "code",
   "execution_count": 88,
   "id": "82434368",
   "metadata": {},
   "outputs": [],
   "source": [
    "threshold = np.floor(len(new_test_x[0]) / 2) + 1"
   ]
  },
  {
   "cell_type": "code",
   "execution_count": 89,
   "id": "15a9bd43",
   "metadata": {},
   "outputs": [
    {
     "data": {
      "text/plain": [
       "24.0"
      ]
     },
     "execution_count": 89,
     "metadata": {},
     "output_type": "execute_result"
    }
   ],
   "source": [
    "threshold"
   ]
  },
  {
   "cell_type": "code",
   "execution_count": 90,
   "id": "5b17b542",
   "metadata": {},
   "outputs": [
    {
     "name": "stderr",
     "output_type": "stream",
     "text": [
      "100%|██████████████████████████████████████████████████████████████████████████████████| 20/20 [00:01<00:00, 10.91it/s]\n"
     ]
    }
   ],
   "source": [
    "# total data \n",
    "for idx in tqdm(range(len(new_test_x))):\n",
    "    y_pred_tmp = models.predict(new_test_x[idx])\n",
    "    y_pred = (y_pred_tmp.squeeze() > 0.5).astype('int')\n",
    "    \n",
    "    zero_check = (y_pred == 0).sum()\n",
    "    threshold = np.floor(len(new_test_x[idx]) / 2) + 1\n",
    "    \n",
    "    if zero_check > threshold:\n",
    "        result_for_gas['gas1_predict'][idx] = 0\n",
    "    else:\n",
    "        result_for_gas['gas1_predict'][idx] = 1"
   ]
  },
  {
   "cell_type": "code",
   "execution_count": 91,
   "id": "ea3fbd65",
   "metadata": {},
   "outputs": [
    {
     "data": {
      "text/html": [
       "<div>\n",
       "<style scoped>\n",
       "    .dataframe tbody tr th:only-of-type {\n",
       "        vertical-align: middle;\n",
       "    }\n",
       "\n",
       "    .dataframe tbody tr th {\n",
       "        vertical-align: top;\n",
       "    }\n",
       "\n",
       "    .dataframe thead th {\n",
       "        text-align: right;\n",
       "    }\n",
       "</style>\n",
       "<table border=\"1\" class=\"dataframe\">\n",
       "  <thead>\n",
       "    <tr style=\"text-align: right;\">\n",
       "      <th></th>\n",
       "      <th>gas1_label</th>\n",
       "      <th>gas1_predict</th>\n",
       "    </tr>\n",
       "    <tr>\n",
       "      <th>sample</th>\n",
       "      <th></th>\n",
       "      <th></th>\n",
       "    </tr>\n",
       "  </thead>\n",
       "  <tbody>\n",
       "    <tr>\n",
       "      <th>sample 2</th>\n",
       "      <td>1</td>\n",
       "      <td>1</td>\n",
       "    </tr>\n",
       "    <tr>\n",
       "      <th>sample 4</th>\n",
       "      <td>1</td>\n",
       "      <td>1</td>\n",
       "    </tr>\n",
       "    <tr>\n",
       "      <th>sample 8</th>\n",
       "      <td>1</td>\n",
       "      <td>1</td>\n",
       "    </tr>\n",
       "    <tr>\n",
       "      <th>sample 10</th>\n",
       "      <td>1</td>\n",
       "      <td>1</td>\n",
       "    </tr>\n",
       "    <tr>\n",
       "      <th>sample 15</th>\n",
       "      <td>0</td>\n",
       "      <td>0</td>\n",
       "    </tr>\n",
       "    <tr>\n",
       "      <th>sample 23</th>\n",
       "      <td>1</td>\n",
       "      <td>1</td>\n",
       "    </tr>\n",
       "    <tr>\n",
       "      <th>sample 25</th>\n",
       "      <td>1</td>\n",
       "      <td>1</td>\n",
       "    </tr>\n",
       "    <tr>\n",
       "      <th>sample 29</th>\n",
       "      <td>1</td>\n",
       "      <td>1</td>\n",
       "    </tr>\n",
       "    <tr>\n",
       "      <th>sample 30</th>\n",
       "      <td>1</td>\n",
       "      <td>1</td>\n",
       "    </tr>\n",
       "    <tr>\n",
       "      <th>sample 40</th>\n",
       "      <td>1</td>\n",
       "      <td>1</td>\n",
       "    </tr>\n",
       "    <tr>\n",
       "      <th>sample 45</th>\n",
       "      <td>1</td>\n",
       "      <td>1</td>\n",
       "    </tr>\n",
       "    <tr>\n",
       "      <th>sample 55</th>\n",
       "      <td>1</td>\n",
       "      <td>1</td>\n",
       "    </tr>\n",
       "    <tr>\n",
       "      <th>sample 57</th>\n",
       "      <td>1</td>\n",
       "      <td>1</td>\n",
       "    </tr>\n",
       "    <tr>\n",
       "      <th>sample 63</th>\n",
       "      <td>1</td>\n",
       "      <td>1</td>\n",
       "    </tr>\n",
       "    <tr>\n",
       "      <th>sample 64</th>\n",
       "      <td>1</td>\n",
       "      <td>1</td>\n",
       "    </tr>\n",
       "    <tr>\n",
       "      <th>sample 67</th>\n",
       "      <td>1</td>\n",
       "      <td>1</td>\n",
       "    </tr>\n",
       "    <tr>\n",
       "      <th>sample 81</th>\n",
       "      <td>0</td>\n",
       "      <td>0</td>\n",
       "    </tr>\n",
       "    <tr>\n",
       "      <th>sample 83</th>\n",
       "      <td>0</td>\n",
       "      <td>0</td>\n",
       "    </tr>\n",
       "    <tr>\n",
       "      <th>sample 86</th>\n",
       "      <td>0</td>\n",
       "      <td>0</td>\n",
       "    </tr>\n",
       "    <tr>\n",
       "      <th>sample 92</th>\n",
       "      <td>1</td>\n",
       "      <td>1</td>\n",
       "    </tr>\n",
       "  </tbody>\n",
       "</table>\n",
       "</div>"
      ],
      "text/plain": [
       "           gas1_label gas1_predict\n",
       "sample                            \n",
       "sample 2            1            1\n",
       "sample 4            1            1\n",
       "sample 8            1            1\n",
       "sample 10           1            1\n",
       "sample 15           0            0\n",
       "sample 23           1            1\n",
       "sample 25           1            1\n",
       "sample 29           1            1\n",
       "sample 30           1            1\n",
       "sample 40           1            1\n",
       "sample 45           1            1\n",
       "sample 55           1            1\n",
       "sample 57           1            1\n",
       "sample 63           1            1\n",
       "sample 64           1            1\n",
       "sample 67           1            1\n",
       "sample 81           0            0\n",
       "sample 83           0            0\n",
       "sample 86           0            0\n",
       "sample 92           1            1"
      ]
     },
     "execution_count": 91,
     "metadata": {},
     "output_type": "execute_result"
    }
   ],
   "source": [
    "result_for_gas"
   ]
  },
  {
   "cell_type": "code",
   "execution_count": 92,
   "id": "855737aa",
   "metadata": {},
   "outputs": [],
   "source": [
    "y_true_c1 = result_for_gas['gas1_label'].tolist()\n",
    "y_pred_c1 = result_for_gas['gas1_predict'].tolist()"
   ]
  },
  {
   "cell_type": "code",
   "execution_count": 93,
   "id": "97d2b5c7",
   "metadata": {},
   "outputs": [
    {
     "data": {
      "text/plain": [
       "array([[ 4,  0],\n",
       "       [ 0, 16]], dtype=int64)"
      ]
     },
     "execution_count": 93,
     "metadata": {},
     "output_type": "execute_result"
    }
   ],
   "source": [
    "confusion_matrix(y_true_c1, y_pred_c1)"
   ]
  },
  {
   "cell_type": "code",
   "execution_count": 94,
   "id": "2c5d33e1",
   "metadata": {},
   "outputs": [
    {
     "data": {
      "text/plain": [
       "1.0"
      ]
     },
     "execution_count": 94,
     "metadata": {},
     "output_type": "execute_result"
    }
   ],
   "source": [
    "accuracy_score(y_true_c1, y_pred_c1) "
   ]
  },
  {
   "cell_type": "code",
   "execution_count": 95,
   "id": "5ccbd80f",
   "metadata": {},
   "outputs": [
    {
     "data": {
      "text/plain": [
       "1.0"
      ]
     },
     "execution_count": 95,
     "metadata": {},
     "output_type": "execute_result"
    }
   ],
   "source": [
    "precision_score(y_true_c1, y_pred_c1)"
   ]
  },
  {
   "cell_type": "code",
   "execution_count": 96,
   "id": "077626f3",
   "metadata": {},
   "outputs": [
    {
     "data": {
      "text/plain": [
       "1.0"
      ]
     },
     "execution_count": 96,
     "metadata": {},
     "output_type": "execute_result"
    }
   ],
   "source": [
    "recall_score(y_true_c1, y_pred_c1)"
   ]
  },
  {
   "cell_type": "code",
   "execution_count": 97,
   "id": "d5a71e4a",
   "metadata": {},
   "outputs": [
    {
     "data": {
      "text/plain": [
       "1.0"
      ]
     },
     "execution_count": 97,
     "metadata": {},
     "output_type": "execute_result"
    }
   ],
   "source": [
    "f1_score(y_true_c1, y_pred_c1)"
   ]
  }
 ],
 "metadata": {
  "kernelspec": {
   "display_name": "Python 3 (ipykernel)",
   "language": "python",
   "name": "python3"
  },
  "language_info": {
   "codemirror_mode": {
    "name": "ipython",
    "version": 3
   },
   "file_extension": ".py",
   "mimetype": "text/x-python",
   "name": "python",
   "nbconvert_exporter": "python",
   "pygments_lexer": "ipython3",
   "version": "3.9.12"
  }
 },
 "nbformat": 4,
 "nbformat_minor": 5
}
